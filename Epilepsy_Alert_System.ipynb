{
  "nbformat": 4,
  "nbformat_minor": 0,
  "metadata": {
    "colab": {
      "provenance": [],
      "gpuType": "T4",
      "authorship_tag": "ABX9TyPuPmIU60KfKHGDFEAqCoF7",
      "include_colab_link": true
    },
    "kernelspec": {
      "name": "python3",
      "display_name": "Python 3"
    },
    "language_info": {
      "name": "python"
    },
    "accelerator": "GPU"
  },
  "cells": [
    {
      "cell_type": "markdown",
      "metadata": {
        "id": "view-in-github",
        "colab_type": "text"
      },
      "source": [
        "<a href=\"https://colab.research.google.com/github/SahilShirodkar20/Epilepsy-Alert-System/blob/main/Epilepsy_Alert_System.ipynb\" target=\"_parent\"><img src=\"https://colab.research.google.com/assets/colab-badge.svg\" alt=\"Open In Colab\"/></a>"
      ]
    },
    {
      "cell_type": "code",
      "execution_count": null,
      "metadata": {
        "colab": {
          "base_uri": "https://localhost:8080/"
        },
        "id": "EqpeKQsAoKgq",
        "outputId": "7d428a1a-71ef-4072-8417-b5b2ccd9661a"
      },
      "outputs": [
        {
          "output_type": "stream",
          "name": "stdout",
          "text": [
            "Mounted at /content/gdrive\n"
          ]
        }
      ],
      "source": [
        "from google.colab import drive\n",
        "\n",
        "drive.mount('/content/gdrive')\n"
      ]
    },
    {
      "cell_type": "code",
      "source": [
        "ROOT_DIR = '/content/gdrive/MyDrive/EPILEPSY_ALERT_SYSTEM'"
      ],
      "metadata": {
        "id": "E_T-5U2Go_Lp"
      },
      "execution_count": null,
      "outputs": []
    },
    {
      "cell_type": "code",
      "source": [
        "%cd gdrive/MyDrive/EPILEPSY_ALERT_SYSTEM"
      ],
      "metadata": {
        "colab": {
          "base_uri": "https://localhost:8080/"
        },
        "id": "zvO2AFCVo_ne",
        "outputId": "0883230e-54b9-4b95-86c4-d9e242dcf119"
      },
      "execution_count": null,
      "outputs": [
        {
          "output_type": "stream",
          "name": "stdout",
          "text": [
            "/content/gdrive/MyDrive/EPILEPSY_ALERT_SYSTEM\n"
          ]
        }
      ]
    },
    {
      "cell_type": "code",
      "source": [
        "! pip install kaggle"
      ],
      "metadata": {
        "colab": {
          "base_uri": "https://localhost:8080/"
        },
        "id": "bF1S-Yaao_vm",
        "outputId": "44c067b5-50eb-4d55-966e-d48e5897d2e2"
      },
      "execution_count": null,
      "outputs": [
        {
          "output_type": "stream",
          "name": "stdout",
          "text": [
            "Requirement already satisfied: kaggle in /usr/local/lib/python3.10/dist-packages (1.5.16)\n",
            "Requirement already satisfied: six>=1.10 in /usr/local/lib/python3.10/dist-packages (from kaggle) (1.16.0)\n",
            "Requirement already satisfied: certifi in /usr/local/lib/python3.10/dist-packages (from kaggle) (2024.2.2)\n",
            "Requirement already satisfied: python-dateutil in /usr/local/lib/python3.10/dist-packages (from kaggle) (2.8.2)\n",
            "Requirement already satisfied: requests in /usr/local/lib/python3.10/dist-packages (from kaggle) (2.31.0)\n",
            "Requirement already satisfied: tqdm in /usr/local/lib/python3.10/dist-packages (from kaggle) (4.66.2)\n",
            "Requirement already satisfied: python-slugify in /usr/local/lib/python3.10/dist-packages (from kaggle) (8.0.4)\n",
            "Requirement already satisfied: urllib3 in /usr/local/lib/python3.10/dist-packages (from kaggle) (2.0.7)\n",
            "Requirement already satisfied: bleach in /usr/local/lib/python3.10/dist-packages (from kaggle) (6.1.0)\n",
            "Requirement already satisfied: webencodings in /usr/local/lib/python3.10/dist-packages (from bleach->kaggle) (0.5.1)\n",
            "Requirement already satisfied: text-unidecode>=1.3 in /usr/local/lib/python3.10/dist-packages (from python-slugify->kaggle) (1.3)\n",
            "Requirement already satisfied: charset-normalizer<4,>=2 in /usr/local/lib/python3.10/dist-packages (from requests->kaggle) (3.3.2)\n",
            "Requirement already satisfied: idna<4,>=2.5 in /usr/local/lib/python3.10/dist-packages (from requests->kaggle) (3.7)\n"
          ]
        }
      ]
    },
    {
      "cell_type": "code",
      "source": [
        "! mkdir ~/.kaggle"
      ],
      "metadata": {
        "id": "awk8UQ3Uo_2x",
        "colab": {
          "base_uri": "https://localhost:8080/"
        },
        "outputId": "c2afaf31-ef46-4586-b58e-9c2bb4c675bc"
      },
      "execution_count": null,
      "outputs": [
        {
          "output_type": "stream",
          "name": "stdout",
          "text": [
            "mkdir: cannot create directory ‘/root/.kaggle’: File exists\n"
          ]
        }
      ]
    },
    {
      "cell_type": "code",
      "source": [
        "!cp /content/gdrive/MyDrive/EPILEPSY_ALERT_SYSTEM/Kaggle_API_Credentials/kaggle.json ~/.kaggle/kaggle.json"
      ],
      "metadata": {
        "id": "qVDeC8aCo_9f"
      },
      "execution_count": null,
      "outputs": []
    },
    {
      "cell_type": "code",
      "source": [
        "! chmod 600 ~/.kaggle/kaggle.json"
      ],
      "metadata": {
        "id": "S3y1TfZapAEo"
      },
      "execution_count": null,
      "outputs": []
    },
    {
      "cell_type": "code",
      "source": [
        "! kaggle datasets download uttejkumarkandagatla/fall-detection-dataset"
      ],
      "metadata": {
        "id": "NE-fp-SqpALO",
        "colab": {
          "base_uri": "https://localhost:8080/"
        },
        "outputId": "d2855480-f13c-42f7-ca7e-7f7109a22e8b"
      },
      "execution_count": null,
      "outputs": [
        {
          "output_type": "stream",
          "name": "stdout",
          "text": [
            "Downloading fall-detection-dataset.zip to /content/gdrive/MyDrive/EPILEPSY_ALERT_SYSTEM\n",
            " 95% 47.0M/49.7M [00:00<00:00, 120MB/s]\n",
            "100% 49.7M/49.7M [00:00<00:00, 115MB/s]\n"
          ]
        }
      ]
    },
    {
      "cell_type": "code",
      "source": [
        "!unzip '/content/gdrive/MyDrive/EPILEPSY_ALERT_SYSTEM/fall-detection-dataset.zip' -d '/content/gdrive/MyDrive/EPILEPSY_ALERT_SYSTEM'"
      ],
      "metadata": {
        "id": "XZqvrXuUpARm",
        "colab": {
          "base_uri": "https://localhost:8080/"
        },
        "outputId": "65af45c6-c543-466f-cef6-aaecc044e4d8"
      },
      "execution_count": null,
      "outputs": [
        {
          "output_type": "stream",
          "name": "stdout",
          "text": [
            "Archive:  /content/gdrive/MyDrive/EPILEPSY_ALERT_SYSTEM/fall-detection-dataset.zip\n",
            "  inflating: /content/gdrive/MyDrive/EPILEPSY_ALERT_SYSTEM/fall_dataset/images/train/fall001.jpg  \n",
            "  inflating: /content/gdrive/MyDrive/EPILEPSY_ALERT_SYSTEM/fall_dataset/images/train/fall002.jpg  \n",
            "  inflating: /content/gdrive/MyDrive/EPILEPSY_ALERT_SYSTEM/fall_dataset/images/train/fall003.jpg  \n",
            "  inflating: /content/gdrive/MyDrive/EPILEPSY_ALERT_SYSTEM/fall_dataset/images/train/fall004.jpg  \n",
            "  inflating: /content/gdrive/MyDrive/EPILEPSY_ALERT_SYSTEM/fall_dataset/images/train/fall005.jpg  \n",
            "  inflating: /content/gdrive/MyDrive/EPILEPSY_ALERT_SYSTEM/fall_dataset/images/train/fall006.jpg  \n",
            "  inflating: /content/gdrive/MyDrive/EPILEPSY_ALERT_SYSTEM/fall_dataset/images/train/fall007.jpg  \n",
            "  inflating: /content/gdrive/MyDrive/EPILEPSY_ALERT_SYSTEM/fall_dataset/images/train/fall008.jpg  \n",
            "  inflating: /content/gdrive/MyDrive/EPILEPSY_ALERT_SYSTEM/fall_dataset/images/train/fall009.jpg  \n",
            "  inflating: /content/gdrive/MyDrive/EPILEPSY_ALERT_SYSTEM/fall_dataset/images/train/fall010.jpg  \n",
            "  inflating: /content/gdrive/MyDrive/EPILEPSY_ALERT_SYSTEM/fall_dataset/images/train/fall011.jpg  \n",
            "  inflating: /content/gdrive/MyDrive/EPILEPSY_ALERT_SYSTEM/fall_dataset/images/train/fall012.jpg  \n",
            "  inflating: /content/gdrive/MyDrive/EPILEPSY_ALERT_SYSTEM/fall_dataset/images/train/fall013.jpg  \n",
            "  inflating: /content/gdrive/MyDrive/EPILEPSY_ALERT_SYSTEM/fall_dataset/images/train/fall014.jpg  \n",
            "  inflating: /content/gdrive/MyDrive/EPILEPSY_ALERT_SYSTEM/fall_dataset/images/train/fall015.jpg  \n",
            "  inflating: /content/gdrive/MyDrive/EPILEPSY_ALERT_SYSTEM/fall_dataset/images/train/fall016.jpg  \n",
            "  inflating: /content/gdrive/MyDrive/EPILEPSY_ALERT_SYSTEM/fall_dataset/images/train/fall017.jpg  \n",
            "  inflating: /content/gdrive/MyDrive/EPILEPSY_ALERT_SYSTEM/fall_dataset/images/train/fall018.jpg  \n",
            "  inflating: /content/gdrive/MyDrive/EPILEPSY_ALERT_SYSTEM/fall_dataset/images/train/fall019.jpg  \n",
            "  inflating: /content/gdrive/MyDrive/EPILEPSY_ALERT_SYSTEM/fall_dataset/images/train/fall020.jpg  \n",
            "  inflating: /content/gdrive/MyDrive/EPILEPSY_ALERT_SYSTEM/fall_dataset/images/train/fall021.jpg  \n",
            "  inflating: /content/gdrive/MyDrive/EPILEPSY_ALERT_SYSTEM/fall_dataset/images/train/fall022.jpg  \n",
            "  inflating: /content/gdrive/MyDrive/EPILEPSY_ALERT_SYSTEM/fall_dataset/images/train/fall023.jpg  \n",
            "  inflating: /content/gdrive/MyDrive/EPILEPSY_ALERT_SYSTEM/fall_dataset/images/train/fall024.jpg  \n",
            "  inflating: /content/gdrive/MyDrive/EPILEPSY_ALERT_SYSTEM/fall_dataset/images/train/fall025.jpg  \n",
            "  inflating: /content/gdrive/MyDrive/EPILEPSY_ALERT_SYSTEM/fall_dataset/images/train/fall026.jpg  \n",
            "  inflating: /content/gdrive/MyDrive/EPILEPSY_ALERT_SYSTEM/fall_dataset/images/train/fall027.jpg  \n",
            "  inflating: /content/gdrive/MyDrive/EPILEPSY_ALERT_SYSTEM/fall_dataset/images/train/fall028.jpg  \n",
            "  inflating: /content/gdrive/MyDrive/EPILEPSY_ALERT_SYSTEM/fall_dataset/images/train/fall029.jpg  \n",
            "  inflating: /content/gdrive/MyDrive/EPILEPSY_ALERT_SYSTEM/fall_dataset/images/train/fall030.jpg  \n",
            "  inflating: /content/gdrive/MyDrive/EPILEPSY_ALERT_SYSTEM/fall_dataset/images/train/fall031.jpg  \n",
            "  inflating: /content/gdrive/MyDrive/EPILEPSY_ALERT_SYSTEM/fall_dataset/images/train/fall032.jpg  \n",
            "  inflating: /content/gdrive/MyDrive/EPILEPSY_ALERT_SYSTEM/fall_dataset/images/train/fall033.jpg  \n",
            "  inflating: /content/gdrive/MyDrive/EPILEPSY_ALERT_SYSTEM/fall_dataset/images/train/fall034.jpg  \n",
            "  inflating: /content/gdrive/MyDrive/EPILEPSY_ALERT_SYSTEM/fall_dataset/images/train/fall035.jpg  \n",
            "  inflating: /content/gdrive/MyDrive/EPILEPSY_ALERT_SYSTEM/fall_dataset/images/train/fall036.jpg  \n",
            "  inflating: /content/gdrive/MyDrive/EPILEPSY_ALERT_SYSTEM/fall_dataset/images/train/fall037.jpg  \n",
            "  inflating: /content/gdrive/MyDrive/EPILEPSY_ALERT_SYSTEM/fall_dataset/images/train/fall038.jpg  \n",
            "  inflating: /content/gdrive/MyDrive/EPILEPSY_ALERT_SYSTEM/fall_dataset/images/train/fall039.jpg  \n",
            "  inflating: /content/gdrive/MyDrive/EPILEPSY_ALERT_SYSTEM/fall_dataset/images/train/fall040.jpg  \n",
            "  inflating: /content/gdrive/MyDrive/EPILEPSY_ALERT_SYSTEM/fall_dataset/images/train/fall041.jpg  \n",
            "  inflating: /content/gdrive/MyDrive/EPILEPSY_ALERT_SYSTEM/fall_dataset/images/train/fall042.jpg  \n",
            "  inflating: /content/gdrive/MyDrive/EPILEPSY_ALERT_SYSTEM/fall_dataset/images/train/fall043.jpg  \n",
            "  inflating: /content/gdrive/MyDrive/EPILEPSY_ALERT_SYSTEM/fall_dataset/images/train/fall044.jpg  \n",
            "  inflating: /content/gdrive/MyDrive/EPILEPSY_ALERT_SYSTEM/fall_dataset/images/train/fall045.jpg  \n",
            "  inflating: /content/gdrive/MyDrive/EPILEPSY_ALERT_SYSTEM/fall_dataset/images/train/fall046.jpg  \n",
            "  inflating: /content/gdrive/MyDrive/EPILEPSY_ALERT_SYSTEM/fall_dataset/images/train/fall047.jpg  \n",
            "  inflating: /content/gdrive/MyDrive/EPILEPSY_ALERT_SYSTEM/fall_dataset/images/train/fall048.jpg  \n",
            "  inflating: /content/gdrive/MyDrive/EPILEPSY_ALERT_SYSTEM/fall_dataset/images/train/fall049.jpg  \n",
            "  inflating: /content/gdrive/MyDrive/EPILEPSY_ALERT_SYSTEM/fall_dataset/images/train/fall050.jpg  \n",
            "  inflating: /content/gdrive/MyDrive/EPILEPSY_ALERT_SYSTEM/fall_dataset/images/train/fall051.jpg  \n",
            "  inflating: /content/gdrive/MyDrive/EPILEPSY_ALERT_SYSTEM/fall_dataset/images/train/fall052.jpg  \n",
            "  inflating: /content/gdrive/MyDrive/EPILEPSY_ALERT_SYSTEM/fall_dataset/images/train/fall053.jpg  \n",
            "  inflating: /content/gdrive/MyDrive/EPILEPSY_ALERT_SYSTEM/fall_dataset/images/train/fall054.jpg  \n",
            "  inflating: /content/gdrive/MyDrive/EPILEPSY_ALERT_SYSTEM/fall_dataset/images/train/fall055.jpg  \n",
            "  inflating: /content/gdrive/MyDrive/EPILEPSY_ALERT_SYSTEM/fall_dataset/images/train/fall056.jpg  \n",
            "  inflating: /content/gdrive/MyDrive/EPILEPSY_ALERT_SYSTEM/fall_dataset/images/train/fall057.jpg  \n",
            "  inflating: /content/gdrive/MyDrive/EPILEPSY_ALERT_SYSTEM/fall_dataset/images/train/fall058.jpg  \n",
            "  inflating: /content/gdrive/MyDrive/EPILEPSY_ALERT_SYSTEM/fall_dataset/images/train/fall059.jpg  \n",
            "  inflating: /content/gdrive/MyDrive/EPILEPSY_ALERT_SYSTEM/fall_dataset/images/train/fall060.jpg  \n",
            "  inflating: /content/gdrive/MyDrive/EPILEPSY_ALERT_SYSTEM/fall_dataset/images/train/fall061.jpg  \n",
            "  inflating: /content/gdrive/MyDrive/EPILEPSY_ALERT_SYSTEM/fall_dataset/images/train/fall062.jpg  \n",
            "  inflating: /content/gdrive/MyDrive/EPILEPSY_ALERT_SYSTEM/fall_dataset/images/train/fall063.jpg  \n",
            "  inflating: /content/gdrive/MyDrive/EPILEPSY_ALERT_SYSTEM/fall_dataset/images/train/fall064.jpg  \n",
            "  inflating: /content/gdrive/MyDrive/EPILEPSY_ALERT_SYSTEM/fall_dataset/images/train/fall065.jpg  \n",
            "  inflating: /content/gdrive/MyDrive/EPILEPSY_ALERT_SYSTEM/fall_dataset/images/train/fall066.jpg  \n",
            "  inflating: /content/gdrive/MyDrive/EPILEPSY_ALERT_SYSTEM/fall_dataset/images/train/fall067.jpg  \n",
            "  inflating: /content/gdrive/MyDrive/EPILEPSY_ALERT_SYSTEM/fall_dataset/images/train/fall068.jpg  \n",
            "  inflating: /content/gdrive/MyDrive/EPILEPSY_ALERT_SYSTEM/fall_dataset/images/train/fall069.jpg  \n",
            "  inflating: /content/gdrive/MyDrive/EPILEPSY_ALERT_SYSTEM/fall_dataset/images/train/fall070.jpg  \n",
            "  inflating: /content/gdrive/MyDrive/EPILEPSY_ALERT_SYSTEM/fall_dataset/images/train/fall071.jpg  \n",
            "  inflating: /content/gdrive/MyDrive/EPILEPSY_ALERT_SYSTEM/fall_dataset/images/train/fall072.jpg  \n",
            "  inflating: /content/gdrive/MyDrive/EPILEPSY_ALERT_SYSTEM/fall_dataset/images/train/fall073.jpg  \n",
            "  inflating: /content/gdrive/MyDrive/EPILEPSY_ALERT_SYSTEM/fall_dataset/images/train/fall074.jpg  \n",
            "  inflating: /content/gdrive/MyDrive/EPILEPSY_ALERT_SYSTEM/fall_dataset/images/train/fall075.jpg  \n",
            "  inflating: /content/gdrive/MyDrive/EPILEPSY_ALERT_SYSTEM/fall_dataset/images/train/fall076.jpg  \n",
            "  inflating: /content/gdrive/MyDrive/EPILEPSY_ALERT_SYSTEM/fall_dataset/images/train/fall077.jpg  \n",
            "  inflating: /content/gdrive/MyDrive/EPILEPSY_ALERT_SYSTEM/fall_dataset/images/train/fall078.jpg  \n",
            "  inflating: /content/gdrive/MyDrive/EPILEPSY_ALERT_SYSTEM/fall_dataset/images/train/fall079.jpg  \n",
            "  inflating: /content/gdrive/MyDrive/EPILEPSY_ALERT_SYSTEM/fall_dataset/images/train/fall080.jpg  \n",
            "  inflating: /content/gdrive/MyDrive/EPILEPSY_ALERT_SYSTEM/fall_dataset/images/train/fall081.jpg  \n",
            "  inflating: /content/gdrive/MyDrive/EPILEPSY_ALERT_SYSTEM/fall_dataset/images/train/fall082.jpg  \n",
            "  inflating: /content/gdrive/MyDrive/EPILEPSY_ALERT_SYSTEM/fall_dataset/images/train/fall083.jpg  \n",
            "  inflating: /content/gdrive/MyDrive/EPILEPSY_ALERT_SYSTEM/fall_dataset/images/train/fall084.jpg  \n",
            "  inflating: /content/gdrive/MyDrive/EPILEPSY_ALERT_SYSTEM/fall_dataset/images/train/fall085.jpg  \n",
            "  inflating: /content/gdrive/MyDrive/EPILEPSY_ALERT_SYSTEM/fall_dataset/images/train/fall086.jpg  \n",
            "  inflating: /content/gdrive/MyDrive/EPILEPSY_ALERT_SYSTEM/fall_dataset/images/train/fall087.jpg  \n",
            "  inflating: /content/gdrive/MyDrive/EPILEPSY_ALERT_SYSTEM/fall_dataset/images/train/fall088.jpg  \n",
            "  inflating: /content/gdrive/MyDrive/EPILEPSY_ALERT_SYSTEM/fall_dataset/images/train/fall089.jpg  \n",
            "  inflating: /content/gdrive/MyDrive/EPILEPSY_ALERT_SYSTEM/fall_dataset/images/train/fall090.jpg  \n",
            "  inflating: /content/gdrive/MyDrive/EPILEPSY_ALERT_SYSTEM/fall_dataset/images/train/fall091.jpg  \n",
            "  inflating: /content/gdrive/MyDrive/EPILEPSY_ALERT_SYSTEM/fall_dataset/images/train/fall092.jpg  \n",
            "  inflating: /content/gdrive/MyDrive/EPILEPSY_ALERT_SYSTEM/fall_dataset/images/train/fall093.jpg  \n",
            "  inflating: /content/gdrive/MyDrive/EPILEPSY_ALERT_SYSTEM/fall_dataset/images/train/fall094.jpg  \n",
            "  inflating: /content/gdrive/MyDrive/EPILEPSY_ALERT_SYSTEM/fall_dataset/images/train/fall095.jpg  \n",
            "  inflating: /content/gdrive/MyDrive/EPILEPSY_ALERT_SYSTEM/fall_dataset/images/train/fall096.jpg  \n",
            "  inflating: /content/gdrive/MyDrive/EPILEPSY_ALERT_SYSTEM/fall_dataset/images/train/fall097.jpg  \n",
            "  inflating: /content/gdrive/MyDrive/EPILEPSY_ALERT_SYSTEM/fall_dataset/images/train/fall098.jpg  \n",
            "  inflating: /content/gdrive/MyDrive/EPILEPSY_ALERT_SYSTEM/fall_dataset/images/train/fall099.jpg  \n",
            "  inflating: /content/gdrive/MyDrive/EPILEPSY_ALERT_SYSTEM/fall_dataset/images/train/fall100.jpg  \n",
            "  inflating: /content/gdrive/MyDrive/EPILEPSY_ALERT_SYSTEM/fall_dataset/images/train/fall101.jpg  \n",
            "  inflating: /content/gdrive/MyDrive/EPILEPSY_ALERT_SYSTEM/fall_dataset/images/train/fall102.jpg  \n",
            "  inflating: /content/gdrive/MyDrive/EPILEPSY_ALERT_SYSTEM/fall_dataset/images/train/fall103.jpg  \n",
            "  inflating: /content/gdrive/MyDrive/EPILEPSY_ALERT_SYSTEM/fall_dataset/images/train/fall104.jpg  \n",
            "  inflating: /content/gdrive/MyDrive/EPILEPSY_ALERT_SYSTEM/fall_dataset/images/train/fall105.jpg  \n",
            "  inflating: /content/gdrive/MyDrive/EPILEPSY_ALERT_SYSTEM/fall_dataset/images/train/fall106.jpg  \n",
            "  inflating: /content/gdrive/MyDrive/EPILEPSY_ALERT_SYSTEM/fall_dataset/images/train/fall107.jpg  \n",
            "  inflating: /content/gdrive/MyDrive/EPILEPSY_ALERT_SYSTEM/fall_dataset/images/train/fall108.jpg  \n",
            "  inflating: /content/gdrive/MyDrive/EPILEPSY_ALERT_SYSTEM/fall_dataset/images/train/fall109.jpg  \n",
            "  inflating: /content/gdrive/MyDrive/EPILEPSY_ALERT_SYSTEM/fall_dataset/images/train/fall110.jpg  \n",
            "  inflating: /content/gdrive/MyDrive/EPILEPSY_ALERT_SYSTEM/fall_dataset/images/train/fall111.jpg  \n",
            "  inflating: /content/gdrive/MyDrive/EPILEPSY_ALERT_SYSTEM/fall_dataset/images/train/fall112.jpg  \n",
            "  inflating: /content/gdrive/MyDrive/EPILEPSY_ALERT_SYSTEM/fall_dataset/images/train/fall113.jpg  \n",
            "  inflating: /content/gdrive/MyDrive/EPILEPSY_ALERT_SYSTEM/fall_dataset/images/train/fall114.jpg  \n",
            "  inflating: /content/gdrive/MyDrive/EPILEPSY_ALERT_SYSTEM/fall_dataset/images/train/fall115.jpg  \n",
            "  inflating: /content/gdrive/MyDrive/EPILEPSY_ALERT_SYSTEM/fall_dataset/images/train/fall116.jpg  \n",
            "  inflating: /content/gdrive/MyDrive/EPILEPSY_ALERT_SYSTEM/fall_dataset/images/train/fall117.jpg  \n",
            "  inflating: /content/gdrive/MyDrive/EPILEPSY_ALERT_SYSTEM/fall_dataset/images/train/fall118.jpg  \n",
            "  inflating: /content/gdrive/MyDrive/EPILEPSY_ALERT_SYSTEM/fall_dataset/images/train/fall119.jpg  \n",
            "  inflating: /content/gdrive/MyDrive/EPILEPSY_ALERT_SYSTEM/fall_dataset/images/train/fall120.jpg  \n",
            "  inflating: /content/gdrive/MyDrive/EPILEPSY_ALERT_SYSTEM/fall_dataset/images/train/fall121.jpg  \n",
            "  inflating: /content/gdrive/MyDrive/EPILEPSY_ALERT_SYSTEM/fall_dataset/images/train/fall122.jpg  \n",
            "  inflating: /content/gdrive/MyDrive/EPILEPSY_ALERT_SYSTEM/fall_dataset/images/train/fall123.jpg  \n",
            "  inflating: /content/gdrive/MyDrive/EPILEPSY_ALERT_SYSTEM/fall_dataset/images/train/fall124.jpg  \n",
            "  inflating: /content/gdrive/MyDrive/EPILEPSY_ALERT_SYSTEM/fall_dataset/images/train/fall125.jpg  \n",
            "  inflating: /content/gdrive/MyDrive/EPILEPSY_ALERT_SYSTEM/fall_dataset/images/train/fall126.jpg  \n",
            "  inflating: /content/gdrive/MyDrive/EPILEPSY_ALERT_SYSTEM/fall_dataset/images/train/fall127.jpg  \n",
            "  inflating: /content/gdrive/MyDrive/EPILEPSY_ALERT_SYSTEM/fall_dataset/images/train/fall128.jpg  \n",
            "  inflating: /content/gdrive/MyDrive/EPILEPSY_ALERT_SYSTEM/fall_dataset/images/train/fall129.jpg  \n",
            "  inflating: /content/gdrive/MyDrive/EPILEPSY_ALERT_SYSTEM/fall_dataset/images/train/fall130.jpg  \n",
            "  inflating: /content/gdrive/MyDrive/EPILEPSY_ALERT_SYSTEM/fall_dataset/images/train/fall131.jpg  \n",
            "  inflating: /content/gdrive/MyDrive/EPILEPSY_ALERT_SYSTEM/fall_dataset/images/train/fall132.jpg  \n",
            "  inflating: /content/gdrive/MyDrive/EPILEPSY_ALERT_SYSTEM/fall_dataset/images/train/fall133.jpg  \n",
            "  inflating: /content/gdrive/MyDrive/EPILEPSY_ALERT_SYSTEM/fall_dataset/images/train/fall134.jpg  \n",
            "  inflating: /content/gdrive/MyDrive/EPILEPSY_ALERT_SYSTEM/fall_dataset/images/train/fall135.jpg  \n",
            "  inflating: /content/gdrive/MyDrive/EPILEPSY_ALERT_SYSTEM/fall_dataset/images/train/fall136.jpg  \n",
            "  inflating: /content/gdrive/MyDrive/EPILEPSY_ALERT_SYSTEM/fall_dataset/images/train/fall137.jpg  \n",
            "  inflating: /content/gdrive/MyDrive/EPILEPSY_ALERT_SYSTEM/fall_dataset/images/train/fall138.jpg  \n",
            "  inflating: /content/gdrive/MyDrive/EPILEPSY_ALERT_SYSTEM/fall_dataset/images/train/fall139.jpg  \n",
            "  inflating: /content/gdrive/MyDrive/EPILEPSY_ALERT_SYSTEM/fall_dataset/images/train/fall140.jpg  \n",
            "  inflating: /content/gdrive/MyDrive/EPILEPSY_ALERT_SYSTEM/fall_dataset/images/train/fall141.jpg  \n",
            "  inflating: /content/gdrive/MyDrive/EPILEPSY_ALERT_SYSTEM/fall_dataset/images/train/fall142.jpg  \n",
            "  inflating: /content/gdrive/MyDrive/EPILEPSY_ALERT_SYSTEM/fall_dataset/images/train/fall143.jpg  \n",
            "  inflating: /content/gdrive/MyDrive/EPILEPSY_ALERT_SYSTEM/fall_dataset/images/train/fall144.jpg  \n",
            "  inflating: /content/gdrive/MyDrive/EPILEPSY_ALERT_SYSTEM/fall_dataset/images/train/fall145.jpg  \n",
            "  inflating: /content/gdrive/MyDrive/EPILEPSY_ALERT_SYSTEM/fall_dataset/images/train/fall146.jpg  \n",
            "  inflating: /content/gdrive/MyDrive/EPILEPSY_ALERT_SYSTEM/fall_dataset/images/train/fall147.jpg  \n",
            "  inflating: /content/gdrive/MyDrive/EPILEPSY_ALERT_SYSTEM/fall_dataset/images/train/fall148.jpg  \n",
            "  inflating: /content/gdrive/MyDrive/EPILEPSY_ALERT_SYSTEM/fall_dataset/images/train/fall149.jpg  \n",
            "  inflating: /content/gdrive/MyDrive/EPILEPSY_ALERT_SYSTEM/fall_dataset/images/train/fall150.jpg  \n",
            "  inflating: /content/gdrive/MyDrive/EPILEPSY_ALERT_SYSTEM/fall_dataset/images/train/fall151.jpg  \n",
            "  inflating: /content/gdrive/MyDrive/EPILEPSY_ALERT_SYSTEM/fall_dataset/images/train/fall152.jpg  \n",
            "  inflating: /content/gdrive/MyDrive/EPILEPSY_ALERT_SYSTEM/fall_dataset/images/train/fall153.jpg  \n",
            "  inflating: /content/gdrive/MyDrive/EPILEPSY_ALERT_SYSTEM/fall_dataset/images/train/fall154.jpg  \n",
            "  inflating: /content/gdrive/MyDrive/EPILEPSY_ALERT_SYSTEM/fall_dataset/images/train/fall155.jpg  \n",
            "  inflating: /content/gdrive/MyDrive/EPILEPSY_ALERT_SYSTEM/fall_dataset/images/train/fall156.jpg  \n",
            "  inflating: /content/gdrive/MyDrive/EPILEPSY_ALERT_SYSTEM/fall_dataset/images/train/fall157.jpg  \n",
            "  inflating: /content/gdrive/MyDrive/EPILEPSY_ALERT_SYSTEM/fall_dataset/images/train/fall158.jpg  \n",
            "  inflating: /content/gdrive/MyDrive/EPILEPSY_ALERT_SYSTEM/fall_dataset/images/train/fall159.jpg  \n",
            "  inflating: /content/gdrive/MyDrive/EPILEPSY_ALERT_SYSTEM/fall_dataset/images/train/fall160.jpg  \n",
            "  inflating: /content/gdrive/MyDrive/EPILEPSY_ALERT_SYSTEM/fall_dataset/images/train/fall161.jpg  \n",
            "  inflating: /content/gdrive/MyDrive/EPILEPSY_ALERT_SYSTEM/fall_dataset/images/train/fall162.jpg  \n",
            "  inflating: /content/gdrive/MyDrive/EPILEPSY_ALERT_SYSTEM/fall_dataset/images/train/fall163.jpg  \n",
            "  inflating: /content/gdrive/MyDrive/EPILEPSY_ALERT_SYSTEM/fall_dataset/images/train/fall164.jpg  \n",
            "  inflating: /content/gdrive/MyDrive/EPILEPSY_ALERT_SYSTEM/fall_dataset/images/train/fall165.jpg  \n",
            "  inflating: /content/gdrive/MyDrive/EPILEPSY_ALERT_SYSTEM/fall_dataset/images/train/fall166.jpg  \n",
            "  inflating: /content/gdrive/MyDrive/EPILEPSY_ALERT_SYSTEM/fall_dataset/images/train/fall167.jpg  \n",
            "  inflating: /content/gdrive/MyDrive/EPILEPSY_ALERT_SYSTEM/fall_dataset/images/train/fall168.jpg  \n",
            "  inflating: /content/gdrive/MyDrive/EPILEPSY_ALERT_SYSTEM/fall_dataset/images/train/fall169.jpg  \n",
            "  inflating: /content/gdrive/MyDrive/EPILEPSY_ALERT_SYSTEM/fall_dataset/images/train/fall170.jpg  \n",
            "  inflating: /content/gdrive/MyDrive/EPILEPSY_ALERT_SYSTEM/fall_dataset/images/train/fall171.jpg  \n",
            "  inflating: /content/gdrive/MyDrive/EPILEPSY_ALERT_SYSTEM/fall_dataset/images/train/fall172.jpg  \n",
            "  inflating: /content/gdrive/MyDrive/EPILEPSY_ALERT_SYSTEM/fall_dataset/images/train/fall173.jpg  \n",
            "  inflating: /content/gdrive/MyDrive/EPILEPSY_ALERT_SYSTEM/fall_dataset/images/train/fall174.jpg  \n",
            "  inflating: /content/gdrive/MyDrive/EPILEPSY_ALERT_SYSTEM/fall_dataset/images/train/fall175.jpg  \n",
            "  inflating: /content/gdrive/MyDrive/EPILEPSY_ALERT_SYSTEM/fall_dataset/images/train/fall176.jpg  \n",
            "  inflating: /content/gdrive/MyDrive/EPILEPSY_ALERT_SYSTEM/fall_dataset/images/train/fall177.jpg  \n",
            "  inflating: /content/gdrive/MyDrive/EPILEPSY_ALERT_SYSTEM/fall_dataset/images/train/fall178.jpg  \n",
            "  inflating: /content/gdrive/MyDrive/EPILEPSY_ALERT_SYSTEM/fall_dataset/images/train/fall179.jpg  \n",
            "  inflating: /content/gdrive/MyDrive/EPILEPSY_ALERT_SYSTEM/fall_dataset/images/train/fall180.jpg  \n",
            "  inflating: /content/gdrive/MyDrive/EPILEPSY_ALERT_SYSTEM/fall_dataset/images/train/fall181.jpg  \n",
            "  inflating: /content/gdrive/MyDrive/EPILEPSY_ALERT_SYSTEM/fall_dataset/images/train/fall182.jpg  \n",
            "  inflating: /content/gdrive/MyDrive/EPILEPSY_ALERT_SYSTEM/fall_dataset/images/train/fall183.jpg  \n",
            "  inflating: /content/gdrive/MyDrive/EPILEPSY_ALERT_SYSTEM/fall_dataset/images/train/fall184.jpg  \n",
            "  inflating: /content/gdrive/MyDrive/EPILEPSY_ALERT_SYSTEM/fall_dataset/images/train/fall185.jpg  \n",
            "  inflating: /content/gdrive/MyDrive/EPILEPSY_ALERT_SYSTEM/fall_dataset/images/train/fall186.jpg  \n",
            "  inflating: /content/gdrive/MyDrive/EPILEPSY_ALERT_SYSTEM/fall_dataset/images/train/fall187.jpg  \n",
            "  inflating: /content/gdrive/MyDrive/EPILEPSY_ALERT_SYSTEM/fall_dataset/images/train/fall188.jpg  \n",
            "  inflating: /content/gdrive/MyDrive/EPILEPSY_ALERT_SYSTEM/fall_dataset/images/train/fall189.jpg  \n",
            "  inflating: /content/gdrive/MyDrive/EPILEPSY_ALERT_SYSTEM/fall_dataset/images/train/fall190.jpg  \n",
            "  inflating: /content/gdrive/MyDrive/EPILEPSY_ALERT_SYSTEM/fall_dataset/images/train/fall191.jpg  \n",
            "  inflating: /content/gdrive/MyDrive/EPILEPSY_ALERT_SYSTEM/fall_dataset/images/train/fall192.jpg  \n",
            "  inflating: /content/gdrive/MyDrive/EPILEPSY_ALERT_SYSTEM/fall_dataset/images/train/fall193.jpg  \n",
            "  inflating: /content/gdrive/MyDrive/EPILEPSY_ALERT_SYSTEM/fall_dataset/images/train/fall194.jpg  \n",
            "  inflating: /content/gdrive/MyDrive/EPILEPSY_ALERT_SYSTEM/fall_dataset/images/train/fall195.jpg  \n",
            "  inflating: /content/gdrive/MyDrive/EPILEPSY_ALERT_SYSTEM/fall_dataset/images/train/fall196.jpg  \n",
            "  inflating: /content/gdrive/MyDrive/EPILEPSY_ALERT_SYSTEM/fall_dataset/images/train/fall197.jpg  \n",
            "  inflating: /content/gdrive/MyDrive/EPILEPSY_ALERT_SYSTEM/fall_dataset/images/train/fall198.jpg  \n",
            "  inflating: /content/gdrive/MyDrive/EPILEPSY_ALERT_SYSTEM/fall_dataset/images/train/fall199.jpg  \n",
            "  inflating: /content/gdrive/MyDrive/EPILEPSY_ALERT_SYSTEM/fall_dataset/images/train/fall200.jpg  \n",
            "  inflating: /content/gdrive/MyDrive/EPILEPSY_ALERT_SYSTEM/fall_dataset/images/train/fall201.jpg  \n",
            "  inflating: /content/gdrive/MyDrive/EPILEPSY_ALERT_SYSTEM/fall_dataset/images/train/fall202.jpg  \n",
            "  inflating: /content/gdrive/MyDrive/EPILEPSY_ALERT_SYSTEM/fall_dataset/images/train/fall203.jpg  \n",
            "  inflating: /content/gdrive/MyDrive/EPILEPSY_ALERT_SYSTEM/fall_dataset/images/train/fall204.jpg  \n",
            "  inflating: /content/gdrive/MyDrive/EPILEPSY_ALERT_SYSTEM/fall_dataset/images/train/fall205.jpg  \n",
            "  inflating: /content/gdrive/MyDrive/EPILEPSY_ALERT_SYSTEM/fall_dataset/images/train/fall206.jpg  \n",
            "  inflating: /content/gdrive/MyDrive/EPILEPSY_ALERT_SYSTEM/fall_dataset/images/train/fall207.jpg  \n",
            "  inflating: /content/gdrive/MyDrive/EPILEPSY_ALERT_SYSTEM/fall_dataset/images/train/fall208.jpg  \n",
            "  inflating: /content/gdrive/MyDrive/EPILEPSY_ALERT_SYSTEM/fall_dataset/images/train/not fallen001.jpg  \n",
            "  inflating: /content/gdrive/MyDrive/EPILEPSY_ALERT_SYSTEM/fall_dataset/images/train/not fallen002.jpg  \n",
            "  inflating: /content/gdrive/MyDrive/EPILEPSY_ALERT_SYSTEM/fall_dataset/images/train/not fallen003.jpg  \n",
            "  inflating: /content/gdrive/MyDrive/EPILEPSY_ALERT_SYSTEM/fall_dataset/images/train/not fallen004.jpg  \n",
            "  inflating: /content/gdrive/MyDrive/EPILEPSY_ALERT_SYSTEM/fall_dataset/images/train/not fallen005.jpg  \n",
            "  inflating: /content/gdrive/MyDrive/EPILEPSY_ALERT_SYSTEM/fall_dataset/images/train/not fallen006.jpg  \n",
            "  inflating: /content/gdrive/MyDrive/EPILEPSY_ALERT_SYSTEM/fall_dataset/images/train/not fallen007.jpg  \n",
            "  inflating: /content/gdrive/MyDrive/EPILEPSY_ALERT_SYSTEM/fall_dataset/images/train/not fallen008.jpg  \n",
            "  inflating: /content/gdrive/MyDrive/EPILEPSY_ALERT_SYSTEM/fall_dataset/images/train/not fallen009.jpg  \n",
            "  inflating: /content/gdrive/MyDrive/EPILEPSY_ALERT_SYSTEM/fall_dataset/images/train/not fallen010.jpg  \n",
            "  inflating: /content/gdrive/MyDrive/EPILEPSY_ALERT_SYSTEM/fall_dataset/images/train/not fallen011.jpg  \n",
            "  inflating: /content/gdrive/MyDrive/EPILEPSY_ALERT_SYSTEM/fall_dataset/images/train/not fallen012.jpg  \n",
            "  inflating: /content/gdrive/MyDrive/EPILEPSY_ALERT_SYSTEM/fall_dataset/images/train/not fallen013.jpg  \n",
            "  inflating: /content/gdrive/MyDrive/EPILEPSY_ALERT_SYSTEM/fall_dataset/images/train/not fallen014.jpg  \n",
            "  inflating: /content/gdrive/MyDrive/EPILEPSY_ALERT_SYSTEM/fall_dataset/images/train/not fallen015.jpg  \n",
            "  inflating: /content/gdrive/MyDrive/EPILEPSY_ALERT_SYSTEM/fall_dataset/images/train/not fallen016.jpg  \n",
            "  inflating: /content/gdrive/MyDrive/EPILEPSY_ALERT_SYSTEM/fall_dataset/images/train/not fallen017.jpg  \n",
            "  inflating: /content/gdrive/MyDrive/EPILEPSY_ALERT_SYSTEM/fall_dataset/images/train/not fallen018.jpg  \n",
            "  inflating: /content/gdrive/MyDrive/EPILEPSY_ALERT_SYSTEM/fall_dataset/images/train/not fallen019.jpg  \n",
            "  inflating: /content/gdrive/MyDrive/EPILEPSY_ALERT_SYSTEM/fall_dataset/images/train/not fallen020.jpg  \n",
            "  inflating: /content/gdrive/MyDrive/EPILEPSY_ALERT_SYSTEM/fall_dataset/images/train/not fallen021.jpg  \n",
            "  inflating: /content/gdrive/MyDrive/EPILEPSY_ALERT_SYSTEM/fall_dataset/images/train/not fallen022.jpg  \n",
            "  inflating: /content/gdrive/MyDrive/EPILEPSY_ALERT_SYSTEM/fall_dataset/images/train/not fallen023.jpg  \n",
            "  inflating: /content/gdrive/MyDrive/EPILEPSY_ALERT_SYSTEM/fall_dataset/images/train/not fallen024.jpg  \n",
            "  inflating: /content/gdrive/MyDrive/EPILEPSY_ALERT_SYSTEM/fall_dataset/images/train/not fallen025.jpg  \n",
            "  inflating: /content/gdrive/MyDrive/EPILEPSY_ALERT_SYSTEM/fall_dataset/images/train/not fallen026.jpg  \n",
            "  inflating: /content/gdrive/MyDrive/EPILEPSY_ALERT_SYSTEM/fall_dataset/images/train/not fallen027.jpg  \n",
            "  inflating: /content/gdrive/MyDrive/EPILEPSY_ALERT_SYSTEM/fall_dataset/images/train/not fallen028.jpg  \n",
            "  inflating: /content/gdrive/MyDrive/EPILEPSY_ALERT_SYSTEM/fall_dataset/images/train/not fallen029.jpg  \n",
            "  inflating: /content/gdrive/MyDrive/EPILEPSY_ALERT_SYSTEM/fall_dataset/images/train/not fallen030.jpg  \n",
            "  inflating: /content/gdrive/MyDrive/EPILEPSY_ALERT_SYSTEM/fall_dataset/images/train/not fallen031.jpg  \n",
            "  inflating: /content/gdrive/MyDrive/EPILEPSY_ALERT_SYSTEM/fall_dataset/images/train/not fallen032.jpg  \n",
            "  inflating: /content/gdrive/MyDrive/EPILEPSY_ALERT_SYSTEM/fall_dataset/images/train/not fallen033.jpg  \n",
            "  inflating: /content/gdrive/MyDrive/EPILEPSY_ALERT_SYSTEM/fall_dataset/images/train/not fallen034.jpg  \n",
            "  inflating: /content/gdrive/MyDrive/EPILEPSY_ALERT_SYSTEM/fall_dataset/images/train/not fallen035.jpg  \n",
            "  inflating: /content/gdrive/MyDrive/EPILEPSY_ALERT_SYSTEM/fall_dataset/images/train/not fallen036.jpg  \n",
            "  inflating: /content/gdrive/MyDrive/EPILEPSY_ALERT_SYSTEM/fall_dataset/images/train/not fallen037.jpg  \n",
            "  inflating: /content/gdrive/MyDrive/EPILEPSY_ALERT_SYSTEM/fall_dataset/images/train/not fallen038.jpg  \n",
            "  inflating: /content/gdrive/MyDrive/EPILEPSY_ALERT_SYSTEM/fall_dataset/images/train/not fallen039.jpg  \n",
            "  inflating: /content/gdrive/MyDrive/EPILEPSY_ALERT_SYSTEM/fall_dataset/images/train/not fallen040.jpg  \n",
            "  inflating: /content/gdrive/MyDrive/EPILEPSY_ALERT_SYSTEM/fall_dataset/images/train/not fallen041.jpg  \n",
            "  inflating: /content/gdrive/MyDrive/EPILEPSY_ALERT_SYSTEM/fall_dataset/images/train/not fallen042.jpg  \n",
            "  inflating: /content/gdrive/MyDrive/EPILEPSY_ALERT_SYSTEM/fall_dataset/images/train/not fallen043.jpg  \n",
            "  inflating: /content/gdrive/MyDrive/EPILEPSY_ALERT_SYSTEM/fall_dataset/images/train/not fallen044.jpg  \n",
            "  inflating: /content/gdrive/MyDrive/EPILEPSY_ALERT_SYSTEM/fall_dataset/images/train/not fallen045.jpg  \n",
            "  inflating: /content/gdrive/MyDrive/EPILEPSY_ALERT_SYSTEM/fall_dataset/images/train/not fallen046.jpg  \n",
            "  inflating: /content/gdrive/MyDrive/EPILEPSY_ALERT_SYSTEM/fall_dataset/images/train/not fallen047.jpg  \n",
            "  inflating: /content/gdrive/MyDrive/EPILEPSY_ALERT_SYSTEM/fall_dataset/images/train/not fallen048.jpg  \n",
            "  inflating: /content/gdrive/MyDrive/EPILEPSY_ALERT_SYSTEM/fall_dataset/images/train/not fallen049.jpg  \n",
            "  inflating: /content/gdrive/MyDrive/EPILEPSY_ALERT_SYSTEM/fall_dataset/images/train/not fallen050.jpg  \n",
            "  inflating: /content/gdrive/MyDrive/EPILEPSY_ALERT_SYSTEM/fall_dataset/images/train/not fallen051.jpg  \n",
            "  inflating: /content/gdrive/MyDrive/EPILEPSY_ALERT_SYSTEM/fall_dataset/images/train/not fallen052.jpg  \n",
            "  inflating: /content/gdrive/MyDrive/EPILEPSY_ALERT_SYSTEM/fall_dataset/images/train/not fallen053.jpg  \n",
            "  inflating: /content/gdrive/MyDrive/EPILEPSY_ALERT_SYSTEM/fall_dataset/images/train/not fallen054.jpg  \n",
            "  inflating: /content/gdrive/MyDrive/EPILEPSY_ALERT_SYSTEM/fall_dataset/images/train/not fallen055.jpg  \n",
            "  inflating: /content/gdrive/MyDrive/EPILEPSY_ALERT_SYSTEM/fall_dataset/images/train/not fallen056.jpg  \n",
            "  inflating: /content/gdrive/MyDrive/EPILEPSY_ALERT_SYSTEM/fall_dataset/images/train/not fallen057.jpg  \n",
            "  inflating: /content/gdrive/MyDrive/EPILEPSY_ALERT_SYSTEM/fall_dataset/images/train/not fallen058.jpg  \n",
            "  inflating: /content/gdrive/MyDrive/EPILEPSY_ALERT_SYSTEM/fall_dataset/images/train/not fallen059.jpg  \n",
            "  inflating: /content/gdrive/MyDrive/EPILEPSY_ALERT_SYSTEM/fall_dataset/images/train/not fallen060.jpg  \n",
            "  inflating: /content/gdrive/MyDrive/EPILEPSY_ALERT_SYSTEM/fall_dataset/images/train/not fallen061.jpg  \n",
            "  inflating: /content/gdrive/MyDrive/EPILEPSY_ALERT_SYSTEM/fall_dataset/images/train/not fallen062.jpg  \n",
            "  inflating: /content/gdrive/MyDrive/EPILEPSY_ALERT_SYSTEM/fall_dataset/images/train/not fallen063.jpg  \n",
            "  inflating: /content/gdrive/MyDrive/EPILEPSY_ALERT_SYSTEM/fall_dataset/images/train/not fallen064.jpg  \n",
            "  inflating: /content/gdrive/MyDrive/EPILEPSY_ALERT_SYSTEM/fall_dataset/images/train/not fallen065.jpg  \n",
            "  inflating: /content/gdrive/MyDrive/EPILEPSY_ALERT_SYSTEM/fall_dataset/images/train/not fallen066.jpg  \n",
            "  inflating: /content/gdrive/MyDrive/EPILEPSY_ALERT_SYSTEM/fall_dataset/images/train/not fallen067.jpg  \n",
            "  inflating: /content/gdrive/MyDrive/EPILEPSY_ALERT_SYSTEM/fall_dataset/images/train/not fallen068.jpg  \n",
            "  inflating: /content/gdrive/MyDrive/EPILEPSY_ALERT_SYSTEM/fall_dataset/images/train/not fallen069.jpg  \n",
            "  inflating: /content/gdrive/MyDrive/EPILEPSY_ALERT_SYSTEM/fall_dataset/images/train/not fallen070.jpg  \n",
            "  inflating: /content/gdrive/MyDrive/EPILEPSY_ALERT_SYSTEM/fall_dataset/images/train/not fallen071.jpg  \n",
            "  inflating: /content/gdrive/MyDrive/EPILEPSY_ALERT_SYSTEM/fall_dataset/images/train/not fallen072.jpg  \n",
            "  inflating: /content/gdrive/MyDrive/EPILEPSY_ALERT_SYSTEM/fall_dataset/images/train/not fallen073.jpg  \n",
            "  inflating: /content/gdrive/MyDrive/EPILEPSY_ALERT_SYSTEM/fall_dataset/images/train/not fallen074.jpg  \n",
            "  inflating: /content/gdrive/MyDrive/EPILEPSY_ALERT_SYSTEM/fall_dataset/images/train/not fallen075.jpg  \n",
            "  inflating: /content/gdrive/MyDrive/EPILEPSY_ALERT_SYSTEM/fall_dataset/images/train/not fallen076.jpg  \n",
            "  inflating: /content/gdrive/MyDrive/EPILEPSY_ALERT_SYSTEM/fall_dataset/images/train/not fallen077.jpg  \n",
            "  inflating: /content/gdrive/MyDrive/EPILEPSY_ALERT_SYSTEM/fall_dataset/images/train/not fallen078.jpg  \n",
            "  inflating: /content/gdrive/MyDrive/EPILEPSY_ALERT_SYSTEM/fall_dataset/images/train/not fallen079.jpg  \n",
            "  inflating: /content/gdrive/MyDrive/EPILEPSY_ALERT_SYSTEM/fall_dataset/images/train/not fallen080.jpg  \n",
            "  inflating: /content/gdrive/MyDrive/EPILEPSY_ALERT_SYSTEM/fall_dataset/images/train/not fallen081.jpg  \n",
            "  inflating: /content/gdrive/MyDrive/EPILEPSY_ALERT_SYSTEM/fall_dataset/images/train/not fallen082.jpg  \n",
            "  inflating: /content/gdrive/MyDrive/EPILEPSY_ALERT_SYSTEM/fall_dataset/images/train/not fallen083.jpg  \n",
            "  inflating: /content/gdrive/MyDrive/EPILEPSY_ALERT_SYSTEM/fall_dataset/images/train/not fallen084.jpg  \n",
            "  inflating: /content/gdrive/MyDrive/EPILEPSY_ALERT_SYSTEM/fall_dataset/images/train/not fallen085.jpg  \n",
            "  inflating: /content/gdrive/MyDrive/EPILEPSY_ALERT_SYSTEM/fall_dataset/images/train/not fallen086.jpg  \n",
            "  inflating: /content/gdrive/MyDrive/EPILEPSY_ALERT_SYSTEM/fall_dataset/images/train/not fallen087.jpg  \n",
            "  inflating: /content/gdrive/MyDrive/EPILEPSY_ALERT_SYSTEM/fall_dataset/images/train/not fallen088.jpg  \n",
            "  inflating: /content/gdrive/MyDrive/EPILEPSY_ALERT_SYSTEM/fall_dataset/images/train/not fallen089.jpg  \n",
            "  inflating: /content/gdrive/MyDrive/EPILEPSY_ALERT_SYSTEM/fall_dataset/images/train/not fallen090.jpg  \n",
            "  inflating: /content/gdrive/MyDrive/EPILEPSY_ALERT_SYSTEM/fall_dataset/images/train/not fallen091.jpg  \n",
            "  inflating: /content/gdrive/MyDrive/EPILEPSY_ALERT_SYSTEM/fall_dataset/images/train/not fallen092.jpg  \n",
            "  inflating: /content/gdrive/MyDrive/EPILEPSY_ALERT_SYSTEM/fall_dataset/images/train/not fallen093.jpg  \n",
            "  inflating: /content/gdrive/MyDrive/EPILEPSY_ALERT_SYSTEM/fall_dataset/images/train/not fallen094.jpg  \n",
            "  inflating: /content/gdrive/MyDrive/EPILEPSY_ALERT_SYSTEM/fall_dataset/images/train/not fallen095.jpg  \n",
            "  inflating: /content/gdrive/MyDrive/EPILEPSY_ALERT_SYSTEM/fall_dataset/images/train/not fallen096.jpg  \n",
            "  inflating: /content/gdrive/MyDrive/EPILEPSY_ALERT_SYSTEM/fall_dataset/images/train/not fallen097.jpg  \n",
            "  inflating: /content/gdrive/MyDrive/EPILEPSY_ALERT_SYSTEM/fall_dataset/images/train/not fallen098.jpg  \n",
            "  inflating: /content/gdrive/MyDrive/EPILEPSY_ALERT_SYSTEM/fall_dataset/images/train/not fallen099.jpg  \n",
            "  inflating: /content/gdrive/MyDrive/EPILEPSY_ALERT_SYSTEM/fall_dataset/images/train/not fallen100.jpg  \n",
            "  inflating: /content/gdrive/MyDrive/EPILEPSY_ALERT_SYSTEM/fall_dataset/images/train/not fallen101.jpg  \n",
            "  inflating: /content/gdrive/MyDrive/EPILEPSY_ALERT_SYSTEM/fall_dataset/images/train/not fallen102.jpg  \n",
            "  inflating: /content/gdrive/MyDrive/EPILEPSY_ALERT_SYSTEM/fall_dataset/images/train/not fallen103.jpg  \n",
            "  inflating: /content/gdrive/MyDrive/EPILEPSY_ALERT_SYSTEM/fall_dataset/images/train/not fallen104.jpg  \n",
            "  inflating: /content/gdrive/MyDrive/EPILEPSY_ALERT_SYSTEM/fall_dataset/images/train/not fallen105.jpg  \n",
            "  inflating: /content/gdrive/MyDrive/EPILEPSY_ALERT_SYSTEM/fall_dataset/images/train/not fallen106.jpg  \n",
            "  inflating: /content/gdrive/MyDrive/EPILEPSY_ALERT_SYSTEM/fall_dataset/images/train/not fallen107.jpg  \n",
            "  inflating: /content/gdrive/MyDrive/EPILEPSY_ALERT_SYSTEM/fall_dataset/images/train/not fallen108.jpg  \n",
            "  inflating: /content/gdrive/MyDrive/EPILEPSY_ALERT_SYSTEM/fall_dataset/images/train/not fallen109.jpg  \n",
            "  inflating: /content/gdrive/MyDrive/EPILEPSY_ALERT_SYSTEM/fall_dataset/images/train/not fallen110.jpg  \n",
            "  inflating: /content/gdrive/MyDrive/EPILEPSY_ALERT_SYSTEM/fall_dataset/images/train/not fallen111.jpg  \n",
            "  inflating: /content/gdrive/MyDrive/EPILEPSY_ALERT_SYSTEM/fall_dataset/images/train/not fallen112.jpg  \n",
            "  inflating: /content/gdrive/MyDrive/EPILEPSY_ALERT_SYSTEM/fall_dataset/images/train/not fallen113.jpg  \n",
            "  inflating: /content/gdrive/MyDrive/EPILEPSY_ALERT_SYSTEM/fall_dataset/images/train/not fallen114.jpg  \n",
            "  inflating: /content/gdrive/MyDrive/EPILEPSY_ALERT_SYSTEM/fall_dataset/images/train/not fallen115.jpg  \n",
            "  inflating: /content/gdrive/MyDrive/EPILEPSY_ALERT_SYSTEM/fall_dataset/images/train/not fallen116.jpg  \n",
            "  inflating: /content/gdrive/MyDrive/EPILEPSY_ALERT_SYSTEM/fall_dataset/images/train/not fallen117.jpg  \n",
            "  inflating: /content/gdrive/MyDrive/EPILEPSY_ALERT_SYSTEM/fall_dataset/images/train/not fallen118.jpg  \n",
            "  inflating: /content/gdrive/MyDrive/EPILEPSY_ALERT_SYSTEM/fall_dataset/images/train/not fallen119.jpg  \n",
            "  inflating: /content/gdrive/MyDrive/EPILEPSY_ALERT_SYSTEM/fall_dataset/images/train/not fallen120.jpg  \n",
            "  inflating: /content/gdrive/MyDrive/EPILEPSY_ALERT_SYSTEM/fall_dataset/images/train/not fallen121.jpg  \n",
            "  inflating: /content/gdrive/MyDrive/EPILEPSY_ALERT_SYSTEM/fall_dataset/images/train/not fallen122.jpg  \n",
            "  inflating: /content/gdrive/MyDrive/EPILEPSY_ALERT_SYSTEM/fall_dataset/images/train/not fallen123.jpg  \n",
            "  inflating: /content/gdrive/MyDrive/EPILEPSY_ALERT_SYSTEM/fall_dataset/images/train/not fallen124.jpg  \n",
            "  inflating: /content/gdrive/MyDrive/EPILEPSY_ALERT_SYSTEM/fall_dataset/images/train/not fallen125.jpg  \n",
            "  inflating: /content/gdrive/MyDrive/EPILEPSY_ALERT_SYSTEM/fall_dataset/images/train/not fallen126.jpg  \n",
            "  inflating: /content/gdrive/MyDrive/EPILEPSY_ALERT_SYSTEM/fall_dataset/images/train/not fallen127.jpg  \n",
            "  inflating: /content/gdrive/MyDrive/EPILEPSY_ALERT_SYSTEM/fall_dataset/images/train/not fallen128.jpg  \n",
            "  inflating: /content/gdrive/MyDrive/EPILEPSY_ALERT_SYSTEM/fall_dataset/images/train/not fallen129.jpg  \n",
            "  inflating: /content/gdrive/MyDrive/EPILEPSY_ALERT_SYSTEM/fall_dataset/images/train/not fallen130.jpg  \n",
            "  inflating: /content/gdrive/MyDrive/EPILEPSY_ALERT_SYSTEM/fall_dataset/images/train/not fallen131.jpg  \n",
            "  inflating: /content/gdrive/MyDrive/EPILEPSY_ALERT_SYSTEM/fall_dataset/images/train/not fallen132.jpg  \n",
            "  inflating: /content/gdrive/MyDrive/EPILEPSY_ALERT_SYSTEM/fall_dataset/images/train/not fallen133.jpg  \n",
            "  inflating: /content/gdrive/MyDrive/EPILEPSY_ALERT_SYSTEM/fall_dataset/images/train/not fallen134.jpg  \n",
            "  inflating: /content/gdrive/MyDrive/EPILEPSY_ALERT_SYSTEM/fall_dataset/images/train/not fallen135.jpg  \n",
            "  inflating: /content/gdrive/MyDrive/EPILEPSY_ALERT_SYSTEM/fall_dataset/images/train/not fallen136.jpg  \n",
            "  inflating: /content/gdrive/MyDrive/EPILEPSY_ALERT_SYSTEM/fall_dataset/images/train/not fallen137.jpg  \n",
            "  inflating: /content/gdrive/MyDrive/EPILEPSY_ALERT_SYSTEM/fall_dataset/images/train/not fallen138.jpg  \n",
            "  inflating: /content/gdrive/MyDrive/EPILEPSY_ALERT_SYSTEM/fall_dataset/images/train/not fallen139.jpg  \n",
            "  inflating: /content/gdrive/MyDrive/EPILEPSY_ALERT_SYSTEM/fall_dataset/images/train/not fallen140.jpg  \n",
            "  inflating: /content/gdrive/MyDrive/EPILEPSY_ALERT_SYSTEM/fall_dataset/images/train/not fallen141.jpg  \n",
            "  inflating: /content/gdrive/MyDrive/EPILEPSY_ALERT_SYSTEM/fall_dataset/images/train/not fallen142.jpg  \n",
            "  inflating: /content/gdrive/MyDrive/EPILEPSY_ALERT_SYSTEM/fall_dataset/images/train/not fallen143.jpg  \n",
            "  inflating: /content/gdrive/MyDrive/EPILEPSY_ALERT_SYSTEM/fall_dataset/images/train/not fallen144.jpg  \n",
            "  inflating: /content/gdrive/MyDrive/EPILEPSY_ALERT_SYSTEM/fall_dataset/images/train/not fallen145.jpg  \n",
            "  inflating: /content/gdrive/MyDrive/EPILEPSY_ALERT_SYSTEM/fall_dataset/images/train/not fallen146.jpg  \n",
            "  inflating: /content/gdrive/MyDrive/EPILEPSY_ALERT_SYSTEM/fall_dataset/images/train/not fallen147.jpg  \n",
            "  inflating: /content/gdrive/MyDrive/EPILEPSY_ALERT_SYSTEM/fall_dataset/images/train/not fallen148.jpg  \n",
            "  inflating: /content/gdrive/MyDrive/EPILEPSY_ALERT_SYSTEM/fall_dataset/images/train/not fallen149.jpg  \n",
            "  inflating: /content/gdrive/MyDrive/EPILEPSY_ALERT_SYSTEM/fall_dataset/images/train/not fallen150.jpg  \n",
            "  inflating: /content/gdrive/MyDrive/EPILEPSY_ALERT_SYSTEM/fall_dataset/images/train/not fallen151.jpg  \n",
            "  inflating: /content/gdrive/MyDrive/EPILEPSY_ALERT_SYSTEM/fall_dataset/images/train/not fallen152.jpg  \n",
            "  inflating: /content/gdrive/MyDrive/EPILEPSY_ALERT_SYSTEM/fall_dataset/images/train/not fallen153.jpg  \n",
            "  inflating: /content/gdrive/MyDrive/EPILEPSY_ALERT_SYSTEM/fall_dataset/images/train/not fallen154.jpg  \n",
            "  inflating: /content/gdrive/MyDrive/EPILEPSY_ALERT_SYSTEM/fall_dataset/images/train/not fallen155.jpg  \n",
            "  inflating: /content/gdrive/MyDrive/EPILEPSY_ALERT_SYSTEM/fall_dataset/images/train/not fallen156.jpg  \n",
            "  inflating: /content/gdrive/MyDrive/EPILEPSY_ALERT_SYSTEM/fall_dataset/images/train/not fallen157.jpg  \n",
            "  inflating: /content/gdrive/MyDrive/EPILEPSY_ALERT_SYSTEM/fall_dataset/images/train/not fallen158.jpg  \n",
            "  inflating: /content/gdrive/MyDrive/EPILEPSY_ALERT_SYSTEM/fall_dataset/images/train/not fallen159.jpg  \n",
            "  inflating: /content/gdrive/MyDrive/EPILEPSY_ALERT_SYSTEM/fall_dataset/images/train/not fallen160.jpg  \n",
            "  inflating: /content/gdrive/MyDrive/EPILEPSY_ALERT_SYSTEM/fall_dataset/images/train/not fallen161.jpg  \n",
            "  inflating: /content/gdrive/MyDrive/EPILEPSY_ALERT_SYSTEM/fall_dataset/images/train/not fallen162.jpg  \n",
            "  inflating: /content/gdrive/MyDrive/EPILEPSY_ALERT_SYSTEM/fall_dataset/images/train/not fallen163.jpg  \n",
            "  inflating: /content/gdrive/MyDrive/EPILEPSY_ALERT_SYSTEM/fall_dataset/images/train/not fallen164.jpg  \n",
            "  inflating: /content/gdrive/MyDrive/EPILEPSY_ALERT_SYSTEM/fall_dataset/images/train/not fallen165.jpg  \n",
            "  inflating: /content/gdrive/MyDrive/EPILEPSY_ALERT_SYSTEM/fall_dataset/images/train/not fallen166.jpg  \n",
            "  inflating: /content/gdrive/MyDrive/EPILEPSY_ALERT_SYSTEM/fall_dataset/images/val/fall001.jpg  \n",
            "  inflating: /content/gdrive/MyDrive/EPILEPSY_ALERT_SYSTEM/fall_dataset/images/val/fall002.jpg  \n",
            "  inflating: /content/gdrive/MyDrive/EPILEPSY_ALERT_SYSTEM/fall_dataset/images/val/fall003.jpg  \n",
            "  inflating: /content/gdrive/MyDrive/EPILEPSY_ALERT_SYSTEM/fall_dataset/images/val/fall004.jpg  \n",
            "  inflating: /content/gdrive/MyDrive/EPILEPSY_ALERT_SYSTEM/fall_dataset/images/val/fall005.jpg  \n",
            "  inflating: /content/gdrive/MyDrive/EPILEPSY_ALERT_SYSTEM/fall_dataset/images/val/fall006.jpg  \n",
            "  inflating: /content/gdrive/MyDrive/EPILEPSY_ALERT_SYSTEM/fall_dataset/images/val/fall007.jpg  \n",
            "  inflating: /content/gdrive/MyDrive/EPILEPSY_ALERT_SYSTEM/fall_dataset/images/val/fall008.jpg  \n",
            "  inflating: /content/gdrive/MyDrive/EPILEPSY_ALERT_SYSTEM/fall_dataset/images/val/fall009.jpg  \n",
            "  inflating: /content/gdrive/MyDrive/EPILEPSY_ALERT_SYSTEM/fall_dataset/images/val/fall010.jpg  \n",
            "  inflating: /content/gdrive/MyDrive/EPILEPSY_ALERT_SYSTEM/fall_dataset/images/val/fall011.jpg  \n",
            "  inflating: /content/gdrive/MyDrive/EPILEPSY_ALERT_SYSTEM/fall_dataset/images/val/fall012.jpg  \n",
            "  inflating: /content/gdrive/MyDrive/EPILEPSY_ALERT_SYSTEM/fall_dataset/images/val/fall013.jpg  \n",
            "  inflating: /content/gdrive/MyDrive/EPILEPSY_ALERT_SYSTEM/fall_dataset/images/val/fall014.jpg  \n",
            "  inflating: /content/gdrive/MyDrive/EPILEPSY_ALERT_SYSTEM/fall_dataset/images/val/fall015.jpg  \n",
            "  inflating: /content/gdrive/MyDrive/EPILEPSY_ALERT_SYSTEM/fall_dataset/images/val/fall016.jpg  \n",
            "  inflating: /content/gdrive/MyDrive/EPILEPSY_ALERT_SYSTEM/fall_dataset/images/val/fall017.jpg  \n",
            "  inflating: /content/gdrive/MyDrive/EPILEPSY_ALERT_SYSTEM/fall_dataset/images/val/fall018.jpg  \n",
            "  inflating: /content/gdrive/MyDrive/EPILEPSY_ALERT_SYSTEM/fall_dataset/images/val/fall019.jpg  \n",
            "  inflating: /content/gdrive/MyDrive/EPILEPSY_ALERT_SYSTEM/fall_dataset/images/val/fall020.jpg  \n",
            "  inflating: /content/gdrive/MyDrive/EPILEPSY_ALERT_SYSTEM/fall_dataset/images/val/fall021.jpg  \n",
            "  inflating: /content/gdrive/MyDrive/EPILEPSY_ALERT_SYSTEM/fall_dataset/images/val/fall022.jpg  \n",
            "  inflating: /content/gdrive/MyDrive/EPILEPSY_ALERT_SYSTEM/fall_dataset/images/val/fall023.jpg  \n",
            "  inflating: /content/gdrive/MyDrive/EPILEPSY_ALERT_SYSTEM/fall_dataset/images/val/fall024.jpg  \n",
            "  inflating: /content/gdrive/MyDrive/EPILEPSY_ALERT_SYSTEM/fall_dataset/images/val/fall025.jpg  \n",
            "  inflating: /content/gdrive/MyDrive/EPILEPSY_ALERT_SYSTEM/fall_dataset/images/val/fall026.jpg  \n",
            "  inflating: /content/gdrive/MyDrive/EPILEPSY_ALERT_SYSTEM/fall_dataset/images/val/fall027.jpg  \n",
            "  inflating: /content/gdrive/MyDrive/EPILEPSY_ALERT_SYSTEM/fall_dataset/images/val/fall028.jpg  \n",
            "  inflating: /content/gdrive/MyDrive/EPILEPSY_ALERT_SYSTEM/fall_dataset/images/val/fall029.jpg  \n",
            "  inflating: /content/gdrive/MyDrive/EPILEPSY_ALERT_SYSTEM/fall_dataset/images/val/fall030.jpg  \n",
            "  inflating: /content/gdrive/MyDrive/EPILEPSY_ALERT_SYSTEM/fall_dataset/images/val/fall031.jpg  \n",
            "  inflating: /content/gdrive/MyDrive/EPILEPSY_ALERT_SYSTEM/fall_dataset/images/val/fall032.jpg  \n",
            "  inflating: /content/gdrive/MyDrive/EPILEPSY_ALERT_SYSTEM/fall_dataset/images/val/fall033.jpg  \n",
            "  inflating: /content/gdrive/MyDrive/EPILEPSY_ALERT_SYSTEM/fall_dataset/images/val/fall034.jpg  \n",
            "  inflating: /content/gdrive/MyDrive/EPILEPSY_ALERT_SYSTEM/fall_dataset/images/val/fall035.jpg  \n",
            "  inflating: /content/gdrive/MyDrive/EPILEPSY_ALERT_SYSTEM/fall_dataset/images/val/fall036.jpg  \n",
            "  inflating: /content/gdrive/MyDrive/EPILEPSY_ALERT_SYSTEM/fall_dataset/images/val/fall037.jpg  \n",
            "  inflating: /content/gdrive/MyDrive/EPILEPSY_ALERT_SYSTEM/fall_dataset/images/val/fall038.jpg  \n",
            "  inflating: /content/gdrive/MyDrive/EPILEPSY_ALERT_SYSTEM/fall_dataset/images/val/fall039.jpg  \n",
            "  inflating: /content/gdrive/MyDrive/EPILEPSY_ALERT_SYSTEM/fall_dataset/images/val/fall040.jpg  \n",
            "  inflating: /content/gdrive/MyDrive/EPILEPSY_ALERT_SYSTEM/fall_dataset/images/val/fall041.jpg  \n",
            "  inflating: /content/gdrive/MyDrive/EPILEPSY_ALERT_SYSTEM/fall_dataset/images/val/fall042.jpg  \n",
            "  inflating: /content/gdrive/MyDrive/EPILEPSY_ALERT_SYSTEM/fall_dataset/images/val/fall043.jpg  \n",
            "  inflating: /content/gdrive/MyDrive/EPILEPSY_ALERT_SYSTEM/fall_dataset/images/val/fall044.jpg  \n",
            "  inflating: /content/gdrive/MyDrive/EPILEPSY_ALERT_SYSTEM/fall_dataset/images/val/fall045.jpg  \n",
            "  inflating: /content/gdrive/MyDrive/EPILEPSY_ALERT_SYSTEM/fall_dataset/images/val/fall046.jpg  \n",
            "  inflating: /content/gdrive/MyDrive/EPILEPSY_ALERT_SYSTEM/fall_dataset/images/val/fall047.jpg  \n",
            "  inflating: /content/gdrive/MyDrive/EPILEPSY_ALERT_SYSTEM/fall_dataset/images/val/fall048.jpg  \n",
            "  inflating: /content/gdrive/MyDrive/EPILEPSY_ALERT_SYSTEM/fall_dataset/images/val/fall049.jpg  \n",
            "  inflating: /content/gdrive/MyDrive/EPILEPSY_ALERT_SYSTEM/fall_dataset/images/val/fall050.jpg  \n",
            "  inflating: /content/gdrive/MyDrive/EPILEPSY_ALERT_SYSTEM/fall_dataset/images/val/fall051.jpg  \n",
            "  inflating: /content/gdrive/MyDrive/EPILEPSY_ALERT_SYSTEM/fall_dataset/images/val/fall052.jpg  \n",
            "  inflating: /content/gdrive/MyDrive/EPILEPSY_ALERT_SYSTEM/fall_dataset/images/val/fall053.jpg  \n",
            "  inflating: /content/gdrive/MyDrive/EPILEPSY_ALERT_SYSTEM/fall_dataset/images/val/fall054.jpg  \n",
            "  inflating: /content/gdrive/MyDrive/EPILEPSY_ALERT_SYSTEM/fall_dataset/images/val/fall055.jpg  \n",
            "  inflating: /content/gdrive/MyDrive/EPILEPSY_ALERT_SYSTEM/fall_dataset/images/val/fall056.jpg  \n",
            "  inflating: /content/gdrive/MyDrive/EPILEPSY_ALERT_SYSTEM/fall_dataset/images/val/fall057.jpg  \n",
            "  inflating: /content/gdrive/MyDrive/EPILEPSY_ALERT_SYSTEM/fall_dataset/images/val/fall058.jpg  \n",
            "  inflating: /content/gdrive/MyDrive/EPILEPSY_ALERT_SYSTEM/fall_dataset/images/val/fall059.jpg  \n",
            "  inflating: /content/gdrive/MyDrive/EPILEPSY_ALERT_SYSTEM/fall_dataset/images/val/fall060.jpg  \n",
            "  inflating: /content/gdrive/MyDrive/EPILEPSY_ALERT_SYSTEM/fall_dataset/images/val/fall061.jpg  \n",
            "  inflating: /content/gdrive/MyDrive/EPILEPSY_ALERT_SYSTEM/fall_dataset/images/val/fall062.jpg  \n",
            "  inflating: /content/gdrive/MyDrive/EPILEPSY_ALERT_SYSTEM/fall_dataset/images/val/fall063.jpg  \n",
            "  inflating: /content/gdrive/MyDrive/EPILEPSY_ALERT_SYSTEM/fall_dataset/images/val/fall064.jpg  \n",
            "  inflating: /content/gdrive/MyDrive/EPILEPSY_ALERT_SYSTEM/fall_dataset/images/val/fall065.jpg  \n",
            "  inflating: /content/gdrive/MyDrive/EPILEPSY_ALERT_SYSTEM/fall_dataset/images/val/fall066.jpg  \n",
            "  inflating: /content/gdrive/MyDrive/EPILEPSY_ALERT_SYSTEM/fall_dataset/images/val/fall067.jpg  \n",
            "  inflating: /content/gdrive/MyDrive/EPILEPSY_ALERT_SYSTEM/fall_dataset/images/val/fall068.jpg  \n",
            "  inflating: /content/gdrive/MyDrive/EPILEPSY_ALERT_SYSTEM/fall_dataset/images/val/fall069.jpg  \n",
            "  inflating: /content/gdrive/MyDrive/EPILEPSY_ALERT_SYSTEM/fall_dataset/images/val/fall070.jpg  \n",
            "  inflating: /content/gdrive/MyDrive/EPILEPSY_ALERT_SYSTEM/fall_dataset/images/val/not fallen001.jpg  \n",
            "  inflating: /content/gdrive/MyDrive/EPILEPSY_ALERT_SYSTEM/fall_dataset/images/val/not fallen002.jpg  \n",
            "  inflating: /content/gdrive/MyDrive/EPILEPSY_ALERT_SYSTEM/fall_dataset/images/val/not fallen003.jpg  \n",
            "  inflating: /content/gdrive/MyDrive/EPILEPSY_ALERT_SYSTEM/fall_dataset/images/val/not fallen004.jpg  \n",
            "  inflating: /content/gdrive/MyDrive/EPILEPSY_ALERT_SYSTEM/fall_dataset/images/val/not fallen005.jpg  \n",
            "  inflating: /content/gdrive/MyDrive/EPILEPSY_ALERT_SYSTEM/fall_dataset/images/val/not fallen006.jpg  \n",
            "  inflating: /content/gdrive/MyDrive/EPILEPSY_ALERT_SYSTEM/fall_dataset/images/val/not fallen007.jpg  \n",
            "  inflating: /content/gdrive/MyDrive/EPILEPSY_ALERT_SYSTEM/fall_dataset/images/val/not fallen008.jpg  \n",
            "  inflating: /content/gdrive/MyDrive/EPILEPSY_ALERT_SYSTEM/fall_dataset/images/val/not fallen009.jpg  \n",
            "  inflating: /content/gdrive/MyDrive/EPILEPSY_ALERT_SYSTEM/fall_dataset/images/val/not fallen010.jpg  \n",
            "  inflating: /content/gdrive/MyDrive/EPILEPSY_ALERT_SYSTEM/fall_dataset/images/val/not fallen011.jpg  \n",
            "  inflating: /content/gdrive/MyDrive/EPILEPSY_ALERT_SYSTEM/fall_dataset/images/val/not fallen012.jpg  \n",
            "  inflating: /content/gdrive/MyDrive/EPILEPSY_ALERT_SYSTEM/fall_dataset/images/val/not fallen013.jpg  \n",
            "  inflating: /content/gdrive/MyDrive/EPILEPSY_ALERT_SYSTEM/fall_dataset/images/val/not fallen014.jpg  \n",
            "  inflating: /content/gdrive/MyDrive/EPILEPSY_ALERT_SYSTEM/fall_dataset/images/val/not fallen015.jpg  \n",
            "  inflating: /content/gdrive/MyDrive/EPILEPSY_ALERT_SYSTEM/fall_dataset/images/val/not fallen016.jpg  \n",
            "  inflating: /content/gdrive/MyDrive/EPILEPSY_ALERT_SYSTEM/fall_dataset/images/val/not fallen017.jpg  \n",
            "  inflating: /content/gdrive/MyDrive/EPILEPSY_ALERT_SYSTEM/fall_dataset/images/val/not fallen018.jpg  \n",
            "  inflating: /content/gdrive/MyDrive/EPILEPSY_ALERT_SYSTEM/fall_dataset/images/val/not fallen019.jpg  \n",
            "  inflating: /content/gdrive/MyDrive/EPILEPSY_ALERT_SYSTEM/fall_dataset/images/val/not fallen020.png  \n",
            "  inflating: /content/gdrive/MyDrive/EPILEPSY_ALERT_SYSTEM/fall_dataset/images/val/not fallen021.png  \n",
            "  inflating: /content/gdrive/MyDrive/EPILEPSY_ALERT_SYSTEM/fall_dataset/images/val/not fallen022.png  \n",
            "  inflating: /content/gdrive/MyDrive/EPILEPSY_ALERT_SYSTEM/fall_dataset/images/val/not fallen023.png  \n",
            "  inflating: /content/gdrive/MyDrive/EPILEPSY_ALERT_SYSTEM/fall_dataset/images/val/not fallen024.png  \n",
            "  inflating: /content/gdrive/MyDrive/EPILEPSY_ALERT_SYSTEM/fall_dataset/images/val/not fallen025.png  \n",
            "  inflating: /content/gdrive/MyDrive/EPILEPSY_ALERT_SYSTEM/fall_dataset/images/val/not fallen026.png  \n",
            "  inflating: /content/gdrive/MyDrive/EPILEPSY_ALERT_SYSTEM/fall_dataset/images/val/not fallen027.png  \n",
            "  inflating: /content/gdrive/MyDrive/EPILEPSY_ALERT_SYSTEM/fall_dataset/images/val/not fallen028.png  \n",
            "  inflating: /content/gdrive/MyDrive/EPILEPSY_ALERT_SYSTEM/fall_dataset/images/val/not fallen029.png  \n",
            "  inflating: /content/gdrive/MyDrive/EPILEPSY_ALERT_SYSTEM/fall_dataset/images/val/not fallen030.png  \n",
            "  inflating: /content/gdrive/MyDrive/EPILEPSY_ALERT_SYSTEM/fall_dataset/images/val/not fallen031.png  \n",
            "  inflating: /content/gdrive/MyDrive/EPILEPSY_ALERT_SYSTEM/fall_dataset/images/val/not fallen032.png  \n",
            "  inflating: /content/gdrive/MyDrive/EPILEPSY_ALERT_SYSTEM/fall_dataset/images/val/not fallen033.png  \n",
            "  inflating: /content/gdrive/MyDrive/EPILEPSY_ALERT_SYSTEM/fall_dataset/images/val/not fallen034.png  \n",
            "  inflating: /content/gdrive/MyDrive/EPILEPSY_ALERT_SYSTEM/fall_dataset/images/val/not fallen035.png  \n",
            "  inflating: /content/gdrive/MyDrive/EPILEPSY_ALERT_SYSTEM/fall_dataset/images/val/not fallen036.png  \n",
            "  inflating: /content/gdrive/MyDrive/EPILEPSY_ALERT_SYSTEM/fall_dataset/images/val/not fallen037.png  \n",
            "  inflating: /content/gdrive/MyDrive/EPILEPSY_ALERT_SYSTEM/fall_dataset/images/val/not fallen038.png  \n",
            "  inflating: /content/gdrive/MyDrive/EPILEPSY_ALERT_SYSTEM/fall_dataset/images/val/not fallen039.png  \n",
            "  inflating: /content/gdrive/MyDrive/EPILEPSY_ALERT_SYSTEM/fall_dataset/images/val/not fallen040.png  \n",
            "  inflating: /content/gdrive/MyDrive/EPILEPSY_ALERT_SYSTEM/fall_dataset/images/val/not fallen041.png  \n",
            "  inflating: /content/gdrive/MyDrive/EPILEPSY_ALERT_SYSTEM/fall_dataset/labels/train/fall001.txt  \n",
            "  inflating: /content/gdrive/MyDrive/EPILEPSY_ALERT_SYSTEM/fall_dataset/labels/train/fall002.txt  \n",
            "  inflating: /content/gdrive/MyDrive/EPILEPSY_ALERT_SYSTEM/fall_dataset/labels/train/fall003.txt  \n",
            "  inflating: /content/gdrive/MyDrive/EPILEPSY_ALERT_SYSTEM/fall_dataset/labels/train/fall004.txt  \n",
            "  inflating: /content/gdrive/MyDrive/EPILEPSY_ALERT_SYSTEM/fall_dataset/labels/train/fall005.txt  \n",
            "  inflating: /content/gdrive/MyDrive/EPILEPSY_ALERT_SYSTEM/fall_dataset/labels/train/fall006.txt  \n",
            "  inflating: /content/gdrive/MyDrive/EPILEPSY_ALERT_SYSTEM/fall_dataset/labels/train/fall007.txt  \n",
            "  inflating: /content/gdrive/MyDrive/EPILEPSY_ALERT_SYSTEM/fall_dataset/labels/train/fall008.txt  \n",
            "  inflating: /content/gdrive/MyDrive/EPILEPSY_ALERT_SYSTEM/fall_dataset/labels/train/fall009.txt  \n",
            "  inflating: /content/gdrive/MyDrive/EPILEPSY_ALERT_SYSTEM/fall_dataset/labels/train/fall010.txt  \n",
            "  inflating: /content/gdrive/MyDrive/EPILEPSY_ALERT_SYSTEM/fall_dataset/labels/train/fall011.txt  \n",
            "  inflating: /content/gdrive/MyDrive/EPILEPSY_ALERT_SYSTEM/fall_dataset/labels/train/fall012.txt  \n",
            "  inflating: /content/gdrive/MyDrive/EPILEPSY_ALERT_SYSTEM/fall_dataset/labels/train/fall013.txt  \n",
            "  inflating: /content/gdrive/MyDrive/EPILEPSY_ALERT_SYSTEM/fall_dataset/labels/train/fall014.txt  \n",
            "  inflating: /content/gdrive/MyDrive/EPILEPSY_ALERT_SYSTEM/fall_dataset/labels/train/fall015.txt  \n",
            "  inflating: /content/gdrive/MyDrive/EPILEPSY_ALERT_SYSTEM/fall_dataset/labels/train/fall016.txt  \n",
            "  inflating: /content/gdrive/MyDrive/EPILEPSY_ALERT_SYSTEM/fall_dataset/labels/train/fall017.txt  \n",
            "  inflating: /content/gdrive/MyDrive/EPILEPSY_ALERT_SYSTEM/fall_dataset/labels/train/fall018.txt  \n",
            "  inflating: /content/gdrive/MyDrive/EPILEPSY_ALERT_SYSTEM/fall_dataset/labels/train/fall019.txt  \n",
            "  inflating: /content/gdrive/MyDrive/EPILEPSY_ALERT_SYSTEM/fall_dataset/labels/train/fall020.txt  \n",
            "  inflating: /content/gdrive/MyDrive/EPILEPSY_ALERT_SYSTEM/fall_dataset/labels/train/fall021.txt  \n",
            "  inflating: /content/gdrive/MyDrive/EPILEPSY_ALERT_SYSTEM/fall_dataset/labels/train/fall022.txt  \n",
            "  inflating: /content/gdrive/MyDrive/EPILEPSY_ALERT_SYSTEM/fall_dataset/labels/train/fall023.txt  \n",
            "  inflating: /content/gdrive/MyDrive/EPILEPSY_ALERT_SYSTEM/fall_dataset/labels/train/fall024.txt  \n",
            "  inflating: /content/gdrive/MyDrive/EPILEPSY_ALERT_SYSTEM/fall_dataset/labels/train/fall025.txt  \n",
            "  inflating: /content/gdrive/MyDrive/EPILEPSY_ALERT_SYSTEM/fall_dataset/labels/train/fall026.txt  \n",
            "  inflating: /content/gdrive/MyDrive/EPILEPSY_ALERT_SYSTEM/fall_dataset/labels/train/fall027.txt  \n",
            "  inflating: /content/gdrive/MyDrive/EPILEPSY_ALERT_SYSTEM/fall_dataset/labels/train/fall028.txt  \n",
            "  inflating: /content/gdrive/MyDrive/EPILEPSY_ALERT_SYSTEM/fall_dataset/labels/train/fall029.txt  \n",
            "  inflating: /content/gdrive/MyDrive/EPILEPSY_ALERT_SYSTEM/fall_dataset/labels/train/fall030.txt  \n",
            "  inflating: /content/gdrive/MyDrive/EPILEPSY_ALERT_SYSTEM/fall_dataset/labels/train/fall031.txt  \n",
            "  inflating: /content/gdrive/MyDrive/EPILEPSY_ALERT_SYSTEM/fall_dataset/labels/train/fall032.txt  \n",
            "  inflating: /content/gdrive/MyDrive/EPILEPSY_ALERT_SYSTEM/fall_dataset/labels/train/fall033.txt  \n",
            "  inflating: /content/gdrive/MyDrive/EPILEPSY_ALERT_SYSTEM/fall_dataset/labels/train/fall034.txt  \n",
            "  inflating: /content/gdrive/MyDrive/EPILEPSY_ALERT_SYSTEM/fall_dataset/labels/train/fall035.txt  \n",
            "  inflating: /content/gdrive/MyDrive/EPILEPSY_ALERT_SYSTEM/fall_dataset/labels/train/fall036.txt  \n",
            "  inflating: /content/gdrive/MyDrive/EPILEPSY_ALERT_SYSTEM/fall_dataset/labels/train/fall037.txt  \n",
            "  inflating: /content/gdrive/MyDrive/EPILEPSY_ALERT_SYSTEM/fall_dataset/labels/train/fall038.txt  \n",
            "  inflating: /content/gdrive/MyDrive/EPILEPSY_ALERT_SYSTEM/fall_dataset/labels/train/fall039.txt  \n",
            "  inflating: /content/gdrive/MyDrive/EPILEPSY_ALERT_SYSTEM/fall_dataset/labels/train/fall040.txt  \n",
            "  inflating: /content/gdrive/MyDrive/EPILEPSY_ALERT_SYSTEM/fall_dataset/labels/train/fall041.txt  \n",
            "  inflating: /content/gdrive/MyDrive/EPILEPSY_ALERT_SYSTEM/fall_dataset/labels/train/fall042.txt  \n",
            "  inflating: /content/gdrive/MyDrive/EPILEPSY_ALERT_SYSTEM/fall_dataset/labels/train/fall043.txt  \n",
            "  inflating: /content/gdrive/MyDrive/EPILEPSY_ALERT_SYSTEM/fall_dataset/labels/train/fall044.txt  \n",
            "  inflating: /content/gdrive/MyDrive/EPILEPSY_ALERT_SYSTEM/fall_dataset/labels/train/fall045.txt  \n",
            "  inflating: /content/gdrive/MyDrive/EPILEPSY_ALERT_SYSTEM/fall_dataset/labels/train/fall046.txt  \n",
            "  inflating: /content/gdrive/MyDrive/EPILEPSY_ALERT_SYSTEM/fall_dataset/labels/train/fall047.txt  \n",
            "  inflating: /content/gdrive/MyDrive/EPILEPSY_ALERT_SYSTEM/fall_dataset/labels/train/fall048.txt  \n",
            "  inflating: /content/gdrive/MyDrive/EPILEPSY_ALERT_SYSTEM/fall_dataset/labels/train/fall049.txt  \n",
            "  inflating: /content/gdrive/MyDrive/EPILEPSY_ALERT_SYSTEM/fall_dataset/labels/train/fall050.txt  \n",
            "  inflating: /content/gdrive/MyDrive/EPILEPSY_ALERT_SYSTEM/fall_dataset/labels/train/fall051.txt  \n",
            "  inflating: /content/gdrive/MyDrive/EPILEPSY_ALERT_SYSTEM/fall_dataset/labels/train/fall052.txt  \n",
            "  inflating: /content/gdrive/MyDrive/EPILEPSY_ALERT_SYSTEM/fall_dataset/labels/train/fall053.txt  \n",
            "  inflating: /content/gdrive/MyDrive/EPILEPSY_ALERT_SYSTEM/fall_dataset/labels/train/fall054.txt  \n",
            "  inflating: /content/gdrive/MyDrive/EPILEPSY_ALERT_SYSTEM/fall_dataset/labels/train/fall055.txt  \n",
            "  inflating: /content/gdrive/MyDrive/EPILEPSY_ALERT_SYSTEM/fall_dataset/labels/train/fall056.txt  \n",
            "  inflating: /content/gdrive/MyDrive/EPILEPSY_ALERT_SYSTEM/fall_dataset/labels/train/fall057.txt  \n",
            "  inflating: /content/gdrive/MyDrive/EPILEPSY_ALERT_SYSTEM/fall_dataset/labels/train/fall058.txt  \n",
            "  inflating: /content/gdrive/MyDrive/EPILEPSY_ALERT_SYSTEM/fall_dataset/labels/train/fall059.txt  \n",
            "  inflating: /content/gdrive/MyDrive/EPILEPSY_ALERT_SYSTEM/fall_dataset/labels/train/fall060.txt  \n",
            "  inflating: /content/gdrive/MyDrive/EPILEPSY_ALERT_SYSTEM/fall_dataset/labels/train/fall061.txt  \n",
            "  inflating: /content/gdrive/MyDrive/EPILEPSY_ALERT_SYSTEM/fall_dataset/labels/train/fall062.txt  \n",
            "  inflating: /content/gdrive/MyDrive/EPILEPSY_ALERT_SYSTEM/fall_dataset/labels/train/fall063.txt  \n",
            "  inflating: /content/gdrive/MyDrive/EPILEPSY_ALERT_SYSTEM/fall_dataset/labels/train/fall064.txt  \n",
            "  inflating: /content/gdrive/MyDrive/EPILEPSY_ALERT_SYSTEM/fall_dataset/labels/train/fall065.txt  \n",
            "  inflating: /content/gdrive/MyDrive/EPILEPSY_ALERT_SYSTEM/fall_dataset/labels/train/fall066.txt  \n",
            "  inflating: /content/gdrive/MyDrive/EPILEPSY_ALERT_SYSTEM/fall_dataset/labels/train/fall067.txt  \n",
            "  inflating: /content/gdrive/MyDrive/EPILEPSY_ALERT_SYSTEM/fall_dataset/labels/train/fall068.txt  \n",
            "  inflating: /content/gdrive/MyDrive/EPILEPSY_ALERT_SYSTEM/fall_dataset/labels/train/fall069.txt  \n",
            "  inflating: /content/gdrive/MyDrive/EPILEPSY_ALERT_SYSTEM/fall_dataset/labels/train/fall070.txt  \n",
            "  inflating: /content/gdrive/MyDrive/EPILEPSY_ALERT_SYSTEM/fall_dataset/labels/train/fall071.txt  \n",
            "  inflating: /content/gdrive/MyDrive/EPILEPSY_ALERT_SYSTEM/fall_dataset/labels/train/fall072.txt  \n",
            "  inflating: /content/gdrive/MyDrive/EPILEPSY_ALERT_SYSTEM/fall_dataset/labels/train/fall073.txt  \n",
            "  inflating: /content/gdrive/MyDrive/EPILEPSY_ALERT_SYSTEM/fall_dataset/labels/train/fall074.txt  \n",
            "  inflating: /content/gdrive/MyDrive/EPILEPSY_ALERT_SYSTEM/fall_dataset/labels/train/fall075.txt  \n",
            "  inflating: /content/gdrive/MyDrive/EPILEPSY_ALERT_SYSTEM/fall_dataset/labels/train/fall076.txt  \n",
            "  inflating: /content/gdrive/MyDrive/EPILEPSY_ALERT_SYSTEM/fall_dataset/labels/train/fall077.txt  \n",
            "  inflating: /content/gdrive/MyDrive/EPILEPSY_ALERT_SYSTEM/fall_dataset/labels/train/fall078.txt  \n",
            "  inflating: /content/gdrive/MyDrive/EPILEPSY_ALERT_SYSTEM/fall_dataset/labels/train/fall079.txt  \n",
            "  inflating: /content/gdrive/MyDrive/EPILEPSY_ALERT_SYSTEM/fall_dataset/labels/train/fall080.txt  \n",
            "  inflating: /content/gdrive/MyDrive/EPILEPSY_ALERT_SYSTEM/fall_dataset/labels/train/fall081.txt  \n",
            "  inflating: /content/gdrive/MyDrive/EPILEPSY_ALERT_SYSTEM/fall_dataset/labels/train/fall082.txt  \n",
            "  inflating: /content/gdrive/MyDrive/EPILEPSY_ALERT_SYSTEM/fall_dataset/labels/train/fall083.txt  \n",
            "  inflating: /content/gdrive/MyDrive/EPILEPSY_ALERT_SYSTEM/fall_dataset/labels/train/fall084.txt  \n",
            "  inflating: /content/gdrive/MyDrive/EPILEPSY_ALERT_SYSTEM/fall_dataset/labels/train/fall085.txt  \n",
            "  inflating: /content/gdrive/MyDrive/EPILEPSY_ALERT_SYSTEM/fall_dataset/labels/train/fall086.txt  \n",
            "  inflating: /content/gdrive/MyDrive/EPILEPSY_ALERT_SYSTEM/fall_dataset/labels/train/fall087.txt  \n",
            "  inflating: /content/gdrive/MyDrive/EPILEPSY_ALERT_SYSTEM/fall_dataset/labels/train/fall088.txt  \n",
            "  inflating: /content/gdrive/MyDrive/EPILEPSY_ALERT_SYSTEM/fall_dataset/labels/train/fall089.txt  \n",
            "  inflating: /content/gdrive/MyDrive/EPILEPSY_ALERT_SYSTEM/fall_dataset/labels/train/fall090.txt  \n",
            "  inflating: /content/gdrive/MyDrive/EPILEPSY_ALERT_SYSTEM/fall_dataset/labels/train/fall091.txt  \n",
            "  inflating: /content/gdrive/MyDrive/EPILEPSY_ALERT_SYSTEM/fall_dataset/labels/train/fall092.txt  \n",
            "  inflating: /content/gdrive/MyDrive/EPILEPSY_ALERT_SYSTEM/fall_dataset/labels/train/fall093.txt  \n",
            "  inflating: /content/gdrive/MyDrive/EPILEPSY_ALERT_SYSTEM/fall_dataset/labels/train/fall094.txt  \n",
            "  inflating: /content/gdrive/MyDrive/EPILEPSY_ALERT_SYSTEM/fall_dataset/labels/train/fall095.txt  \n",
            "  inflating: /content/gdrive/MyDrive/EPILEPSY_ALERT_SYSTEM/fall_dataset/labels/train/fall096.txt  \n",
            "  inflating: /content/gdrive/MyDrive/EPILEPSY_ALERT_SYSTEM/fall_dataset/labels/train/fall097.txt  \n",
            "  inflating: /content/gdrive/MyDrive/EPILEPSY_ALERT_SYSTEM/fall_dataset/labels/train/fall098.txt  \n",
            "  inflating: /content/gdrive/MyDrive/EPILEPSY_ALERT_SYSTEM/fall_dataset/labels/train/fall099.txt  \n",
            "  inflating: /content/gdrive/MyDrive/EPILEPSY_ALERT_SYSTEM/fall_dataset/labels/train/fall100.txt  \n",
            "  inflating: /content/gdrive/MyDrive/EPILEPSY_ALERT_SYSTEM/fall_dataset/labels/train/fall101.txt  \n",
            "  inflating: /content/gdrive/MyDrive/EPILEPSY_ALERT_SYSTEM/fall_dataset/labels/train/fall102.txt  \n",
            "  inflating: /content/gdrive/MyDrive/EPILEPSY_ALERT_SYSTEM/fall_dataset/labels/train/fall103.txt  \n",
            "  inflating: /content/gdrive/MyDrive/EPILEPSY_ALERT_SYSTEM/fall_dataset/labels/train/fall104.txt  \n",
            "  inflating: /content/gdrive/MyDrive/EPILEPSY_ALERT_SYSTEM/fall_dataset/labels/train/fall105.txt  \n",
            "  inflating: /content/gdrive/MyDrive/EPILEPSY_ALERT_SYSTEM/fall_dataset/labels/train/fall106.txt  \n",
            "  inflating: /content/gdrive/MyDrive/EPILEPSY_ALERT_SYSTEM/fall_dataset/labels/train/fall107.txt  \n",
            "  inflating: /content/gdrive/MyDrive/EPILEPSY_ALERT_SYSTEM/fall_dataset/labels/train/fall108.txt  \n",
            "  inflating: /content/gdrive/MyDrive/EPILEPSY_ALERT_SYSTEM/fall_dataset/labels/train/fall109.txt  \n",
            "  inflating: /content/gdrive/MyDrive/EPILEPSY_ALERT_SYSTEM/fall_dataset/labels/train/fall110.txt  \n",
            "  inflating: /content/gdrive/MyDrive/EPILEPSY_ALERT_SYSTEM/fall_dataset/labels/train/fall111.txt  \n",
            "  inflating: /content/gdrive/MyDrive/EPILEPSY_ALERT_SYSTEM/fall_dataset/labels/train/fall112.txt  \n",
            "  inflating: /content/gdrive/MyDrive/EPILEPSY_ALERT_SYSTEM/fall_dataset/labels/train/fall113.txt  \n",
            "  inflating: /content/gdrive/MyDrive/EPILEPSY_ALERT_SYSTEM/fall_dataset/labels/train/fall114.txt  \n",
            "  inflating: /content/gdrive/MyDrive/EPILEPSY_ALERT_SYSTEM/fall_dataset/labels/train/fall115.txt  \n",
            "  inflating: /content/gdrive/MyDrive/EPILEPSY_ALERT_SYSTEM/fall_dataset/labels/train/fall116.txt  \n",
            "  inflating: /content/gdrive/MyDrive/EPILEPSY_ALERT_SYSTEM/fall_dataset/labels/train/fall117.txt  \n",
            "  inflating: /content/gdrive/MyDrive/EPILEPSY_ALERT_SYSTEM/fall_dataset/labels/train/fall118.txt  \n",
            "  inflating: /content/gdrive/MyDrive/EPILEPSY_ALERT_SYSTEM/fall_dataset/labels/train/fall119.txt  \n",
            "  inflating: /content/gdrive/MyDrive/EPILEPSY_ALERT_SYSTEM/fall_dataset/labels/train/fall120.txt  \n",
            "  inflating: /content/gdrive/MyDrive/EPILEPSY_ALERT_SYSTEM/fall_dataset/labels/train/fall121.txt  \n",
            "  inflating: /content/gdrive/MyDrive/EPILEPSY_ALERT_SYSTEM/fall_dataset/labels/train/fall122.txt  \n",
            "  inflating: /content/gdrive/MyDrive/EPILEPSY_ALERT_SYSTEM/fall_dataset/labels/train/fall123.txt  \n",
            "  inflating: /content/gdrive/MyDrive/EPILEPSY_ALERT_SYSTEM/fall_dataset/labels/train/fall124.txt  \n",
            "  inflating: /content/gdrive/MyDrive/EPILEPSY_ALERT_SYSTEM/fall_dataset/labels/train/fall125.txt  \n",
            "  inflating: /content/gdrive/MyDrive/EPILEPSY_ALERT_SYSTEM/fall_dataset/labels/train/fall126.txt  \n",
            "  inflating: /content/gdrive/MyDrive/EPILEPSY_ALERT_SYSTEM/fall_dataset/labels/train/fall127.txt  \n",
            "  inflating: /content/gdrive/MyDrive/EPILEPSY_ALERT_SYSTEM/fall_dataset/labels/train/fall128.txt  \n",
            "  inflating: /content/gdrive/MyDrive/EPILEPSY_ALERT_SYSTEM/fall_dataset/labels/train/fall129.txt  \n",
            "  inflating: /content/gdrive/MyDrive/EPILEPSY_ALERT_SYSTEM/fall_dataset/labels/train/fall130.txt  \n",
            "  inflating: /content/gdrive/MyDrive/EPILEPSY_ALERT_SYSTEM/fall_dataset/labels/train/fall131.txt  \n",
            "  inflating: /content/gdrive/MyDrive/EPILEPSY_ALERT_SYSTEM/fall_dataset/labels/train/fall132.txt  \n",
            "  inflating: /content/gdrive/MyDrive/EPILEPSY_ALERT_SYSTEM/fall_dataset/labels/train/fall133.txt  \n",
            "  inflating: /content/gdrive/MyDrive/EPILEPSY_ALERT_SYSTEM/fall_dataset/labels/train/fall134.txt  \n",
            "  inflating: /content/gdrive/MyDrive/EPILEPSY_ALERT_SYSTEM/fall_dataset/labels/train/fall135.txt  \n",
            "  inflating: /content/gdrive/MyDrive/EPILEPSY_ALERT_SYSTEM/fall_dataset/labels/train/fall136.txt  \n",
            "  inflating: /content/gdrive/MyDrive/EPILEPSY_ALERT_SYSTEM/fall_dataset/labels/train/fall137.txt  \n",
            "  inflating: /content/gdrive/MyDrive/EPILEPSY_ALERT_SYSTEM/fall_dataset/labels/train/fall138.txt  \n",
            "  inflating: /content/gdrive/MyDrive/EPILEPSY_ALERT_SYSTEM/fall_dataset/labels/train/fall139.txt  \n",
            "  inflating: /content/gdrive/MyDrive/EPILEPSY_ALERT_SYSTEM/fall_dataset/labels/train/fall140.txt  \n",
            "  inflating: /content/gdrive/MyDrive/EPILEPSY_ALERT_SYSTEM/fall_dataset/labels/train/fall141.txt  \n",
            "  inflating: /content/gdrive/MyDrive/EPILEPSY_ALERT_SYSTEM/fall_dataset/labels/train/fall142.txt  \n",
            "  inflating: /content/gdrive/MyDrive/EPILEPSY_ALERT_SYSTEM/fall_dataset/labels/train/fall143.txt  \n",
            "  inflating: /content/gdrive/MyDrive/EPILEPSY_ALERT_SYSTEM/fall_dataset/labels/train/fall144.txt  \n",
            "  inflating: /content/gdrive/MyDrive/EPILEPSY_ALERT_SYSTEM/fall_dataset/labels/train/fall145.txt  \n",
            "  inflating: /content/gdrive/MyDrive/EPILEPSY_ALERT_SYSTEM/fall_dataset/labels/train/fall146.txt  \n",
            "  inflating: /content/gdrive/MyDrive/EPILEPSY_ALERT_SYSTEM/fall_dataset/labels/train/fall147.txt  \n",
            "  inflating: /content/gdrive/MyDrive/EPILEPSY_ALERT_SYSTEM/fall_dataset/labels/train/fall148.txt  \n",
            "  inflating: /content/gdrive/MyDrive/EPILEPSY_ALERT_SYSTEM/fall_dataset/labels/train/fall149.txt  \n",
            "  inflating: /content/gdrive/MyDrive/EPILEPSY_ALERT_SYSTEM/fall_dataset/labels/train/fall150.txt  \n",
            "  inflating: /content/gdrive/MyDrive/EPILEPSY_ALERT_SYSTEM/fall_dataset/labels/train/fall151.txt  \n",
            "  inflating: /content/gdrive/MyDrive/EPILEPSY_ALERT_SYSTEM/fall_dataset/labels/train/fall152.txt  \n",
            "  inflating: /content/gdrive/MyDrive/EPILEPSY_ALERT_SYSTEM/fall_dataset/labels/train/fall153.txt  \n",
            "  inflating: /content/gdrive/MyDrive/EPILEPSY_ALERT_SYSTEM/fall_dataset/labels/train/fall154.txt  \n",
            "  inflating: /content/gdrive/MyDrive/EPILEPSY_ALERT_SYSTEM/fall_dataset/labels/train/fall155.txt  \n",
            "  inflating: /content/gdrive/MyDrive/EPILEPSY_ALERT_SYSTEM/fall_dataset/labels/train/fall156.txt  \n",
            "  inflating: /content/gdrive/MyDrive/EPILEPSY_ALERT_SYSTEM/fall_dataset/labels/train/fall157.txt  \n",
            "  inflating: /content/gdrive/MyDrive/EPILEPSY_ALERT_SYSTEM/fall_dataset/labels/train/fall158.txt  \n",
            "  inflating: /content/gdrive/MyDrive/EPILEPSY_ALERT_SYSTEM/fall_dataset/labels/train/fall159.txt  \n",
            "  inflating: /content/gdrive/MyDrive/EPILEPSY_ALERT_SYSTEM/fall_dataset/labels/train/fall160.txt  \n",
            "  inflating: /content/gdrive/MyDrive/EPILEPSY_ALERT_SYSTEM/fall_dataset/labels/train/fall161.txt  \n",
            "  inflating: /content/gdrive/MyDrive/EPILEPSY_ALERT_SYSTEM/fall_dataset/labels/train/fall162.txt  \n",
            "  inflating: /content/gdrive/MyDrive/EPILEPSY_ALERT_SYSTEM/fall_dataset/labels/train/fall163.txt  \n",
            "  inflating: /content/gdrive/MyDrive/EPILEPSY_ALERT_SYSTEM/fall_dataset/labels/train/fall164.txt  \n",
            "  inflating: /content/gdrive/MyDrive/EPILEPSY_ALERT_SYSTEM/fall_dataset/labels/train/fall165.txt  \n",
            "  inflating: /content/gdrive/MyDrive/EPILEPSY_ALERT_SYSTEM/fall_dataset/labels/train/fall166.txt  \n",
            "  inflating: /content/gdrive/MyDrive/EPILEPSY_ALERT_SYSTEM/fall_dataset/labels/train/fall167.txt  \n",
            "  inflating: /content/gdrive/MyDrive/EPILEPSY_ALERT_SYSTEM/fall_dataset/labels/train/fall168.txt  \n",
            "  inflating: /content/gdrive/MyDrive/EPILEPSY_ALERT_SYSTEM/fall_dataset/labels/train/fall169.txt  \n",
            "  inflating: /content/gdrive/MyDrive/EPILEPSY_ALERT_SYSTEM/fall_dataset/labels/train/fall170.txt  \n",
            "  inflating: /content/gdrive/MyDrive/EPILEPSY_ALERT_SYSTEM/fall_dataset/labels/train/fall171.txt  \n",
            "  inflating: /content/gdrive/MyDrive/EPILEPSY_ALERT_SYSTEM/fall_dataset/labels/train/fall172.txt  \n",
            "  inflating: /content/gdrive/MyDrive/EPILEPSY_ALERT_SYSTEM/fall_dataset/labels/train/fall173.txt  \n",
            "  inflating: /content/gdrive/MyDrive/EPILEPSY_ALERT_SYSTEM/fall_dataset/labels/train/fall174.txt  \n",
            "  inflating: /content/gdrive/MyDrive/EPILEPSY_ALERT_SYSTEM/fall_dataset/labels/train/fall175.txt  \n",
            "  inflating: /content/gdrive/MyDrive/EPILEPSY_ALERT_SYSTEM/fall_dataset/labels/train/fall176.txt  \n",
            "  inflating: /content/gdrive/MyDrive/EPILEPSY_ALERT_SYSTEM/fall_dataset/labels/train/fall177.txt  \n",
            "  inflating: /content/gdrive/MyDrive/EPILEPSY_ALERT_SYSTEM/fall_dataset/labels/train/fall178.txt  \n",
            "  inflating: /content/gdrive/MyDrive/EPILEPSY_ALERT_SYSTEM/fall_dataset/labels/train/fall179.txt  \n",
            "  inflating: /content/gdrive/MyDrive/EPILEPSY_ALERT_SYSTEM/fall_dataset/labels/train/fall180.txt  \n",
            "  inflating: /content/gdrive/MyDrive/EPILEPSY_ALERT_SYSTEM/fall_dataset/labels/train/fall181.txt  \n",
            "  inflating: /content/gdrive/MyDrive/EPILEPSY_ALERT_SYSTEM/fall_dataset/labels/train/fall182.txt  \n",
            "  inflating: /content/gdrive/MyDrive/EPILEPSY_ALERT_SYSTEM/fall_dataset/labels/train/fall183.txt  \n",
            "  inflating: /content/gdrive/MyDrive/EPILEPSY_ALERT_SYSTEM/fall_dataset/labels/train/fall184.txt  \n",
            "  inflating: /content/gdrive/MyDrive/EPILEPSY_ALERT_SYSTEM/fall_dataset/labels/train/fall185.txt  \n",
            "  inflating: /content/gdrive/MyDrive/EPILEPSY_ALERT_SYSTEM/fall_dataset/labels/train/fall186.txt  \n",
            "  inflating: /content/gdrive/MyDrive/EPILEPSY_ALERT_SYSTEM/fall_dataset/labels/train/fall187.txt  \n",
            "  inflating: /content/gdrive/MyDrive/EPILEPSY_ALERT_SYSTEM/fall_dataset/labels/train/fall188.txt  \n",
            "  inflating: /content/gdrive/MyDrive/EPILEPSY_ALERT_SYSTEM/fall_dataset/labels/train/fall189.txt  \n",
            "  inflating: /content/gdrive/MyDrive/EPILEPSY_ALERT_SYSTEM/fall_dataset/labels/train/fall190.txt  \n",
            "  inflating: /content/gdrive/MyDrive/EPILEPSY_ALERT_SYSTEM/fall_dataset/labels/train/fall191.txt  \n",
            "  inflating: /content/gdrive/MyDrive/EPILEPSY_ALERT_SYSTEM/fall_dataset/labels/train/fall192.txt  \n",
            "  inflating: /content/gdrive/MyDrive/EPILEPSY_ALERT_SYSTEM/fall_dataset/labels/train/fall193.txt  \n",
            "  inflating: /content/gdrive/MyDrive/EPILEPSY_ALERT_SYSTEM/fall_dataset/labels/train/fall194.txt  \n",
            "  inflating: /content/gdrive/MyDrive/EPILEPSY_ALERT_SYSTEM/fall_dataset/labels/train/fall195.txt  \n",
            "  inflating: /content/gdrive/MyDrive/EPILEPSY_ALERT_SYSTEM/fall_dataset/labels/train/fall196.txt  \n",
            "  inflating: /content/gdrive/MyDrive/EPILEPSY_ALERT_SYSTEM/fall_dataset/labels/train/fall197.txt  \n",
            "  inflating: /content/gdrive/MyDrive/EPILEPSY_ALERT_SYSTEM/fall_dataset/labels/train/fall198.txt  \n",
            "  inflating: /content/gdrive/MyDrive/EPILEPSY_ALERT_SYSTEM/fall_dataset/labels/train/fall199.txt  \n",
            "  inflating: /content/gdrive/MyDrive/EPILEPSY_ALERT_SYSTEM/fall_dataset/labels/train/fall200.txt  \n",
            "  inflating: /content/gdrive/MyDrive/EPILEPSY_ALERT_SYSTEM/fall_dataset/labels/train/fall201.txt  \n",
            "  inflating: /content/gdrive/MyDrive/EPILEPSY_ALERT_SYSTEM/fall_dataset/labels/train/fall202.txt  \n",
            "  inflating: /content/gdrive/MyDrive/EPILEPSY_ALERT_SYSTEM/fall_dataset/labels/train/fall203.txt  \n",
            "  inflating: /content/gdrive/MyDrive/EPILEPSY_ALERT_SYSTEM/fall_dataset/labels/train/fall204.txt  \n",
            "  inflating: /content/gdrive/MyDrive/EPILEPSY_ALERT_SYSTEM/fall_dataset/labels/train/fall205.txt  \n",
            "  inflating: /content/gdrive/MyDrive/EPILEPSY_ALERT_SYSTEM/fall_dataset/labels/train/fall206.txt  \n",
            "  inflating: /content/gdrive/MyDrive/EPILEPSY_ALERT_SYSTEM/fall_dataset/labels/train/fall207.txt  \n",
            "  inflating: /content/gdrive/MyDrive/EPILEPSY_ALERT_SYSTEM/fall_dataset/labels/train/fall208.txt  \n",
            "  inflating: /content/gdrive/MyDrive/EPILEPSY_ALERT_SYSTEM/fall_dataset/labels/train/not fallen001.txt  \n",
            "  inflating: /content/gdrive/MyDrive/EPILEPSY_ALERT_SYSTEM/fall_dataset/labels/train/not fallen002.txt  \n",
            "  inflating: /content/gdrive/MyDrive/EPILEPSY_ALERT_SYSTEM/fall_dataset/labels/train/not fallen003.txt  \n",
            "  inflating: /content/gdrive/MyDrive/EPILEPSY_ALERT_SYSTEM/fall_dataset/labels/train/not fallen004.txt  \n",
            "  inflating: /content/gdrive/MyDrive/EPILEPSY_ALERT_SYSTEM/fall_dataset/labels/train/not fallen005.txt  \n",
            "  inflating: /content/gdrive/MyDrive/EPILEPSY_ALERT_SYSTEM/fall_dataset/labels/train/not fallen006.txt  \n",
            "  inflating: /content/gdrive/MyDrive/EPILEPSY_ALERT_SYSTEM/fall_dataset/labels/train/not fallen007.txt  \n",
            "  inflating: /content/gdrive/MyDrive/EPILEPSY_ALERT_SYSTEM/fall_dataset/labels/train/not fallen008.txt  \n",
            "  inflating: /content/gdrive/MyDrive/EPILEPSY_ALERT_SYSTEM/fall_dataset/labels/train/not fallen009.txt  \n",
            "  inflating: /content/gdrive/MyDrive/EPILEPSY_ALERT_SYSTEM/fall_dataset/labels/train/not fallen010.txt  \n",
            "  inflating: /content/gdrive/MyDrive/EPILEPSY_ALERT_SYSTEM/fall_dataset/labels/train/not fallen011.txt  \n",
            "  inflating: /content/gdrive/MyDrive/EPILEPSY_ALERT_SYSTEM/fall_dataset/labels/train/not fallen012.txt  \n",
            "  inflating: /content/gdrive/MyDrive/EPILEPSY_ALERT_SYSTEM/fall_dataset/labels/train/not fallen013.txt  \n",
            "  inflating: /content/gdrive/MyDrive/EPILEPSY_ALERT_SYSTEM/fall_dataset/labels/train/not fallen014.txt  \n",
            "  inflating: /content/gdrive/MyDrive/EPILEPSY_ALERT_SYSTEM/fall_dataset/labels/train/not fallen015.txt  \n",
            "  inflating: /content/gdrive/MyDrive/EPILEPSY_ALERT_SYSTEM/fall_dataset/labels/train/not fallen016.txt  \n",
            "  inflating: /content/gdrive/MyDrive/EPILEPSY_ALERT_SYSTEM/fall_dataset/labels/train/not fallen017.txt  \n",
            "  inflating: /content/gdrive/MyDrive/EPILEPSY_ALERT_SYSTEM/fall_dataset/labels/train/not fallen018.txt  \n",
            "  inflating: /content/gdrive/MyDrive/EPILEPSY_ALERT_SYSTEM/fall_dataset/labels/train/not fallen019.txt  \n",
            "  inflating: /content/gdrive/MyDrive/EPILEPSY_ALERT_SYSTEM/fall_dataset/labels/train/not fallen020.txt  \n",
            "  inflating: /content/gdrive/MyDrive/EPILEPSY_ALERT_SYSTEM/fall_dataset/labels/train/not fallen021.txt  \n",
            "  inflating: /content/gdrive/MyDrive/EPILEPSY_ALERT_SYSTEM/fall_dataset/labels/train/not fallen022.txt  \n",
            "  inflating: /content/gdrive/MyDrive/EPILEPSY_ALERT_SYSTEM/fall_dataset/labels/train/not fallen023.txt  \n",
            "  inflating: /content/gdrive/MyDrive/EPILEPSY_ALERT_SYSTEM/fall_dataset/labels/train/not fallen024.txt  \n",
            "  inflating: /content/gdrive/MyDrive/EPILEPSY_ALERT_SYSTEM/fall_dataset/labels/train/not fallen025.txt  \n",
            "  inflating: /content/gdrive/MyDrive/EPILEPSY_ALERT_SYSTEM/fall_dataset/labels/train/not fallen026.txt  \n",
            "  inflating: /content/gdrive/MyDrive/EPILEPSY_ALERT_SYSTEM/fall_dataset/labels/train/not fallen027.txt  \n",
            "  inflating: /content/gdrive/MyDrive/EPILEPSY_ALERT_SYSTEM/fall_dataset/labels/train/not fallen028.txt  \n",
            "  inflating: /content/gdrive/MyDrive/EPILEPSY_ALERT_SYSTEM/fall_dataset/labels/train/not fallen029.txt  \n",
            "  inflating: /content/gdrive/MyDrive/EPILEPSY_ALERT_SYSTEM/fall_dataset/labels/train/not fallen030.txt  \n",
            "  inflating: /content/gdrive/MyDrive/EPILEPSY_ALERT_SYSTEM/fall_dataset/labels/train/not fallen031.txt  \n",
            "  inflating: /content/gdrive/MyDrive/EPILEPSY_ALERT_SYSTEM/fall_dataset/labels/train/not fallen032.txt  \n",
            "  inflating: /content/gdrive/MyDrive/EPILEPSY_ALERT_SYSTEM/fall_dataset/labels/train/not fallen033.txt  \n",
            "  inflating: /content/gdrive/MyDrive/EPILEPSY_ALERT_SYSTEM/fall_dataset/labels/train/not fallen034.txt  \n",
            "  inflating: /content/gdrive/MyDrive/EPILEPSY_ALERT_SYSTEM/fall_dataset/labels/train/not fallen035.txt  \n",
            "  inflating: /content/gdrive/MyDrive/EPILEPSY_ALERT_SYSTEM/fall_dataset/labels/train/not fallen036.txt  \n",
            "  inflating: /content/gdrive/MyDrive/EPILEPSY_ALERT_SYSTEM/fall_dataset/labels/train/not fallen037.txt  \n",
            "  inflating: /content/gdrive/MyDrive/EPILEPSY_ALERT_SYSTEM/fall_dataset/labels/train/not fallen038.txt  \n",
            "  inflating: /content/gdrive/MyDrive/EPILEPSY_ALERT_SYSTEM/fall_dataset/labels/train/not fallen039.txt  \n",
            "  inflating: /content/gdrive/MyDrive/EPILEPSY_ALERT_SYSTEM/fall_dataset/labels/train/not fallen040.txt  \n",
            "  inflating: /content/gdrive/MyDrive/EPILEPSY_ALERT_SYSTEM/fall_dataset/labels/train/not fallen041.txt  \n",
            "  inflating: /content/gdrive/MyDrive/EPILEPSY_ALERT_SYSTEM/fall_dataset/labels/train/not fallen042.txt  \n",
            "  inflating: /content/gdrive/MyDrive/EPILEPSY_ALERT_SYSTEM/fall_dataset/labels/train/not fallen043.txt  \n",
            "  inflating: /content/gdrive/MyDrive/EPILEPSY_ALERT_SYSTEM/fall_dataset/labels/train/not fallen044.txt  \n",
            "  inflating: /content/gdrive/MyDrive/EPILEPSY_ALERT_SYSTEM/fall_dataset/labels/train/not fallen045.txt  \n",
            "  inflating: /content/gdrive/MyDrive/EPILEPSY_ALERT_SYSTEM/fall_dataset/labels/train/not fallen046.txt  \n",
            "  inflating: /content/gdrive/MyDrive/EPILEPSY_ALERT_SYSTEM/fall_dataset/labels/train/not fallen047.txt  \n",
            "  inflating: /content/gdrive/MyDrive/EPILEPSY_ALERT_SYSTEM/fall_dataset/labels/train/not fallen048.txt  \n",
            "  inflating: /content/gdrive/MyDrive/EPILEPSY_ALERT_SYSTEM/fall_dataset/labels/train/not fallen049.txt  \n",
            "  inflating: /content/gdrive/MyDrive/EPILEPSY_ALERT_SYSTEM/fall_dataset/labels/train/not fallen050.txt  \n",
            "  inflating: /content/gdrive/MyDrive/EPILEPSY_ALERT_SYSTEM/fall_dataset/labels/train/not fallen051.txt  \n",
            "  inflating: /content/gdrive/MyDrive/EPILEPSY_ALERT_SYSTEM/fall_dataset/labels/train/not fallen052.txt  \n",
            "  inflating: /content/gdrive/MyDrive/EPILEPSY_ALERT_SYSTEM/fall_dataset/labels/train/not fallen053.txt  \n",
            "  inflating: /content/gdrive/MyDrive/EPILEPSY_ALERT_SYSTEM/fall_dataset/labels/train/not fallen054.txt  \n",
            "  inflating: /content/gdrive/MyDrive/EPILEPSY_ALERT_SYSTEM/fall_dataset/labels/train/not fallen055.txt  \n",
            "  inflating: /content/gdrive/MyDrive/EPILEPSY_ALERT_SYSTEM/fall_dataset/labels/train/not fallen056.txt  \n",
            "  inflating: /content/gdrive/MyDrive/EPILEPSY_ALERT_SYSTEM/fall_dataset/labels/train/not fallen057.txt  \n",
            "  inflating: /content/gdrive/MyDrive/EPILEPSY_ALERT_SYSTEM/fall_dataset/labels/train/not fallen058.txt  \n",
            "  inflating: /content/gdrive/MyDrive/EPILEPSY_ALERT_SYSTEM/fall_dataset/labels/train/not fallen059.txt  \n",
            "  inflating: /content/gdrive/MyDrive/EPILEPSY_ALERT_SYSTEM/fall_dataset/labels/train/not fallen060.txt  \n",
            "  inflating: /content/gdrive/MyDrive/EPILEPSY_ALERT_SYSTEM/fall_dataset/labels/train/not fallen061.txt  \n",
            "  inflating: /content/gdrive/MyDrive/EPILEPSY_ALERT_SYSTEM/fall_dataset/labels/train/not fallen062.txt  \n",
            "  inflating: /content/gdrive/MyDrive/EPILEPSY_ALERT_SYSTEM/fall_dataset/labels/train/not fallen063.txt  \n",
            "  inflating: /content/gdrive/MyDrive/EPILEPSY_ALERT_SYSTEM/fall_dataset/labels/train/not fallen064.txt  \n",
            "  inflating: /content/gdrive/MyDrive/EPILEPSY_ALERT_SYSTEM/fall_dataset/labels/train/not fallen065.txt  \n",
            "  inflating: /content/gdrive/MyDrive/EPILEPSY_ALERT_SYSTEM/fall_dataset/labels/train/not fallen066.txt  \n",
            "  inflating: /content/gdrive/MyDrive/EPILEPSY_ALERT_SYSTEM/fall_dataset/labels/train/not fallen067.txt  \n",
            "  inflating: /content/gdrive/MyDrive/EPILEPSY_ALERT_SYSTEM/fall_dataset/labels/train/not fallen068.txt  \n",
            "  inflating: /content/gdrive/MyDrive/EPILEPSY_ALERT_SYSTEM/fall_dataset/labels/train/not fallen069.txt  \n",
            "  inflating: /content/gdrive/MyDrive/EPILEPSY_ALERT_SYSTEM/fall_dataset/labels/train/not fallen070.txt  \n",
            "  inflating: /content/gdrive/MyDrive/EPILEPSY_ALERT_SYSTEM/fall_dataset/labels/train/not fallen071.txt  \n",
            "  inflating: /content/gdrive/MyDrive/EPILEPSY_ALERT_SYSTEM/fall_dataset/labels/train/not fallen072.txt  \n",
            "  inflating: /content/gdrive/MyDrive/EPILEPSY_ALERT_SYSTEM/fall_dataset/labels/train/not fallen073.txt  \n",
            "  inflating: /content/gdrive/MyDrive/EPILEPSY_ALERT_SYSTEM/fall_dataset/labels/train/not fallen074.txt  \n",
            "  inflating: /content/gdrive/MyDrive/EPILEPSY_ALERT_SYSTEM/fall_dataset/labels/train/not fallen075.txt  \n",
            "  inflating: /content/gdrive/MyDrive/EPILEPSY_ALERT_SYSTEM/fall_dataset/labels/train/not fallen076.txt  \n",
            "  inflating: /content/gdrive/MyDrive/EPILEPSY_ALERT_SYSTEM/fall_dataset/labels/train/not fallen077.txt  \n",
            "  inflating: /content/gdrive/MyDrive/EPILEPSY_ALERT_SYSTEM/fall_dataset/labels/train/not fallen078.txt  \n",
            "  inflating: /content/gdrive/MyDrive/EPILEPSY_ALERT_SYSTEM/fall_dataset/labels/train/not fallen079.txt  \n",
            "  inflating: /content/gdrive/MyDrive/EPILEPSY_ALERT_SYSTEM/fall_dataset/labels/train/not fallen080.txt  \n",
            "  inflating: /content/gdrive/MyDrive/EPILEPSY_ALERT_SYSTEM/fall_dataset/labels/train/not fallen081.txt  \n",
            "  inflating: /content/gdrive/MyDrive/EPILEPSY_ALERT_SYSTEM/fall_dataset/labels/train/not fallen082.txt  \n",
            "  inflating: /content/gdrive/MyDrive/EPILEPSY_ALERT_SYSTEM/fall_dataset/labels/train/not fallen083.txt  \n",
            "  inflating: /content/gdrive/MyDrive/EPILEPSY_ALERT_SYSTEM/fall_dataset/labels/train/not fallen084.txt  \n",
            "  inflating: /content/gdrive/MyDrive/EPILEPSY_ALERT_SYSTEM/fall_dataset/labels/train/not fallen085.txt  \n",
            "  inflating: /content/gdrive/MyDrive/EPILEPSY_ALERT_SYSTEM/fall_dataset/labels/train/not fallen086.txt  \n",
            "  inflating: /content/gdrive/MyDrive/EPILEPSY_ALERT_SYSTEM/fall_dataset/labels/train/not fallen087.txt  \n",
            "  inflating: /content/gdrive/MyDrive/EPILEPSY_ALERT_SYSTEM/fall_dataset/labels/train/not fallen088.txt  \n",
            "  inflating: /content/gdrive/MyDrive/EPILEPSY_ALERT_SYSTEM/fall_dataset/labels/train/not fallen089.txt  \n",
            "  inflating: /content/gdrive/MyDrive/EPILEPSY_ALERT_SYSTEM/fall_dataset/labels/train/not fallen090.txt  \n",
            "  inflating: /content/gdrive/MyDrive/EPILEPSY_ALERT_SYSTEM/fall_dataset/labels/train/not fallen091.txt  \n",
            "  inflating: /content/gdrive/MyDrive/EPILEPSY_ALERT_SYSTEM/fall_dataset/labels/train/not fallen092.txt  \n",
            "  inflating: /content/gdrive/MyDrive/EPILEPSY_ALERT_SYSTEM/fall_dataset/labels/train/not fallen093.txt  \n",
            "  inflating: /content/gdrive/MyDrive/EPILEPSY_ALERT_SYSTEM/fall_dataset/labels/train/not fallen094.txt  \n",
            "  inflating: /content/gdrive/MyDrive/EPILEPSY_ALERT_SYSTEM/fall_dataset/labels/train/not fallen095.txt  \n",
            "  inflating: /content/gdrive/MyDrive/EPILEPSY_ALERT_SYSTEM/fall_dataset/labels/train/not fallen096.txt  \n",
            "  inflating: /content/gdrive/MyDrive/EPILEPSY_ALERT_SYSTEM/fall_dataset/labels/train/not fallen097.txt  \n",
            "  inflating: /content/gdrive/MyDrive/EPILEPSY_ALERT_SYSTEM/fall_dataset/labels/train/not fallen098.txt  \n",
            "  inflating: /content/gdrive/MyDrive/EPILEPSY_ALERT_SYSTEM/fall_dataset/labels/train/not fallen099.txt  \n",
            "  inflating: /content/gdrive/MyDrive/EPILEPSY_ALERT_SYSTEM/fall_dataset/labels/train/not fallen100.txt  \n",
            "  inflating: /content/gdrive/MyDrive/EPILEPSY_ALERT_SYSTEM/fall_dataset/labels/train/not fallen101.txt  \n",
            "  inflating: /content/gdrive/MyDrive/EPILEPSY_ALERT_SYSTEM/fall_dataset/labels/train/not fallen102.txt  \n",
            "  inflating: /content/gdrive/MyDrive/EPILEPSY_ALERT_SYSTEM/fall_dataset/labels/train/not fallen103.txt  \n",
            "  inflating: /content/gdrive/MyDrive/EPILEPSY_ALERT_SYSTEM/fall_dataset/labels/train/not fallen104.txt  \n",
            "  inflating: /content/gdrive/MyDrive/EPILEPSY_ALERT_SYSTEM/fall_dataset/labels/train/not fallen105.txt  \n",
            "  inflating: /content/gdrive/MyDrive/EPILEPSY_ALERT_SYSTEM/fall_dataset/labels/train/not fallen106.txt  \n",
            "  inflating: /content/gdrive/MyDrive/EPILEPSY_ALERT_SYSTEM/fall_dataset/labels/train/not fallen107.txt  \n",
            "  inflating: /content/gdrive/MyDrive/EPILEPSY_ALERT_SYSTEM/fall_dataset/labels/train/not fallen108.txt  \n",
            "  inflating: /content/gdrive/MyDrive/EPILEPSY_ALERT_SYSTEM/fall_dataset/labels/train/not fallen109.txt  \n",
            "  inflating: /content/gdrive/MyDrive/EPILEPSY_ALERT_SYSTEM/fall_dataset/labels/train/not fallen110.txt  \n",
            "  inflating: /content/gdrive/MyDrive/EPILEPSY_ALERT_SYSTEM/fall_dataset/labels/train/not fallen111.txt  \n",
            "  inflating: /content/gdrive/MyDrive/EPILEPSY_ALERT_SYSTEM/fall_dataset/labels/train/not fallen112.txt  \n",
            "  inflating: /content/gdrive/MyDrive/EPILEPSY_ALERT_SYSTEM/fall_dataset/labels/train/not fallen113.txt  \n",
            "  inflating: /content/gdrive/MyDrive/EPILEPSY_ALERT_SYSTEM/fall_dataset/labels/train/not fallen114.txt  \n",
            "  inflating: /content/gdrive/MyDrive/EPILEPSY_ALERT_SYSTEM/fall_dataset/labels/train/not fallen115.txt  \n",
            "  inflating: /content/gdrive/MyDrive/EPILEPSY_ALERT_SYSTEM/fall_dataset/labels/train/not fallen116.txt  \n",
            "  inflating: /content/gdrive/MyDrive/EPILEPSY_ALERT_SYSTEM/fall_dataset/labels/train/not fallen117.txt  \n",
            "  inflating: /content/gdrive/MyDrive/EPILEPSY_ALERT_SYSTEM/fall_dataset/labels/train/not fallen118.txt  \n",
            "  inflating: /content/gdrive/MyDrive/EPILEPSY_ALERT_SYSTEM/fall_dataset/labels/train/not fallen119.txt  \n",
            "  inflating: /content/gdrive/MyDrive/EPILEPSY_ALERT_SYSTEM/fall_dataset/labels/train/not fallen120.txt  \n",
            "  inflating: /content/gdrive/MyDrive/EPILEPSY_ALERT_SYSTEM/fall_dataset/labels/train/not fallen121.txt  \n",
            "  inflating: /content/gdrive/MyDrive/EPILEPSY_ALERT_SYSTEM/fall_dataset/labels/train/not fallen122.txt  \n",
            "  inflating: /content/gdrive/MyDrive/EPILEPSY_ALERT_SYSTEM/fall_dataset/labels/train/not fallen123.txt  \n",
            "  inflating: /content/gdrive/MyDrive/EPILEPSY_ALERT_SYSTEM/fall_dataset/labels/train/not fallen124.txt  \n",
            "  inflating: /content/gdrive/MyDrive/EPILEPSY_ALERT_SYSTEM/fall_dataset/labels/train/not fallen125.txt  \n",
            "  inflating: /content/gdrive/MyDrive/EPILEPSY_ALERT_SYSTEM/fall_dataset/labels/train/not fallen126.txt  \n",
            "  inflating: /content/gdrive/MyDrive/EPILEPSY_ALERT_SYSTEM/fall_dataset/labels/train/not fallen127.txt  \n",
            "  inflating: /content/gdrive/MyDrive/EPILEPSY_ALERT_SYSTEM/fall_dataset/labels/train/not fallen128.txt  \n",
            "  inflating: /content/gdrive/MyDrive/EPILEPSY_ALERT_SYSTEM/fall_dataset/labels/train/not fallen129.txt  \n",
            "  inflating: /content/gdrive/MyDrive/EPILEPSY_ALERT_SYSTEM/fall_dataset/labels/train/not fallen130.txt  \n",
            "  inflating: /content/gdrive/MyDrive/EPILEPSY_ALERT_SYSTEM/fall_dataset/labels/train/not fallen131.txt  \n",
            "  inflating: /content/gdrive/MyDrive/EPILEPSY_ALERT_SYSTEM/fall_dataset/labels/train/not fallen132.txt  \n",
            "  inflating: /content/gdrive/MyDrive/EPILEPSY_ALERT_SYSTEM/fall_dataset/labels/train/not fallen133.txt  \n",
            "  inflating: /content/gdrive/MyDrive/EPILEPSY_ALERT_SYSTEM/fall_dataset/labels/train/not fallen134.txt  \n",
            "  inflating: /content/gdrive/MyDrive/EPILEPSY_ALERT_SYSTEM/fall_dataset/labels/train/not fallen135.txt  \n",
            "  inflating: /content/gdrive/MyDrive/EPILEPSY_ALERT_SYSTEM/fall_dataset/labels/train/not fallen136.txt  \n",
            "  inflating: /content/gdrive/MyDrive/EPILEPSY_ALERT_SYSTEM/fall_dataset/labels/train/not fallen137.txt  \n",
            "  inflating: /content/gdrive/MyDrive/EPILEPSY_ALERT_SYSTEM/fall_dataset/labels/train/not fallen138.txt  \n",
            "  inflating: /content/gdrive/MyDrive/EPILEPSY_ALERT_SYSTEM/fall_dataset/labels/train/not fallen139.txt  \n",
            "  inflating: /content/gdrive/MyDrive/EPILEPSY_ALERT_SYSTEM/fall_dataset/labels/train/not fallen140.txt  \n",
            "  inflating: /content/gdrive/MyDrive/EPILEPSY_ALERT_SYSTEM/fall_dataset/labels/train/not fallen141.txt  \n",
            "  inflating: /content/gdrive/MyDrive/EPILEPSY_ALERT_SYSTEM/fall_dataset/labels/train/not fallen142.txt  \n",
            "  inflating: /content/gdrive/MyDrive/EPILEPSY_ALERT_SYSTEM/fall_dataset/labels/train/not fallen143.txt  \n",
            "  inflating: /content/gdrive/MyDrive/EPILEPSY_ALERT_SYSTEM/fall_dataset/labels/train/not fallen144.txt  \n",
            "  inflating: /content/gdrive/MyDrive/EPILEPSY_ALERT_SYSTEM/fall_dataset/labels/train/not fallen145.txt  \n",
            "  inflating: /content/gdrive/MyDrive/EPILEPSY_ALERT_SYSTEM/fall_dataset/labels/train/not fallen146.txt  \n",
            "  inflating: /content/gdrive/MyDrive/EPILEPSY_ALERT_SYSTEM/fall_dataset/labels/train/not fallen147.txt  \n",
            "  inflating: /content/gdrive/MyDrive/EPILEPSY_ALERT_SYSTEM/fall_dataset/labels/train/not fallen148.txt  \n",
            "  inflating: /content/gdrive/MyDrive/EPILEPSY_ALERT_SYSTEM/fall_dataset/labels/train/not fallen149.txt  \n",
            "  inflating: /content/gdrive/MyDrive/EPILEPSY_ALERT_SYSTEM/fall_dataset/labels/train/not fallen150.txt  \n",
            "  inflating: /content/gdrive/MyDrive/EPILEPSY_ALERT_SYSTEM/fall_dataset/labels/train/not fallen151.txt  \n",
            "  inflating: /content/gdrive/MyDrive/EPILEPSY_ALERT_SYSTEM/fall_dataset/labels/train/not fallen152.txt  \n",
            "  inflating: /content/gdrive/MyDrive/EPILEPSY_ALERT_SYSTEM/fall_dataset/labels/train/not fallen153.txt  \n",
            "  inflating: /content/gdrive/MyDrive/EPILEPSY_ALERT_SYSTEM/fall_dataset/labels/train/not fallen154.txt  \n",
            "  inflating: /content/gdrive/MyDrive/EPILEPSY_ALERT_SYSTEM/fall_dataset/labels/train/not fallen155.txt  \n",
            "  inflating: /content/gdrive/MyDrive/EPILEPSY_ALERT_SYSTEM/fall_dataset/labels/train/not fallen156.txt  \n",
            "  inflating: /content/gdrive/MyDrive/EPILEPSY_ALERT_SYSTEM/fall_dataset/labels/train/not fallen157.txt  \n",
            "  inflating: /content/gdrive/MyDrive/EPILEPSY_ALERT_SYSTEM/fall_dataset/labels/train/not fallen158.txt  \n",
            "  inflating: /content/gdrive/MyDrive/EPILEPSY_ALERT_SYSTEM/fall_dataset/labels/train/not fallen159.txt  \n",
            "  inflating: /content/gdrive/MyDrive/EPILEPSY_ALERT_SYSTEM/fall_dataset/labels/train/not fallen160.txt  \n",
            "  inflating: /content/gdrive/MyDrive/EPILEPSY_ALERT_SYSTEM/fall_dataset/labels/train/not fallen161.txt  \n",
            "  inflating: /content/gdrive/MyDrive/EPILEPSY_ALERT_SYSTEM/fall_dataset/labels/train/not fallen162.txt  \n",
            "  inflating: /content/gdrive/MyDrive/EPILEPSY_ALERT_SYSTEM/fall_dataset/labels/train/not fallen163.txt  \n",
            "  inflating: /content/gdrive/MyDrive/EPILEPSY_ALERT_SYSTEM/fall_dataset/labels/train/not fallen164.txt  \n",
            "  inflating: /content/gdrive/MyDrive/EPILEPSY_ALERT_SYSTEM/fall_dataset/labels/train/not fallen165.txt  \n",
            "  inflating: /content/gdrive/MyDrive/EPILEPSY_ALERT_SYSTEM/fall_dataset/labels/train/not fallen166.txt  \n",
            "  inflating: /content/gdrive/MyDrive/EPILEPSY_ALERT_SYSTEM/fall_dataset/labels/val/fall001.txt  \n",
            "  inflating: /content/gdrive/MyDrive/EPILEPSY_ALERT_SYSTEM/fall_dataset/labels/val/fall002.txt  \n",
            "  inflating: /content/gdrive/MyDrive/EPILEPSY_ALERT_SYSTEM/fall_dataset/labels/val/fall003.txt  \n",
            "  inflating: /content/gdrive/MyDrive/EPILEPSY_ALERT_SYSTEM/fall_dataset/labels/val/fall004.txt  \n",
            "  inflating: /content/gdrive/MyDrive/EPILEPSY_ALERT_SYSTEM/fall_dataset/labels/val/fall005.txt  \n",
            "  inflating: /content/gdrive/MyDrive/EPILEPSY_ALERT_SYSTEM/fall_dataset/labels/val/fall006.txt  \n",
            "  inflating: /content/gdrive/MyDrive/EPILEPSY_ALERT_SYSTEM/fall_dataset/labels/val/fall007.txt  \n",
            "  inflating: /content/gdrive/MyDrive/EPILEPSY_ALERT_SYSTEM/fall_dataset/labels/val/fall008.txt  \n",
            "  inflating: /content/gdrive/MyDrive/EPILEPSY_ALERT_SYSTEM/fall_dataset/labels/val/fall009.txt  \n",
            "  inflating: /content/gdrive/MyDrive/EPILEPSY_ALERT_SYSTEM/fall_dataset/labels/val/fall010.txt  \n",
            "  inflating: /content/gdrive/MyDrive/EPILEPSY_ALERT_SYSTEM/fall_dataset/labels/val/fall011.txt  \n",
            "  inflating: /content/gdrive/MyDrive/EPILEPSY_ALERT_SYSTEM/fall_dataset/labels/val/fall012.txt  \n",
            "  inflating: /content/gdrive/MyDrive/EPILEPSY_ALERT_SYSTEM/fall_dataset/labels/val/fall013.txt  \n",
            "  inflating: /content/gdrive/MyDrive/EPILEPSY_ALERT_SYSTEM/fall_dataset/labels/val/fall014.txt  \n",
            "  inflating: /content/gdrive/MyDrive/EPILEPSY_ALERT_SYSTEM/fall_dataset/labels/val/fall015.txt  \n",
            "  inflating: /content/gdrive/MyDrive/EPILEPSY_ALERT_SYSTEM/fall_dataset/labels/val/fall016.txt  \n",
            "  inflating: /content/gdrive/MyDrive/EPILEPSY_ALERT_SYSTEM/fall_dataset/labels/val/fall017.txt  \n",
            "  inflating: /content/gdrive/MyDrive/EPILEPSY_ALERT_SYSTEM/fall_dataset/labels/val/fall018.txt  \n",
            "  inflating: /content/gdrive/MyDrive/EPILEPSY_ALERT_SYSTEM/fall_dataset/labels/val/fall019.txt  \n",
            "  inflating: /content/gdrive/MyDrive/EPILEPSY_ALERT_SYSTEM/fall_dataset/labels/val/fall020.txt  \n",
            "  inflating: /content/gdrive/MyDrive/EPILEPSY_ALERT_SYSTEM/fall_dataset/labels/val/fall021.txt  \n",
            "  inflating: /content/gdrive/MyDrive/EPILEPSY_ALERT_SYSTEM/fall_dataset/labels/val/fall022.txt  \n",
            "  inflating: /content/gdrive/MyDrive/EPILEPSY_ALERT_SYSTEM/fall_dataset/labels/val/fall023.txt  \n",
            "  inflating: /content/gdrive/MyDrive/EPILEPSY_ALERT_SYSTEM/fall_dataset/labels/val/fall024.txt  \n",
            "  inflating: /content/gdrive/MyDrive/EPILEPSY_ALERT_SYSTEM/fall_dataset/labels/val/fall025.txt  \n",
            "  inflating: /content/gdrive/MyDrive/EPILEPSY_ALERT_SYSTEM/fall_dataset/labels/val/fall026.txt  \n",
            "  inflating: /content/gdrive/MyDrive/EPILEPSY_ALERT_SYSTEM/fall_dataset/labels/val/fall027.txt  \n",
            "  inflating: /content/gdrive/MyDrive/EPILEPSY_ALERT_SYSTEM/fall_dataset/labels/val/fall028.txt  \n",
            "  inflating: /content/gdrive/MyDrive/EPILEPSY_ALERT_SYSTEM/fall_dataset/labels/val/fall029.txt  \n",
            "  inflating: /content/gdrive/MyDrive/EPILEPSY_ALERT_SYSTEM/fall_dataset/labels/val/fall030.txt  \n",
            "  inflating: /content/gdrive/MyDrive/EPILEPSY_ALERT_SYSTEM/fall_dataset/labels/val/fall031.txt  \n",
            "  inflating: /content/gdrive/MyDrive/EPILEPSY_ALERT_SYSTEM/fall_dataset/labels/val/fall032.txt  \n",
            "  inflating: /content/gdrive/MyDrive/EPILEPSY_ALERT_SYSTEM/fall_dataset/labels/val/fall033.txt  \n",
            "  inflating: /content/gdrive/MyDrive/EPILEPSY_ALERT_SYSTEM/fall_dataset/labels/val/fall034.txt  \n",
            "  inflating: /content/gdrive/MyDrive/EPILEPSY_ALERT_SYSTEM/fall_dataset/labels/val/fall035.txt  \n",
            "  inflating: /content/gdrive/MyDrive/EPILEPSY_ALERT_SYSTEM/fall_dataset/labels/val/fall036.txt  \n",
            "  inflating: /content/gdrive/MyDrive/EPILEPSY_ALERT_SYSTEM/fall_dataset/labels/val/fall037.txt  \n",
            "  inflating: /content/gdrive/MyDrive/EPILEPSY_ALERT_SYSTEM/fall_dataset/labels/val/fall038.txt  \n",
            "  inflating: /content/gdrive/MyDrive/EPILEPSY_ALERT_SYSTEM/fall_dataset/labels/val/fall039.txt  \n",
            "  inflating: /content/gdrive/MyDrive/EPILEPSY_ALERT_SYSTEM/fall_dataset/labels/val/fall040.txt  \n",
            "  inflating: /content/gdrive/MyDrive/EPILEPSY_ALERT_SYSTEM/fall_dataset/labels/val/fall041.txt  \n",
            "  inflating: /content/gdrive/MyDrive/EPILEPSY_ALERT_SYSTEM/fall_dataset/labels/val/fall042.txt  \n",
            "  inflating: /content/gdrive/MyDrive/EPILEPSY_ALERT_SYSTEM/fall_dataset/labels/val/fall043.txt  \n",
            "  inflating: /content/gdrive/MyDrive/EPILEPSY_ALERT_SYSTEM/fall_dataset/labels/val/fall044.txt  \n",
            "  inflating: /content/gdrive/MyDrive/EPILEPSY_ALERT_SYSTEM/fall_dataset/labels/val/fall045.txt  \n",
            "  inflating: /content/gdrive/MyDrive/EPILEPSY_ALERT_SYSTEM/fall_dataset/labels/val/fall046.txt  \n",
            "  inflating: /content/gdrive/MyDrive/EPILEPSY_ALERT_SYSTEM/fall_dataset/labels/val/fall047.txt  \n",
            "  inflating: /content/gdrive/MyDrive/EPILEPSY_ALERT_SYSTEM/fall_dataset/labels/val/fall048.txt  \n",
            "  inflating: /content/gdrive/MyDrive/EPILEPSY_ALERT_SYSTEM/fall_dataset/labels/val/fall049.txt  \n",
            "  inflating: /content/gdrive/MyDrive/EPILEPSY_ALERT_SYSTEM/fall_dataset/labels/val/fall050.txt  \n",
            "  inflating: /content/gdrive/MyDrive/EPILEPSY_ALERT_SYSTEM/fall_dataset/labels/val/fall051.txt  \n",
            "  inflating: /content/gdrive/MyDrive/EPILEPSY_ALERT_SYSTEM/fall_dataset/labels/val/fall052.txt  \n",
            "  inflating: /content/gdrive/MyDrive/EPILEPSY_ALERT_SYSTEM/fall_dataset/labels/val/fall053.txt  \n",
            "  inflating: /content/gdrive/MyDrive/EPILEPSY_ALERT_SYSTEM/fall_dataset/labels/val/fall054.txt  \n",
            "  inflating: /content/gdrive/MyDrive/EPILEPSY_ALERT_SYSTEM/fall_dataset/labels/val/fall055.txt  \n",
            "  inflating: /content/gdrive/MyDrive/EPILEPSY_ALERT_SYSTEM/fall_dataset/labels/val/fall056.txt  \n",
            "  inflating: /content/gdrive/MyDrive/EPILEPSY_ALERT_SYSTEM/fall_dataset/labels/val/fall057.txt  \n",
            "  inflating: /content/gdrive/MyDrive/EPILEPSY_ALERT_SYSTEM/fall_dataset/labels/val/fall058.txt  \n",
            "  inflating: /content/gdrive/MyDrive/EPILEPSY_ALERT_SYSTEM/fall_dataset/labels/val/fall059.txt  \n",
            "  inflating: /content/gdrive/MyDrive/EPILEPSY_ALERT_SYSTEM/fall_dataset/labels/val/fall060.txt  \n",
            "  inflating: /content/gdrive/MyDrive/EPILEPSY_ALERT_SYSTEM/fall_dataset/labels/val/fall061.txt  \n",
            "  inflating: /content/gdrive/MyDrive/EPILEPSY_ALERT_SYSTEM/fall_dataset/labels/val/fall062.txt  \n",
            "  inflating: /content/gdrive/MyDrive/EPILEPSY_ALERT_SYSTEM/fall_dataset/labels/val/fall063.txt  \n",
            "  inflating: /content/gdrive/MyDrive/EPILEPSY_ALERT_SYSTEM/fall_dataset/labels/val/fall064.txt  \n",
            "  inflating: /content/gdrive/MyDrive/EPILEPSY_ALERT_SYSTEM/fall_dataset/labels/val/fall065.txt  \n",
            "  inflating: /content/gdrive/MyDrive/EPILEPSY_ALERT_SYSTEM/fall_dataset/labels/val/fall066.txt  \n",
            "  inflating: /content/gdrive/MyDrive/EPILEPSY_ALERT_SYSTEM/fall_dataset/labels/val/fall067.txt  \n",
            "  inflating: /content/gdrive/MyDrive/EPILEPSY_ALERT_SYSTEM/fall_dataset/labels/val/fall068.txt  \n",
            "  inflating: /content/gdrive/MyDrive/EPILEPSY_ALERT_SYSTEM/fall_dataset/labels/val/fall069.txt  \n",
            "  inflating: /content/gdrive/MyDrive/EPILEPSY_ALERT_SYSTEM/fall_dataset/labels/val/fall070.txt  \n",
            "  inflating: /content/gdrive/MyDrive/EPILEPSY_ALERT_SYSTEM/fall_dataset/labels/val/not fallen001.txt  \n",
            "  inflating: /content/gdrive/MyDrive/EPILEPSY_ALERT_SYSTEM/fall_dataset/labels/val/not fallen002.txt  \n",
            "  inflating: /content/gdrive/MyDrive/EPILEPSY_ALERT_SYSTEM/fall_dataset/labels/val/not fallen003.txt  \n",
            "  inflating: /content/gdrive/MyDrive/EPILEPSY_ALERT_SYSTEM/fall_dataset/labels/val/not fallen004.txt  \n",
            "  inflating: /content/gdrive/MyDrive/EPILEPSY_ALERT_SYSTEM/fall_dataset/labels/val/not fallen005.txt  \n",
            "  inflating: /content/gdrive/MyDrive/EPILEPSY_ALERT_SYSTEM/fall_dataset/labels/val/not fallen006.txt  \n",
            "  inflating: /content/gdrive/MyDrive/EPILEPSY_ALERT_SYSTEM/fall_dataset/labels/val/not fallen007.txt  \n",
            "  inflating: /content/gdrive/MyDrive/EPILEPSY_ALERT_SYSTEM/fall_dataset/labels/val/not fallen008.txt  \n",
            "  inflating: /content/gdrive/MyDrive/EPILEPSY_ALERT_SYSTEM/fall_dataset/labels/val/not fallen009.txt  \n",
            "  inflating: /content/gdrive/MyDrive/EPILEPSY_ALERT_SYSTEM/fall_dataset/labels/val/not fallen010.txt  \n",
            "  inflating: /content/gdrive/MyDrive/EPILEPSY_ALERT_SYSTEM/fall_dataset/labels/val/not fallen011.txt  \n",
            "  inflating: /content/gdrive/MyDrive/EPILEPSY_ALERT_SYSTEM/fall_dataset/labels/val/not fallen012.txt  \n",
            "  inflating: /content/gdrive/MyDrive/EPILEPSY_ALERT_SYSTEM/fall_dataset/labels/val/not fallen013.txt  \n",
            "  inflating: /content/gdrive/MyDrive/EPILEPSY_ALERT_SYSTEM/fall_dataset/labels/val/not fallen014.txt  \n",
            "  inflating: /content/gdrive/MyDrive/EPILEPSY_ALERT_SYSTEM/fall_dataset/labels/val/not fallen015.txt  \n",
            "  inflating: /content/gdrive/MyDrive/EPILEPSY_ALERT_SYSTEM/fall_dataset/labels/val/not fallen016.txt  \n",
            "  inflating: /content/gdrive/MyDrive/EPILEPSY_ALERT_SYSTEM/fall_dataset/labels/val/not fallen017.txt  \n",
            "  inflating: /content/gdrive/MyDrive/EPILEPSY_ALERT_SYSTEM/fall_dataset/labels/val/not fallen018.txt  \n",
            "  inflating: /content/gdrive/MyDrive/EPILEPSY_ALERT_SYSTEM/fall_dataset/labels/val/not fallen019.txt  \n",
            "  inflating: /content/gdrive/MyDrive/EPILEPSY_ALERT_SYSTEM/fall_dataset/labels/val/not fallen020.txt  \n",
            "  inflating: /content/gdrive/MyDrive/EPILEPSY_ALERT_SYSTEM/fall_dataset/labels/val/not fallen021.txt  \n",
            "  inflating: /content/gdrive/MyDrive/EPILEPSY_ALERT_SYSTEM/fall_dataset/labels/val/not fallen022.txt  \n",
            "  inflating: /content/gdrive/MyDrive/EPILEPSY_ALERT_SYSTEM/fall_dataset/labels/val/not fallen023.txt  \n",
            "  inflating: /content/gdrive/MyDrive/EPILEPSY_ALERT_SYSTEM/fall_dataset/labels/val/not fallen024.txt  \n",
            "  inflating: /content/gdrive/MyDrive/EPILEPSY_ALERT_SYSTEM/fall_dataset/labels/val/not fallen025.txt  \n",
            "  inflating: /content/gdrive/MyDrive/EPILEPSY_ALERT_SYSTEM/fall_dataset/labels/val/not fallen026.txt  \n",
            "  inflating: /content/gdrive/MyDrive/EPILEPSY_ALERT_SYSTEM/fall_dataset/labels/val/not fallen027.txt  \n",
            "  inflating: /content/gdrive/MyDrive/EPILEPSY_ALERT_SYSTEM/fall_dataset/labels/val/not fallen028.txt  \n",
            "  inflating: /content/gdrive/MyDrive/EPILEPSY_ALERT_SYSTEM/fall_dataset/labels/val/not fallen029.txt  \n",
            "  inflating: /content/gdrive/MyDrive/EPILEPSY_ALERT_SYSTEM/fall_dataset/labels/val/not fallen030.txt  \n",
            "  inflating: /content/gdrive/MyDrive/EPILEPSY_ALERT_SYSTEM/fall_dataset/labels/val/not fallen031.txt  \n",
            "  inflating: /content/gdrive/MyDrive/EPILEPSY_ALERT_SYSTEM/fall_dataset/labels/val/not fallen032.txt  \n",
            "  inflating: /content/gdrive/MyDrive/EPILEPSY_ALERT_SYSTEM/fall_dataset/labels/val/not fallen033.txt  \n",
            "  inflating: /content/gdrive/MyDrive/EPILEPSY_ALERT_SYSTEM/fall_dataset/labels/val/not fallen034.txt  \n",
            "  inflating: /content/gdrive/MyDrive/EPILEPSY_ALERT_SYSTEM/fall_dataset/labels/val/not fallen035.txt  \n",
            "  inflating: /content/gdrive/MyDrive/EPILEPSY_ALERT_SYSTEM/fall_dataset/labels/val/not fallen036.txt  \n",
            "  inflating: /content/gdrive/MyDrive/EPILEPSY_ALERT_SYSTEM/fall_dataset/labels/val/not fallen037.txt  \n",
            "  inflating: /content/gdrive/MyDrive/EPILEPSY_ALERT_SYSTEM/fall_dataset/labels/val/not fallen038.txt  \n",
            "  inflating: /content/gdrive/MyDrive/EPILEPSY_ALERT_SYSTEM/fall_dataset/labels/val/not fallen039.txt  \n",
            "  inflating: /content/gdrive/MyDrive/EPILEPSY_ALERT_SYSTEM/fall_dataset/labels/val/not fallen040.txt  \n",
            "  inflating: /content/gdrive/MyDrive/EPILEPSY_ALERT_SYSTEM/fall_dataset/labels/val/not fallen041.txt  \n"
          ]
        }
      ]
    },
    {
      "cell_type": "code",
      "source": [
        "!pip install ultralytics"
      ],
      "metadata": {
        "id": "C31wNePnpAYU",
        "colab": {
          "base_uri": "https://localhost:8080/"
        },
        "outputId": "213c00c9-ab74-4a97-e1ff-6c4c337762bd"
      },
      "execution_count": null,
      "outputs": [
        {
          "output_type": "stream",
          "name": "stdout",
          "text": [
            "Collecting ultralytics\n",
            "  Downloading ultralytics-8.2.2-py3-none-any.whl (750 kB)\n",
            "\u001b[?25l     \u001b[90m━━━━━━━━━━━━━━━━━━━━━━━━━━━━━━━━━━━━━━━━\u001b[0m \u001b[32m0.0/750.8 kB\u001b[0m \u001b[31m?\u001b[0m eta \u001b[36m-:--:--\u001b[0m\r\u001b[2K     \u001b[91m━━━━━━━━\u001b[0m\u001b[91m╸\u001b[0m\u001b[90m━━━━━━━━━━━━━━━━━━━━━━━━━━━━━━━\u001b[0m \u001b[32m163.8/750.8 kB\u001b[0m \u001b[31m5.2 MB/s\u001b[0m eta \u001b[36m0:00:01\u001b[0m\r\u001b[2K     \u001b[90m━━━━━━━━━━━━━━━━━━━━━━━━━━━━━━━━━━━━━━━━\u001b[0m \u001b[32m750.8/750.8 kB\u001b[0m \u001b[31m12.5 MB/s\u001b[0m eta \u001b[36m0:00:00\u001b[0m\n",
            "\u001b[?25hRequirement already satisfied: matplotlib>=3.3.0 in /usr/local/lib/python3.10/dist-packages (from ultralytics) (3.7.1)\n",
            "Requirement already satisfied: opencv-python>=4.6.0 in /usr/local/lib/python3.10/dist-packages (from ultralytics) (4.8.0.76)\n",
            "Requirement already satisfied: pillow>=7.1.2 in /usr/local/lib/python3.10/dist-packages (from ultralytics) (9.4.0)\n",
            "Requirement already satisfied: pyyaml>=5.3.1 in /usr/local/lib/python3.10/dist-packages (from ultralytics) (6.0.1)\n",
            "Requirement already satisfied: requests>=2.23.0 in /usr/local/lib/python3.10/dist-packages (from ultralytics) (2.31.0)\n",
            "Requirement already satisfied: scipy>=1.4.1 in /usr/local/lib/python3.10/dist-packages (from ultralytics) (1.11.4)\n",
            "Requirement already satisfied: torch>=1.8.0 in /usr/local/lib/python3.10/dist-packages (from ultralytics) (2.2.1+cu121)\n",
            "Requirement already satisfied: torchvision>=0.9.0 in /usr/local/lib/python3.10/dist-packages (from ultralytics) (0.17.1+cu121)\n",
            "Requirement already satisfied: tqdm>=4.64.0 in /usr/local/lib/python3.10/dist-packages (from ultralytics) (4.66.2)\n",
            "Requirement already satisfied: psutil in /usr/local/lib/python3.10/dist-packages (from ultralytics) (5.9.5)\n",
            "Requirement already satisfied: py-cpuinfo in /usr/local/lib/python3.10/dist-packages (from ultralytics) (9.0.0)\n",
            "Collecting thop>=0.1.1 (from ultralytics)\n",
            "  Downloading thop-0.1.1.post2209072238-py3-none-any.whl (15 kB)\n",
            "Requirement already satisfied: pandas>=1.1.4 in /usr/local/lib/python3.10/dist-packages (from ultralytics) (2.0.3)\n",
            "Requirement already satisfied: seaborn>=0.11.0 in /usr/local/lib/python3.10/dist-packages (from ultralytics) (0.13.1)\n",
            "Requirement already satisfied: contourpy>=1.0.1 in /usr/local/lib/python3.10/dist-packages (from matplotlib>=3.3.0->ultralytics) (1.2.1)\n",
            "Requirement already satisfied: cycler>=0.10 in /usr/local/lib/python3.10/dist-packages (from matplotlib>=3.3.0->ultralytics) (0.12.1)\n",
            "Requirement already satisfied: fonttools>=4.22.0 in /usr/local/lib/python3.10/dist-packages (from matplotlib>=3.3.0->ultralytics) (4.51.0)\n",
            "Requirement already satisfied: kiwisolver>=1.0.1 in /usr/local/lib/python3.10/dist-packages (from matplotlib>=3.3.0->ultralytics) (1.4.5)\n",
            "Requirement already satisfied: numpy>=1.20 in /usr/local/lib/python3.10/dist-packages (from matplotlib>=3.3.0->ultralytics) (1.25.2)\n",
            "Requirement already satisfied: packaging>=20.0 in /usr/local/lib/python3.10/dist-packages (from matplotlib>=3.3.0->ultralytics) (24.0)\n",
            "Requirement already satisfied: pyparsing>=2.3.1 in /usr/local/lib/python3.10/dist-packages (from matplotlib>=3.3.0->ultralytics) (3.1.2)\n",
            "Requirement already satisfied: python-dateutil>=2.7 in /usr/local/lib/python3.10/dist-packages (from matplotlib>=3.3.0->ultralytics) (2.8.2)\n",
            "Requirement already satisfied: pytz>=2020.1 in /usr/local/lib/python3.10/dist-packages (from pandas>=1.1.4->ultralytics) (2023.4)\n",
            "Requirement already satisfied: tzdata>=2022.1 in /usr/local/lib/python3.10/dist-packages (from pandas>=1.1.4->ultralytics) (2024.1)\n",
            "Requirement already satisfied: charset-normalizer<4,>=2 in /usr/local/lib/python3.10/dist-packages (from requests>=2.23.0->ultralytics) (3.3.2)\n",
            "Requirement already satisfied: idna<4,>=2.5 in /usr/local/lib/python3.10/dist-packages (from requests>=2.23.0->ultralytics) (3.7)\n",
            "Requirement already satisfied: urllib3<3,>=1.21.1 in /usr/local/lib/python3.10/dist-packages (from requests>=2.23.0->ultralytics) (2.0.7)\n",
            "Requirement already satisfied: certifi>=2017.4.17 in /usr/local/lib/python3.10/dist-packages (from requests>=2.23.0->ultralytics) (2024.2.2)\n",
            "Requirement already satisfied: filelock in /usr/local/lib/python3.10/dist-packages (from torch>=1.8.0->ultralytics) (3.13.4)\n",
            "Requirement already satisfied: typing-extensions>=4.8.0 in /usr/local/lib/python3.10/dist-packages (from torch>=1.8.0->ultralytics) (4.11.0)\n",
            "Requirement already satisfied: sympy in /usr/local/lib/python3.10/dist-packages (from torch>=1.8.0->ultralytics) (1.12)\n",
            "Requirement already satisfied: networkx in /usr/local/lib/python3.10/dist-packages (from torch>=1.8.0->ultralytics) (3.3)\n",
            "Requirement already satisfied: jinja2 in /usr/local/lib/python3.10/dist-packages (from torch>=1.8.0->ultralytics) (3.1.3)\n",
            "Requirement already satisfied: fsspec in /usr/local/lib/python3.10/dist-packages (from torch>=1.8.0->ultralytics) (2023.6.0)\n",
            "Collecting nvidia-cuda-nvrtc-cu12==12.1.105 (from torch>=1.8.0->ultralytics)\n",
            "  Using cached nvidia_cuda_nvrtc_cu12-12.1.105-py3-none-manylinux1_x86_64.whl (23.7 MB)\n",
            "Collecting nvidia-cuda-runtime-cu12==12.1.105 (from torch>=1.8.0->ultralytics)\n",
            "  Using cached nvidia_cuda_runtime_cu12-12.1.105-py3-none-manylinux1_x86_64.whl (823 kB)\n",
            "Collecting nvidia-cuda-cupti-cu12==12.1.105 (from torch>=1.8.0->ultralytics)\n",
            "  Using cached nvidia_cuda_cupti_cu12-12.1.105-py3-none-manylinux1_x86_64.whl (14.1 MB)\n",
            "Collecting nvidia-cudnn-cu12==8.9.2.26 (from torch>=1.8.0->ultralytics)\n",
            "  Using cached nvidia_cudnn_cu12-8.9.2.26-py3-none-manylinux1_x86_64.whl (731.7 MB)\n",
            "Collecting nvidia-cublas-cu12==12.1.3.1 (from torch>=1.8.0->ultralytics)\n",
            "  Using cached nvidia_cublas_cu12-12.1.3.1-py3-none-manylinux1_x86_64.whl (410.6 MB)\n",
            "Collecting nvidia-cufft-cu12==11.0.2.54 (from torch>=1.8.0->ultralytics)\n",
            "  Using cached nvidia_cufft_cu12-11.0.2.54-py3-none-manylinux1_x86_64.whl (121.6 MB)\n",
            "Collecting nvidia-curand-cu12==10.3.2.106 (from torch>=1.8.0->ultralytics)\n",
            "  Using cached nvidia_curand_cu12-10.3.2.106-py3-none-manylinux1_x86_64.whl (56.5 MB)\n",
            "Collecting nvidia-cusolver-cu12==11.4.5.107 (from torch>=1.8.0->ultralytics)\n",
            "  Using cached nvidia_cusolver_cu12-11.4.5.107-py3-none-manylinux1_x86_64.whl (124.2 MB)\n",
            "Collecting nvidia-cusparse-cu12==12.1.0.106 (from torch>=1.8.0->ultralytics)\n",
            "  Using cached nvidia_cusparse_cu12-12.1.0.106-py3-none-manylinux1_x86_64.whl (196.0 MB)\n",
            "Collecting nvidia-nccl-cu12==2.19.3 (from torch>=1.8.0->ultralytics)\n",
            "  Using cached nvidia_nccl_cu12-2.19.3-py3-none-manylinux1_x86_64.whl (166.0 MB)\n",
            "Collecting nvidia-nvtx-cu12==12.1.105 (from torch>=1.8.0->ultralytics)\n",
            "  Using cached nvidia_nvtx_cu12-12.1.105-py3-none-manylinux1_x86_64.whl (99 kB)\n",
            "Requirement already satisfied: triton==2.2.0 in /usr/local/lib/python3.10/dist-packages (from torch>=1.8.0->ultralytics) (2.2.0)\n",
            "Collecting nvidia-nvjitlink-cu12 (from nvidia-cusolver-cu12==11.4.5.107->torch>=1.8.0->ultralytics)\n",
            "  Using cached nvidia_nvjitlink_cu12-12.4.127-py3-none-manylinux2014_x86_64.whl (21.1 MB)\n",
            "Requirement already satisfied: six>=1.5 in /usr/local/lib/python3.10/dist-packages (from python-dateutil>=2.7->matplotlib>=3.3.0->ultralytics) (1.16.0)\n",
            "Requirement already satisfied: MarkupSafe>=2.0 in /usr/local/lib/python3.10/dist-packages (from jinja2->torch>=1.8.0->ultralytics) (2.1.5)\n",
            "Requirement already satisfied: mpmath>=0.19 in /usr/local/lib/python3.10/dist-packages (from sympy->torch>=1.8.0->ultralytics) (1.3.0)\n",
            "Installing collected packages: nvidia-nvtx-cu12, nvidia-nvjitlink-cu12, nvidia-nccl-cu12, nvidia-curand-cu12, nvidia-cufft-cu12, nvidia-cuda-runtime-cu12, nvidia-cuda-nvrtc-cu12, nvidia-cuda-cupti-cu12, nvidia-cublas-cu12, nvidia-cusparse-cu12, nvidia-cudnn-cu12, nvidia-cusolver-cu12, thop, ultralytics\n",
            "Successfully installed nvidia-cublas-cu12-12.1.3.1 nvidia-cuda-cupti-cu12-12.1.105 nvidia-cuda-nvrtc-cu12-12.1.105 nvidia-cuda-runtime-cu12-12.1.105 nvidia-cudnn-cu12-8.9.2.26 nvidia-cufft-cu12-11.0.2.54 nvidia-curand-cu12-10.3.2.106 nvidia-cusolver-cu12-11.4.5.107 nvidia-cusparse-cu12-12.1.0.106 nvidia-nccl-cu12-2.19.3 nvidia-nvjitlink-cu12-12.4.127 nvidia-nvtx-cu12-12.1.105 thop-0.1.1.post2209072238 ultralytics-8.2.2\n"
          ]
        }
      ]
    },
    {
      "cell_type": "code",
      "source": [
        "!pip install torch"
      ],
      "metadata": {
        "id": "jBcPmKwNpAed",
        "colab": {
          "base_uri": "https://localhost:8080/"
        },
        "outputId": "2b8cf4de-647a-403e-cd81-b3ee1fa10bdd"
      },
      "execution_count": null,
      "outputs": [
        {
          "output_type": "stream",
          "name": "stdout",
          "text": [
            "Requirement already satisfied: torch in /usr/local/lib/python3.10/dist-packages (2.2.1+cu121)\n",
            "Requirement already satisfied: filelock in /usr/local/lib/python3.10/dist-packages (from torch) (3.13.4)\n",
            "Requirement already satisfied: typing-extensions>=4.8.0 in /usr/local/lib/python3.10/dist-packages (from torch) (4.11.0)\n",
            "Requirement already satisfied: sympy in /usr/local/lib/python3.10/dist-packages (from torch) (1.12)\n",
            "Requirement already satisfied: networkx in /usr/local/lib/python3.10/dist-packages (from torch) (3.3)\n",
            "Requirement already satisfied: jinja2 in /usr/local/lib/python3.10/dist-packages (from torch) (3.1.3)\n",
            "Requirement already satisfied: fsspec in /usr/local/lib/python3.10/dist-packages (from torch) (2023.6.0)\n",
            "Requirement already satisfied: nvidia-cuda-nvrtc-cu12==12.1.105 in /usr/local/lib/python3.10/dist-packages (from torch) (12.1.105)\n",
            "Requirement already satisfied: nvidia-cuda-runtime-cu12==12.1.105 in /usr/local/lib/python3.10/dist-packages (from torch) (12.1.105)\n",
            "Requirement already satisfied: nvidia-cuda-cupti-cu12==12.1.105 in /usr/local/lib/python3.10/dist-packages (from torch) (12.1.105)\n",
            "Requirement already satisfied: nvidia-cudnn-cu12==8.9.2.26 in /usr/local/lib/python3.10/dist-packages (from torch) (8.9.2.26)\n",
            "Requirement already satisfied: nvidia-cublas-cu12==12.1.3.1 in /usr/local/lib/python3.10/dist-packages (from torch) (12.1.3.1)\n",
            "Requirement already satisfied: nvidia-cufft-cu12==11.0.2.54 in /usr/local/lib/python3.10/dist-packages (from torch) (11.0.2.54)\n",
            "Requirement already satisfied: nvidia-curand-cu12==10.3.2.106 in /usr/local/lib/python3.10/dist-packages (from torch) (10.3.2.106)\n",
            "Requirement already satisfied: nvidia-cusolver-cu12==11.4.5.107 in /usr/local/lib/python3.10/dist-packages (from torch) (11.4.5.107)\n",
            "Requirement already satisfied: nvidia-cusparse-cu12==12.1.0.106 in /usr/local/lib/python3.10/dist-packages (from torch) (12.1.0.106)\n",
            "Requirement already satisfied: nvidia-nccl-cu12==2.19.3 in /usr/local/lib/python3.10/dist-packages (from torch) (2.19.3)\n",
            "Requirement already satisfied: nvidia-nvtx-cu12==12.1.105 in /usr/local/lib/python3.10/dist-packages (from torch) (12.1.105)\n",
            "Requirement already satisfied: triton==2.2.0 in /usr/local/lib/python3.10/dist-packages (from torch) (2.2.0)\n",
            "Requirement already satisfied: nvidia-nvjitlink-cu12 in /usr/local/lib/python3.10/dist-packages (from nvidia-cusolver-cu12==11.4.5.107->torch) (12.4.127)\n",
            "Requirement already satisfied: MarkupSafe>=2.0 in /usr/local/lib/python3.10/dist-packages (from jinja2->torch) (2.1.5)\n",
            "Requirement already satisfied: mpmath>=0.19 in /usr/local/lib/python3.10/dist-packages (from sympy->torch) (1.3.0)\n"
          ]
        }
      ]
    },
    {
      "cell_type": "code",
      "source": [
        "import os\n",
        "\n",
        "from ultralytics import YOLO\n",
        "\n",
        "\n",
        "# Load a model\n",
        "model = YOLO(\"yolov8n.pt\")  # load pre trained model\n",
        "\n",
        "# Use the model\n",
        "results = model.train(data=os.path.join(ROOT_DIR, \"fall_dataset/google_colab_config.yaml\"), epochs=250)  # train the model"
      ],
      "metadata": {
        "id": "-NT3q5NOpAk5",
        "colab": {
          "base_uri": "https://localhost:8080/"
        },
        "outputId": "195bd394-c33f-408d-e012-097b876a8b71"
      },
      "execution_count": null,
      "outputs": [
        {
          "metadata": {
            "tags": null
          },
          "name": "stdout",
          "output_type": "stream",
          "text": [
            "Downloading https://github.com/ultralytics/assets/releases/download/v8.2.0/yolov8n.pt to 'yolov8n.pt'...\n"
          ]
        },
        {
          "metadata": {
            "tags": null
          },
          "name": "stderr",
          "output_type": "stream",
          "text": [
            "100%|██████████| 6.23M/6.23M [00:00<00:00, 152MB/s]\n"
          ]
        },
        {
          "metadata": {
            "tags": null
          },
          "name": "stdout",
          "output_type": "stream",
          "text": [
            "Ultralytics YOLOv8.2.2 🚀 Python-3.10.12 torch-2.2.1+cu121 CUDA:0 (Tesla T4, 15102MiB)\n",
            "\u001b[34m\u001b[1mengine/trainer: \u001b[0mtask=detect, mode=train, model=yolov8n.pt, data=/content/gdrive/MyDrive/EPILEPSY_ALERT_SYSTEM/fall_dataset/google_colab_config.yaml, epochs=250, time=None, patience=100, batch=16, imgsz=640, save=True, save_period=-1, cache=False, device=None, workers=8, project=None, name=train, exist_ok=False, pretrained=True, optimizer=auto, verbose=True, seed=0, deterministic=True, single_cls=False, rect=False, cos_lr=False, close_mosaic=10, resume=False, amp=True, fraction=1.0, profile=False, freeze=None, multi_scale=False, overlap_mask=True, mask_ratio=4, dropout=0.0, val=True, split=val, save_json=False, save_hybrid=False, conf=None, iou=0.7, max_det=300, half=False, dnn=False, plots=True, source=None, vid_stride=1, stream_buffer=False, visualize=False, augment=False, agnostic_nms=False, classes=None, retina_masks=False, embed=None, show=False, save_frames=False, save_txt=False, save_conf=False, save_crop=False, show_labels=True, show_conf=True, show_boxes=True, line_width=None, format=torchscript, keras=False, optimize=False, int8=False, dynamic=False, simplify=False, opset=None, workspace=4, nms=False, lr0=0.01, lrf=0.01, momentum=0.937, weight_decay=0.0005, warmup_epochs=3.0, warmup_momentum=0.8, warmup_bias_lr=0.1, box=7.5, cls=0.5, dfl=1.5, pose=12.0, kobj=1.0, label_smoothing=0.0, nbs=64, hsv_h=0.015, hsv_s=0.7, hsv_v=0.4, degrees=0.0, translate=0.1, scale=0.5, shear=0.0, perspective=0.0, flipud=0.0, fliplr=0.5, bgr=0.0, mosaic=1.0, mixup=0.0, copy_paste=0.0, auto_augment=randaugment, erasing=0.4, crop_fraction=1.0, cfg=None, tracker=botsort.yaml, save_dir=runs/detect/train\n",
            "Downloading https://ultralytics.com/assets/Arial.ttf to '/root/.config/Ultralytics/Arial.ttf'...\n"
          ]
        },
        {
          "metadata": {
            "tags": null
          },
          "name": "stderr",
          "output_type": "stream",
          "text": [
            "100%|██████████| 755k/755k [00:00<00:00, 87.3MB/s]\n"
          ]
        },
        {
          "metadata": {
            "tags": null
          },
          "name": "stdout",
          "output_type": "stream",
          "text": [
            "Overriding model.yaml nc=80 with nc=3\n",
            "\n",
            "                   from  n    params  module                                       arguments                     \n",
            "  0                  -1  1       464  ultralytics.nn.modules.conv.Conv             [3, 16, 3, 2]                 \n",
            "  1                  -1  1      4672  ultralytics.nn.modules.conv.Conv             [16, 32, 3, 2]                \n",
            "  2                  -1  1      7360  ultralytics.nn.modules.block.C2f             [32, 32, 1, True]             \n",
            "  3                  -1  1     18560  ultralytics.nn.modules.conv.Conv             [32, 64, 3, 2]                \n",
            "  4                  -1  2     49664  ultralytics.nn.modules.block.C2f             [64, 64, 2, True]             \n",
            "  5                  -1  1     73984  ultralytics.nn.modules.conv.Conv             [64, 128, 3, 2]               \n",
            "  6                  -1  2    197632  ultralytics.nn.modules.block.C2f             [128, 128, 2, True]           \n",
            "  7                  -1  1    295424  ultralytics.nn.modules.conv.Conv             [128, 256, 3, 2]              \n",
            "  8                  -1  1    460288  ultralytics.nn.modules.block.C2f             [256, 256, 1, True]           \n",
            "  9                  -1  1    164608  ultralytics.nn.modules.block.SPPF            [256, 256, 5]                 \n",
            " 10                  -1  1         0  torch.nn.modules.upsampling.Upsample         [None, 2, 'nearest']          \n",
            " 11             [-1, 6]  1         0  ultralytics.nn.modules.conv.Concat           [1]                           \n",
            " 12                  -1  1    148224  ultralytics.nn.modules.block.C2f             [384, 128, 1]                 \n",
            " 13                  -1  1         0  torch.nn.modules.upsampling.Upsample         [None, 2, 'nearest']          \n",
            " 14             [-1, 4]  1         0  ultralytics.nn.modules.conv.Concat           [1]                           \n",
            " 15                  -1  1     37248  ultralytics.nn.modules.block.C2f             [192, 64, 1]                  \n",
            " 16                  -1  1     36992  ultralytics.nn.modules.conv.Conv             [64, 64, 3, 2]                \n",
            " 17            [-1, 12]  1         0  ultralytics.nn.modules.conv.Concat           [1]                           \n",
            " 18                  -1  1    123648  ultralytics.nn.modules.block.C2f             [192, 128, 1]                 \n",
            " 19                  -1  1    147712  ultralytics.nn.modules.conv.Conv             [128, 128, 3, 2]              \n",
            " 20             [-1, 9]  1         0  ultralytics.nn.modules.conv.Concat           [1]                           \n",
            " 21                  -1  1    493056  ultralytics.nn.modules.block.C2f             [384, 256, 1]                 \n",
            " 22        [15, 18, 21]  1    751897  ultralytics.nn.modules.head.Detect           [3, [64, 128, 256]]           \n",
            "Model summary: 225 layers, 3011433 parameters, 3011417 gradients, 8.2 GFLOPs\n",
            "\n",
            "Transferred 319/355 items from pretrained weights\n",
            "\u001b[34m\u001b[1mTensorBoard: \u001b[0mStart with 'tensorboard --logdir runs/detect/train', view at http://localhost:6006/\n",
            "Freezing layer 'model.22.dfl.conv.weight'\n",
            "\u001b[34m\u001b[1mAMP: \u001b[0mrunning Automatic Mixed Precision (AMP) checks with YOLOv8n...\n",
            "\u001b[34m\u001b[1mAMP: \u001b[0mchecks passed ✅\n"
          ]
        },
        {
          "metadata": {
            "tags": null
          },
          "name": "stderr",
          "output_type": "stream",
          "text": [
            "\u001b[34m\u001b[1mtrain: \u001b[0mScanning /content/gdrive/MyDrive/EPILEPSY-ALERT-SYSTEM/fall_dataset/labels/train.cache... 374 images, 0 backgrounds, 0 corrupt: 100%|██████████| 374/374 [00:00<?, ?it/s]\n"
          ]
        },
        {
          "metadata": {
            "tags": null
          },
          "name": "stdout",
          "output_type": "stream",
          "text": [
            "\u001b[34m\u001b[1malbumentations: \u001b[0mBlur(p=0.01, blur_limit=(3, 7)), MedianBlur(p=0.01, blur_limit=(3, 7)), ToGray(p=0.01), CLAHE(p=0.01, clip_limit=(1, 4.0), tile_grid_size=(8, 8))\n"
          ]
        },
        {
          "metadata": {
            "tags": null
          },
          "name": "stderr",
          "output_type": "stream",
          "text": [
            "/usr/lib/python3.10/multiprocessing/popen_fork.py:66: RuntimeWarning: os.fork() was called. os.fork() is incompatible with multithreaded code, and JAX is multithreaded, so this will likely lead to a deadlock.\n",
            "  self.pid = os.fork()\n",
            "\u001b[34m\u001b[1mval: \u001b[0mScanning /content/gdrive/MyDrive/EPILEPSY-ALERT-SYSTEM/fall_dataset/labels/val.cache... 111 images, 0 backgrounds, 0 corrupt: 100%|██████████| 111/111 [00:00<?, ?it/s]\n"
          ]
        },
        {
          "metadata": {
            "tags": null
          },
          "name": "stdout",
          "output_type": "stream",
          "text": [
            "Plotting labels to runs/detect/train/labels.jpg... \n",
            "\u001b[34m\u001b[1moptimizer:\u001b[0m 'optimizer=auto' found, ignoring 'lr0=0.01' and 'momentum=0.937' and determining best 'optimizer', 'lr0' and 'momentum' automatically... \n",
            "\u001b[34m\u001b[1moptimizer:\u001b[0m AdamW(lr=0.001429, momentum=0.9) with parameter groups 57 weight(decay=0.0), 64 weight(decay=0.0005), 63 bias(decay=0.0)\n",
            "\u001b[34m\u001b[1mTensorBoard: \u001b[0mmodel graph visualization added ✅\n",
            "Image sizes 640 train, 640 val\n",
            "Using 2 dataloader workers\n",
            "Logging results to \u001b[1mruns/detect/train\u001b[0m\n",
            "Starting training for 250 epochs...\n",
            "\n",
            "      Epoch    GPU_mem   box_loss   cls_loss   dfl_loss  Instances       Size\n"
          ]
        },
        {
          "metadata": {
            "tags": null
          },
          "name": "stderr",
          "output_type": "stream",
          "text": [
            "      1/250      2.55G      1.092      2.732      1.356         13        640: 100%|██████████| 24/24 [00:14<00:00,  1.66it/s]\n",
            "                 Class     Images  Instances      Box(P          R      mAP50  mAP50-95): 100%|██████████| 4/4 [00:30<00:00,  7.69s/it]"
          ]
        },
        {
          "metadata": {
            "tags": null
          },
          "name": "stdout",
          "output_type": "stream",
          "text": [
            "                   all        111        114    0.00571      0.982      0.614       0.42\n"
          ]
        },
        {
          "metadata": {
            "tags": null
          },
          "name": "stderr",
          "output_type": "stream",
          "text": [
            "\n"
          ]
        },
        {
          "metadata": {
            "tags": null
          },
          "name": "stdout",
          "output_type": "stream",
          "text": [
            "\n",
            "      Epoch    GPU_mem   box_loss   cls_loss   dfl_loss  Instances       Size\n"
          ]
        },
        {
          "metadata": {
            "tags": null
          },
          "name": "stderr",
          "output_type": "stream",
          "text": [
            "      2/250      2.26G      1.156      2.005      1.378         14        640: 100%|██████████| 24/24 [00:09<00:00,  2.45it/s]\n",
            "                 Class     Images  Instances      Box(P          R      mAP50  mAP50-95): 100%|██████████| 4/4 [00:01<00:00,  2.34it/s]"
          ]
        },
        {
          "metadata": {
            "tags": null
          },
          "name": "stdout",
          "output_type": "stream",
          "text": [
            "                   all        111        114      0.522      0.176      0.448      0.263\n"
          ]
        },
        {
          "metadata": {
            "tags": null
          },
          "name": "stderr",
          "output_type": "stream",
          "text": [
            "\n"
          ]
        },
        {
          "metadata": {
            "tags": null
          },
          "name": "stdout",
          "output_type": "stream",
          "text": [
            "\n",
            "      Epoch    GPU_mem   box_loss   cls_loss   dfl_loss  Instances       Size\n"
          ]
        },
        {
          "metadata": {
            "tags": null
          },
          "name": "stderr",
          "output_type": "stream",
          "text": [
            "      3/250      2.26G      1.217      1.961      1.407         14        640: 100%|██████████| 24/24 [00:09<00:00,  2.45it/s]\n",
            "                 Class     Images  Instances      Box(P          R      mAP50  mAP50-95): 100%|██████████| 4/4 [00:01<00:00,  2.39it/s]"
          ]
        },
        {
          "metadata": {
            "tags": null
          },
          "name": "stdout",
          "output_type": "stream",
          "text": [
            "                   all        111        114       0.55      0.251      0.348      0.168\n"
          ]
        },
        {
          "metadata": {
            "tags": null
          },
          "name": "stderr",
          "output_type": "stream",
          "text": [
            "\n"
          ]
        },
        {
          "metadata": {
            "tags": null
          },
          "name": "stdout",
          "output_type": "stream",
          "text": [
            "\n",
            "      Epoch    GPU_mem   box_loss   cls_loss   dfl_loss  Instances       Size\n"
          ]
        },
        {
          "metadata": {
            "tags": null
          },
          "name": "stderr",
          "output_type": "stream",
          "text": [
            "      4/250      2.26G      1.271      1.985      1.488         14        640: 100%|██████████| 24/24 [00:09<00:00,  2.42it/s]\n",
            "                 Class     Images  Instances      Box(P          R      mAP50  mAP50-95): 100%|██████████| 4/4 [00:01<00:00,  2.16it/s]"
          ]
        },
        {
          "metadata": {
            "tags": null
          },
          "name": "stdout",
          "output_type": "stream",
          "text": [
            "                   all        111        114       0.45      0.323      0.161     0.0601\n"
          ]
        },
        {
          "metadata": {
            "tags": null
          },
          "name": "stderr",
          "output_type": "stream",
          "text": [
            "\n"
          ]
        },
        {
          "metadata": {
            "tags": null
          },
          "name": "stdout",
          "output_type": "stream",
          "text": [
            "\n",
            "      Epoch    GPU_mem   box_loss   cls_loss   dfl_loss  Instances       Size\n"
          ]
        },
        {
          "metadata": {
            "tags": null
          },
          "name": "stderr",
          "output_type": "stream",
          "text": [
            "      5/250      2.28G      1.282      1.958      1.496         14        640: 100%|██████████| 24/24 [00:09<00:00,  2.44it/s]\n",
            "                 Class     Images  Instances      Box(P          R      mAP50  mAP50-95): 100%|██████████| 4/4 [00:01<00:00,  2.31it/s]"
          ]
        },
        {
          "metadata": {
            "tags": null
          },
          "name": "stdout",
          "output_type": "stream",
          "text": [
            "                   all        111        114      0.487       0.15      0.112     0.0399\n"
          ]
        },
        {
          "metadata": {
            "tags": null
          },
          "name": "stderr",
          "output_type": "stream",
          "text": [
            "\n"
          ]
        },
        {
          "metadata": {
            "tags": null
          },
          "name": "stdout",
          "output_type": "stream",
          "text": [
            "\n",
            "      Epoch    GPU_mem   box_loss   cls_loss   dfl_loss  Instances       Size\n"
          ]
        },
        {
          "metadata": {
            "tags": null
          },
          "name": "stderr",
          "output_type": "stream",
          "text": [
            "      6/250      2.29G      1.297      1.874      1.446         16        640: 100%|██████████| 24/24 [00:10<00:00,  2.35it/s]\n",
            "                 Class     Images  Instances      Box(P          R      mAP50  mAP50-95): 100%|██████████| 4/4 [00:01<00:00,  2.95it/s]"
          ]
        },
        {
          "metadata": {
            "tags": null
          },
          "name": "stdout",
          "output_type": "stream",
          "text": [
            "                   all        111        114      0.396      0.527      0.437      0.213\n"
          ]
        },
        {
          "metadata": {
            "tags": null
          },
          "name": "stderr",
          "output_type": "stream",
          "text": [
            "\n"
          ]
        },
        {
          "metadata": {
            "tags": null
          },
          "name": "stdout",
          "output_type": "stream",
          "text": [
            "\n",
            "      Epoch    GPU_mem   box_loss   cls_loss   dfl_loss  Instances       Size\n"
          ]
        },
        {
          "metadata": {
            "tags": null
          },
          "name": "stderr",
          "output_type": "stream",
          "text": [
            "      7/250      2.26G      1.296      1.815      1.501         15        640: 100%|██████████| 24/24 [00:08<00:00,  2.82it/s]\n",
            "                 Class     Images  Instances      Box(P          R      mAP50  mAP50-95): 100%|██████████| 4/4 [00:03<00:00,  1.26it/s]"
          ]
        },
        {
          "metadata": {
            "tags": null
          },
          "name": "stdout",
          "output_type": "stream",
          "text": [
            "                   all        111        114      0.316      0.451      0.368      0.201\n"
          ]
        },
        {
          "metadata": {
            "tags": null
          },
          "name": "stderr",
          "output_type": "stream",
          "text": [
            "\n"
          ]
        },
        {
          "metadata": {
            "tags": null
          },
          "name": "stdout",
          "output_type": "stream",
          "text": [
            "\n",
            "      Epoch    GPU_mem   box_loss   cls_loss   dfl_loss  Instances       Size\n"
          ]
        },
        {
          "metadata": {
            "tags": null
          },
          "name": "stderr",
          "output_type": "stream",
          "text": [
            "      8/250      2.26G      1.293      1.805      1.489         12        640: 100%|██████████| 24/24 [00:08<00:00,  2.91it/s]\n",
            "                 Class     Images  Instances      Box(P          R      mAP50  mAP50-95): 100%|██████████| 4/4 [00:02<00:00,  1.67it/s]"
          ]
        },
        {
          "metadata": {
            "tags": null
          },
          "name": "stdout",
          "output_type": "stream",
          "text": [
            "                   all        111        114      0.413      0.565       0.42      0.227\n"
          ]
        },
        {
          "metadata": {
            "tags": null
          },
          "name": "stderr",
          "output_type": "stream",
          "text": [
            "\n"
          ]
        },
        {
          "metadata": {
            "tags": null
          },
          "name": "stdout",
          "output_type": "stream",
          "text": [
            "\n",
            "      Epoch    GPU_mem   box_loss   cls_loss   dfl_loss  Instances       Size\n"
          ]
        },
        {
          "metadata": {
            "tags": null
          },
          "name": "stderr",
          "output_type": "stream",
          "text": [
            "      9/250      2.26G      1.234      1.716      1.446         12        640: 100%|██████████| 24/24 [00:08<00:00,  2.82it/s]\n",
            "                 Class     Images  Instances      Box(P          R      mAP50  mAP50-95): 100%|██████████| 4/4 [00:01<00:00,  2.57it/s]"
          ]
        },
        {
          "metadata": {
            "tags": null
          },
          "name": "stdout",
          "output_type": "stream",
          "text": [
            "                   all        111        114      0.454      0.631      0.587      0.313\n"
          ]
        },
        {
          "metadata": {
            "tags": null
          },
          "name": "stderr",
          "output_type": "stream",
          "text": [
            "\n"
          ]
        },
        {
          "metadata": {
            "tags": null
          },
          "name": "stdout",
          "output_type": "stream",
          "text": [
            "\n",
            "      Epoch    GPU_mem   box_loss   cls_loss   dfl_loss  Instances       Size\n"
          ]
        },
        {
          "metadata": {
            "tags": null
          },
          "name": "stderr",
          "output_type": "stream",
          "text": [
            "     10/250      2.26G      1.234       1.63      1.464         19        640: 100%|██████████| 24/24 [00:09<00:00,  2.57it/s]\n",
            "                 Class     Images  Instances      Box(P          R      mAP50  mAP50-95): 100%|██████████| 4/4 [00:01<00:00,  2.13it/s]"
          ]
        },
        {
          "metadata": {
            "tags": null
          },
          "name": "stdout",
          "output_type": "stream",
          "text": [
            "                   all        111        114      0.474      0.501      0.504      0.267\n"
          ]
        },
        {
          "metadata": {
            "tags": null
          },
          "name": "stderr",
          "output_type": "stream",
          "text": [
            "\n"
          ]
        },
        {
          "metadata": {
            "tags": null
          },
          "name": "stdout",
          "output_type": "stream",
          "text": [
            "\n",
            "      Epoch    GPU_mem   box_loss   cls_loss   dfl_loss  Instances       Size\n"
          ]
        },
        {
          "metadata": {
            "tags": null
          },
          "name": "stderr",
          "output_type": "stream",
          "text": [
            "     11/250      2.26G      1.227      1.587      1.444         21        640: 100%|██████████| 24/24 [00:09<00:00,  2.53it/s]\n",
            "                 Class     Images  Instances      Box(P          R      mAP50  mAP50-95): 100%|██████████| 4/4 [00:02<00:00,  1.97it/s]"
          ]
        },
        {
          "metadata": {
            "tags": null
          },
          "name": "stdout",
          "output_type": "stream",
          "text": [
            "                   all        111        114      0.491      0.547      0.509      0.299\n"
          ]
        },
        {
          "metadata": {
            "tags": null
          },
          "name": "stderr",
          "output_type": "stream",
          "text": [
            "\n"
          ]
        },
        {
          "metadata": {
            "tags": null
          },
          "name": "stdout",
          "output_type": "stream",
          "text": [
            "\n",
            "      Epoch    GPU_mem   box_loss   cls_loss   dfl_loss  Instances       Size\n"
          ]
        },
        {
          "metadata": {
            "tags": null
          },
          "name": "stderr",
          "output_type": "stream",
          "text": [
            "     12/250      2.26G      1.253       1.59      1.446         24        640: 100%|██████████| 24/24 [00:09<00:00,  2.49it/s]\n",
            "                 Class     Images  Instances      Box(P          R      mAP50  mAP50-95): 100%|██████████| 4/4 [00:01<00:00,  2.17it/s]"
          ]
        },
        {
          "metadata": {
            "tags": null
          },
          "name": "stdout",
          "output_type": "stream",
          "text": [
            "                   all        111        114      0.476      0.419      0.449      0.232\n"
          ]
        },
        {
          "metadata": {
            "tags": null
          },
          "name": "stderr",
          "output_type": "stream",
          "text": [
            "\n"
          ]
        },
        {
          "metadata": {
            "tags": null
          },
          "name": "stdout",
          "output_type": "stream",
          "text": [
            "\n",
            "      Epoch    GPU_mem   box_loss   cls_loss   dfl_loss  Instances       Size\n"
          ]
        },
        {
          "metadata": {
            "tags": null
          },
          "name": "stderr",
          "output_type": "stream",
          "text": [
            "     13/250      2.26G      1.218      1.519       1.41         14        640: 100%|██████████| 24/24 [00:09<00:00,  2.47it/s]\n",
            "                 Class     Images  Instances      Box(P          R      mAP50  mAP50-95): 100%|██████████| 4/4 [00:01<00:00,  2.14it/s]"
          ]
        },
        {
          "metadata": {
            "tags": null
          },
          "name": "stdout",
          "output_type": "stream",
          "text": [
            "                   all        111        114      0.496      0.441       0.47      0.277\n"
          ]
        },
        {
          "metadata": {
            "tags": null
          },
          "name": "stderr",
          "output_type": "stream",
          "text": [
            "\n"
          ]
        },
        {
          "metadata": {
            "tags": null
          },
          "name": "stdout",
          "output_type": "stream",
          "text": [
            "\n",
            "      Epoch    GPU_mem   box_loss   cls_loss   dfl_loss  Instances       Size\n"
          ]
        },
        {
          "metadata": {
            "tags": null
          },
          "name": "stderr",
          "output_type": "stream",
          "text": [
            "     14/250      2.26G      1.167      1.463      1.371         14        640: 100%|██████████| 24/24 [00:08<00:00,  2.88it/s]\n",
            "                 Class     Images  Instances      Box(P          R      mAP50  mAP50-95): 100%|██████████| 4/4 [00:03<00:00,  1.33it/s]"
          ]
        },
        {
          "metadata": {
            "tags": null
          },
          "name": "stdout",
          "output_type": "stream",
          "text": [
            "                   all        111        114       0.53      0.521      0.553      0.302\n"
          ]
        },
        {
          "metadata": {
            "tags": null
          },
          "name": "stderr",
          "output_type": "stream",
          "text": [
            "\n"
          ]
        },
        {
          "metadata": {
            "tags": null
          },
          "name": "stdout",
          "output_type": "stream",
          "text": [
            "\n",
            "      Epoch    GPU_mem   box_loss   cls_loss   dfl_loss  Instances       Size\n"
          ]
        },
        {
          "metadata": {
            "tags": null
          },
          "name": "stderr",
          "output_type": "stream",
          "text": [
            "     15/250      2.26G      1.186      1.473      1.414          9        640: 100%|██████████| 24/24 [00:08<00:00,  2.99it/s]\n",
            "                 Class     Images  Instances      Box(P          R      mAP50  mAP50-95): 100%|██████████| 4/4 [00:01<00:00,  2.46it/s]"
          ]
        },
        {
          "metadata": {
            "tags": null
          },
          "name": "stdout",
          "output_type": "stream",
          "text": [
            "                   all        111        114      0.511      0.538      0.578      0.323\n"
          ]
        },
        {
          "metadata": {
            "tags": null
          },
          "name": "stderr",
          "output_type": "stream",
          "text": [
            "\n"
          ]
        },
        {
          "metadata": {
            "tags": null
          },
          "name": "stdout",
          "output_type": "stream",
          "text": [
            "\n",
            "      Epoch    GPU_mem   box_loss   cls_loss   dfl_loss  Instances       Size\n"
          ]
        },
        {
          "metadata": {
            "tags": null
          },
          "name": "stderr",
          "output_type": "stream",
          "text": [
            "     16/250      2.26G      1.171      1.412        1.4         10        640: 100%|██████████| 24/24 [00:09<00:00,  2.62it/s]\n",
            "                 Class     Images  Instances      Box(P          R      mAP50  mAP50-95): 100%|██████████| 4/4 [00:01<00:00,  2.66it/s]"
          ]
        },
        {
          "metadata": {
            "tags": null
          },
          "name": "stdout",
          "output_type": "stream",
          "text": [
            "                   all        111        114      0.681      0.557      0.604       0.37\n"
          ]
        },
        {
          "metadata": {
            "tags": null
          },
          "name": "stderr",
          "output_type": "stream",
          "text": [
            "\n"
          ]
        },
        {
          "metadata": {
            "tags": null
          },
          "name": "stdout",
          "output_type": "stream",
          "text": [
            "\n",
            "      Epoch    GPU_mem   box_loss   cls_loss   dfl_loss  Instances       Size\n"
          ]
        },
        {
          "metadata": {
            "tags": null
          },
          "name": "stderr",
          "output_type": "stream",
          "text": [
            "     17/250      2.29G      1.165      1.367      1.358         14        640: 100%|██████████| 24/24 [00:09<00:00,  2.44it/s]\n",
            "                 Class     Images  Instances      Box(P          R      mAP50  mAP50-95): 100%|██████████| 4/4 [00:02<00:00,  1.97it/s]"
          ]
        },
        {
          "metadata": {
            "tags": null
          },
          "name": "stdout",
          "output_type": "stream",
          "text": [
            "                   all        111        114      0.718      0.528      0.597      0.322\n"
          ]
        },
        {
          "metadata": {
            "tags": null
          },
          "name": "stderr",
          "output_type": "stream",
          "text": [
            "\n"
          ]
        },
        {
          "metadata": {
            "tags": null
          },
          "name": "stdout",
          "output_type": "stream",
          "text": [
            "\n",
            "      Epoch    GPU_mem   box_loss   cls_loss   dfl_loss  Instances       Size\n"
          ]
        },
        {
          "metadata": {
            "tags": null
          },
          "name": "stderr",
          "output_type": "stream",
          "text": [
            "     18/250      2.26G      1.145      1.351      1.357         26        640: 100%|██████████| 24/24 [00:09<00:00,  2.43it/s]\n",
            "                 Class     Images  Instances      Box(P          R      mAP50  mAP50-95): 100%|██████████| 4/4 [00:01<00:00,  2.39it/s]"
          ]
        },
        {
          "metadata": {
            "tags": null
          },
          "name": "stdout",
          "output_type": "stream",
          "text": [
            "                   all        111        114      0.375      0.358       0.28       0.15\n"
          ]
        },
        {
          "metadata": {
            "tags": null
          },
          "name": "stderr",
          "output_type": "stream",
          "text": [
            "\n"
          ]
        },
        {
          "metadata": {
            "tags": null
          },
          "name": "stdout",
          "output_type": "stream",
          "text": [
            "\n",
            "      Epoch    GPU_mem   box_loss   cls_loss   dfl_loss  Instances       Size\n"
          ]
        },
        {
          "metadata": {
            "tags": null
          },
          "name": "stderr",
          "output_type": "stream",
          "text": [
            "     19/250      2.26G       1.15      1.323      1.377         13        640: 100%|██████████| 24/24 [00:10<00:00,  2.32it/s]\n",
            "                 Class     Images  Instances      Box(P          R      mAP50  mAP50-95): 100%|██████████| 4/4 [00:01<00:00,  2.47it/s]"
          ]
        },
        {
          "metadata": {
            "tags": null
          },
          "name": "stdout",
          "output_type": "stream",
          "text": [
            "                   all        111        114       0.47      0.668      0.621      0.344\n"
          ]
        },
        {
          "metadata": {
            "tags": null
          },
          "name": "stderr",
          "output_type": "stream",
          "text": [
            "\n"
          ]
        },
        {
          "metadata": {
            "tags": null
          },
          "name": "stdout",
          "output_type": "stream",
          "text": [
            "\n",
            "      Epoch    GPU_mem   box_loss   cls_loss   dfl_loss  Instances       Size\n"
          ]
        },
        {
          "metadata": {
            "tags": null
          },
          "name": "stderr",
          "output_type": "stream",
          "text": [
            "     20/250      2.18G      1.133      1.229      1.337         18        640: 100%|██████████| 24/24 [00:09<00:00,  2.58it/s]\n",
            "                 Class     Images  Instances      Box(P          R      mAP50  mAP50-95): 100%|██████████| 4/4 [00:01<00:00,  2.05it/s]"
          ]
        },
        {
          "metadata": {
            "tags": null
          },
          "name": "stdout",
          "output_type": "stream",
          "text": [
            "                   all        111        114      0.655       0.53       0.64      0.418\n"
          ]
        },
        {
          "metadata": {
            "tags": null
          },
          "name": "stderr",
          "output_type": "stream",
          "text": [
            "\n"
          ]
        },
        {
          "metadata": {
            "tags": null
          },
          "name": "stdout",
          "output_type": "stream",
          "text": [
            "\n",
            "      Epoch    GPU_mem   box_loss   cls_loss   dfl_loss  Instances       Size\n"
          ]
        },
        {
          "metadata": {
            "tags": null
          },
          "name": "stderr",
          "output_type": "stream",
          "text": [
            "     21/250      2.28G      1.112      1.201      1.362         16        640: 100%|██████████| 24/24 [00:08<00:00,  2.93it/s]\n",
            "                 Class     Images  Instances      Box(P          R      mAP50  mAP50-95): 100%|██████████| 4/4 [00:02<00:00,  1.37it/s]"
          ]
        },
        {
          "metadata": {
            "tags": null
          },
          "name": "stdout",
          "output_type": "stream",
          "text": [
            "                   all        111        114      0.584       0.71      0.658      0.375\n"
          ]
        },
        {
          "metadata": {
            "tags": null
          },
          "name": "stderr",
          "output_type": "stream",
          "text": [
            "\n"
          ]
        },
        {
          "metadata": {
            "tags": null
          },
          "name": "stdout",
          "output_type": "stream",
          "text": [
            "\n",
            "      Epoch    GPU_mem   box_loss   cls_loss   dfl_loss  Instances       Size\n"
          ]
        },
        {
          "metadata": {
            "tags": null
          },
          "name": "stderr",
          "output_type": "stream",
          "text": [
            "     22/250      2.31G      1.158      1.219      1.373         14        640: 100%|██████████| 24/24 [00:07<00:00,  3.11it/s]\n",
            "                 Class     Images  Instances      Box(P          R      mAP50  mAP50-95): 100%|██████████| 4/4 [00:01<00:00,  2.36it/s]"
          ]
        },
        {
          "metadata": {
            "tags": null
          },
          "name": "stdout",
          "output_type": "stream",
          "text": [
            "                   all        111        114      0.562      0.685      0.615        0.4\n"
          ]
        },
        {
          "metadata": {
            "tags": null
          },
          "name": "stderr",
          "output_type": "stream",
          "text": [
            "\n"
          ]
        },
        {
          "metadata": {
            "tags": null
          },
          "name": "stdout",
          "output_type": "stream",
          "text": [
            "\n",
            "      Epoch    GPU_mem   box_loss   cls_loss   dfl_loss  Instances       Size\n"
          ]
        },
        {
          "metadata": {
            "tags": null
          },
          "name": "stderr",
          "output_type": "stream",
          "text": [
            "     23/250      2.26G      1.118       1.25      1.353         10        640: 100%|██████████| 24/24 [00:09<00:00,  2.53it/s]\n",
            "                 Class     Images  Instances      Box(P          R      mAP50  mAP50-95): 100%|██████████| 4/4 [00:01<00:00,  2.46it/s]"
          ]
        },
        {
          "metadata": {
            "tags": null
          },
          "name": "stdout",
          "output_type": "stream",
          "text": [
            "                   all        111        114      0.876      0.473      0.613      0.382\n"
          ]
        },
        {
          "metadata": {
            "tags": null
          },
          "name": "stderr",
          "output_type": "stream",
          "text": [
            "\n"
          ]
        },
        {
          "metadata": {
            "tags": null
          },
          "name": "stdout",
          "output_type": "stream",
          "text": [
            "\n",
            "      Epoch    GPU_mem   box_loss   cls_loss   dfl_loss  Instances       Size\n"
          ]
        },
        {
          "metadata": {
            "tags": null
          },
          "name": "stderr",
          "output_type": "stream",
          "text": [
            "     24/250      2.26G      1.085       1.17      1.318         12        640: 100%|██████████| 24/24 [00:10<00:00,  2.33it/s]\n",
            "                 Class     Images  Instances      Box(P          R      mAP50  mAP50-95): 100%|██████████| 4/4 [00:01<00:00,  2.36it/s]"
          ]
        },
        {
          "metadata": {
            "tags": null
          },
          "name": "stdout",
          "output_type": "stream",
          "text": [
            "                   all        111        114      0.767      0.542      0.634      0.369\n"
          ]
        },
        {
          "metadata": {
            "tags": null
          },
          "name": "stderr",
          "output_type": "stream",
          "text": [
            "\n"
          ]
        },
        {
          "metadata": {
            "tags": null
          },
          "name": "stdout",
          "output_type": "stream",
          "text": [
            "\n",
            "      Epoch    GPU_mem   box_loss   cls_loss   dfl_loss  Instances       Size\n"
          ]
        },
        {
          "metadata": {
            "tags": null
          },
          "name": "stderr",
          "output_type": "stream",
          "text": [
            "     25/250      2.26G      1.092      1.132      1.328         21        640: 100%|██████████| 24/24 [00:09<00:00,  2.45it/s]\n",
            "                 Class     Images  Instances      Box(P          R      mAP50  mAP50-95): 100%|██████████| 4/4 [00:01<00:00,  2.17it/s]"
          ]
        },
        {
          "metadata": {
            "tags": null
          },
          "name": "stdout",
          "output_type": "stream",
          "text": [
            "                   all        111        114      0.739      0.649      0.719      0.428\n"
          ]
        },
        {
          "metadata": {
            "tags": null
          },
          "name": "stderr",
          "output_type": "stream",
          "text": [
            "\n"
          ]
        },
        {
          "metadata": {
            "tags": null
          },
          "name": "stdout",
          "output_type": "stream",
          "text": [
            "\n",
            "      Epoch    GPU_mem   box_loss   cls_loss   dfl_loss  Instances       Size\n"
          ]
        },
        {
          "metadata": {
            "tags": null
          },
          "name": "stderr",
          "output_type": "stream",
          "text": [
            "     26/250      2.26G      1.081      1.132      1.302         22        640: 100%|██████████| 24/24 [00:10<00:00,  2.36it/s]\n",
            "                 Class     Images  Instances      Box(P          R      mAP50  mAP50-95): 100%|██████████| 4/4 [00:01<00:00,  2.48it/s]"
          ]
        },
        {
          "metadata": {
            "tags": null
          },
          "name": "stdout",
          "output_type": "stream",
          "text": [
            "                   all        111        114      0.667      0.625      0.701      0.419\n"
          ]
        },
        {
          "metadata": {
            "tags": null
          },
          "name": "stderr",
          "output_type": "stream",
          "text": [
            "\n"
          ]
        },
        {
          "metadata": {
            "tags": null
          },
          "name": "stdout",
          "output_type": "stream",
          "text": [
            "\n",
            "      Epoch    GPU_mem   box_loss   cls_loss   dfl_loss  Instances       Size\n"
          ]
        },
        {
          "metadata": {
            "tags": null
          },
          "name": "stderr",
          "output_type": "stream",
          "text": [
            "     27/250      2.26G      1.091      1.098      1.328         13        640: 100%|██████████| 24/24 [00:09<00:00,  2.52it/s]\n",
            "                 Class     Images  Instances      Box(P          R      mAP50  mAP50-95): 100%|██████████| 4/4 [00:02<00:00,  1.77it/s]"
          ]
        },
        {
          "metadata": {
            "tags": null
          },
          "name": "stdout",
          "output_type": "stream",
          "text": [
            "                   all        111        114      0.787      0.484      0.575      0.298\n"
          ]
        },
        {
          "metadata": {
            "tags": null
          },
          "name": "stderr",
          "output_type": "stream",
          "text": [
            "\n"
          ]
        },
        {
          "metadata": {
            "tags": null
          },
          "name": "stdout",
          "output_type": "stream",
          "text": [
            "\n",
            "      Epoch    GPU_mem   box_loss   cls_loss   dfl_loss  Instances       Size\n"
          ]
        },
        {
          "metadata": {
            "tags": null
          },
          "name": "stderr",
          "output_type": "stream",
          "text": [
            "     28/250      2.26G       1.04      1.016      1.282         21        640: 100%|██████████| 24/24 [00:09<00:00,  2.65it/s]\n",
            "                 Class     Images  Instances      Box(P          R      mAP50  mAP50-95): 100%|██████████| 4/4 [00:02<00:00,  1.44it/s]"
          ]
        },
        {
          "metadata": {
            "tags": null
          },
          "name": "stdout",
          "output_type": "stream",
          "text": [
            "                   all        111        114      0.546      0.597      0.653      0.409\n"
          ]
        },
        {
          "metadata": {
            "tags": null
          },
          "name": "stderr",
          "output_type": "stream",
          "text": [
            "\n"
          ]
        },
        {
          "metadata": {
            "tags": null
          },
          "name": "stdout",
          "output_type": "stream",
          "text": [
            "\n",
            "      Epoch    GPU_mem   box_loss   cls_loss   dfl_loss  Instances       Size\n"
          ]
        },
        {
          "metadata": {
            "tags": null
          },
          "name": "stderr",
          "output_type": "stream",
          "text": [
            "     29/250      2.26G      1.127       1.12      1.324         19        640: 100%|██████████| 24/24 [00:08<00:00,  2.88it/s]\n",
            "                 Class     Images  Instances      Box(P          R      mAP50  mAP50-95): 100%|██████████| 4/4 [00:01<00:00,  2.01it/s]"
          ]
        },
        {
          "metadata": {
            "tags": null
          },
          "name": "stdout",
          "output_type": "stream",
          "text": [
            "                   all        111        114      0.616      0.499      0.565      0.338\n"
          ]
        },
        {
          "metadata": {
            "tags": null
          },
          "name": "stderr",
          "output_type": "stream",
          "text": [
            "\n"
          ]
        },
        {
          "metadata": {
            "tags": null
          },
          "name": "stdout",
          "output_type": "stream",
          "text": [
            "\n",
            "      Epoch    GPU_mem   box_loss   cls_loss   dfl_loss  Instances       Size\n"
          ]
        },
        {
          "metadata": {
            "tags": null
          },
          "name": "stderr",
          "output_type": "stream",
          "text": [
            "     30/250      2.26G      1.063      1.094      1.338         11        640: 100%|██████████| 24/24 [00:08<00:00,  2.68it/s]\n",
            "                 Class     Images  Instances      Box(P          R      mAP50  mAP50-95): 100%|██████████| 4/4 [00:01<00:00,  2.25it/s]"
          ]
        },
        {
          "metadata": {
            "tags": null
          },
          "name": "stdout",
          "output_type": "stream",
          "text": [
            "                   all        111        114      0.827       0.55      0.672      0.396\n"
          ]
        },
        {
          "metadata": {
            "tags": null
          },
          "name": "stderr",
          "output_type": "stream",
          "text": [
            "\n"
          ]
        },
        {
          "metadata": {
            "tags": null
          },
          "name": "stdout",
          "output_type": "stream",
          "text": [
            "\n",
            "      Epoch    GPU_mem   box_loss   cls_loss   dfl_loss  Instances       Size\n"
          ]
        },
        {
          "metadata": {
            "tags": null
          },
          "name": "stderr",
          "output_type": "stream",
          "text": [
            "     31/250      2.28G      1.078       1.11      1.319         12        640: 100%|██████████| 24/24 [00:10<00:00,  2.40it/s]\n",
            "                 Class     Images  Instances      Box(P          R      mAP50  mAP50-95): 100%|██████████| 4/4 [00:01<00:00,  2.53it/s]"
          ]
        },
        {
          "metadata": {
            "tags": null
          },
          "name": "stdout",
          "output_type": "stream",
          "text": [
            "                   all        111        114      0.719       0.61      0.609      0.365\n"
          ]
        },
        {
          "metadata": {
            "tags": null
          },
          "name": "stderr",
          "output_type": "stream",
          "text": [
            "\n"
          ]
        },
        {
          "metadata": {
            "tags": null
          },
          "name": "stdout",
          "output_type": "stream",
          "text": [
            "\n",
            "      Epoch    GPU_mem   box_loss   cls_loss   dfl_loss  Instances       Size\n"
          ]
        },
        {
          "metadata": {
            "tags": null
          },
          "name": "stderr",
          "output_type": "stream",
          "text": [
            "     32/250      2.26G      1.023     0.9988      1.266         13        640: 100%|██████████| 24/24 [00:10<00:00,  2.40it/s]\n",
            "                 Class     Images  Instances      Box(P          R      mAP50  mAP50-95): 100%|██████████| 4/4 [00:01<00:00,  2.29it/s]"
          ]
        },
        {
          "metadata": {
            "tags": null
          },
          "name": "stdout",
          "output_type": "stream",
          "text": [
            "                   all        111        114      0.735      0.703      0.767       0.47\n"
          ]
        },
        {
          "metadata": {
            "tags": null
          },
          "name": "stderr",
          "output_type": "stream",
          "text": [
            "\n"
          ]
        },
        {
          "metadata": {
            "tags": null
          },
          "name": "stdout",
          "output_type": "stream",
          "text": [
            "\n",
            "      Epoch    GPU_mem   box_loss   cls_loss   dfl_loss  Instances       Size\n"
          ]
        },
        {
          "metadata": {
            "tags": null
          },
          "name": "stderr",
          "output_type": "stream",
          "text": [
            "     33/250      2.26G      1.044      1.008       1.28         18        640: 100%|██████████| 24/24 [00:10<00:00,  2.36it/s]\n",
            "                 Class     Images  Instances      Box(P          R      mAP50  mAP50-95): 100%|██████████| 4/4 [00:01<00:00,  2.44it/s]"
          ]
        },
        {
          "metadata": {
            "tags": null
          },
          "name": "stdout",
          "output_type": "stream",
          "text": [
            "                   all        111        114       0.73      0.647      0.666      0.397\n"
          ]
        },
        {
          "metadata": {
            "tags": null
          },
          "name": "stderr",
          "output_type": "stream",
          "text": [
            "\n"
          ]
        },
        {
          "metadata": {
            "tags": null
          },
          "name": "stdout",
          "output_type": "stream",
          "text": [
            "\n",
            "      Epoch    GPU_mem   box_loss   cls_loss   dfl_loss  Instances       Size\n"
          ]
        },
        {
          "metadata": {
            "tags": null
          },
          "name": "stderr",
          "output_type": "stream",
          "text": [
            "     34/250      2.17G      0.985     0.9608      1.249         16        640: 100%|██████████| 24/24 [00:09<00:00,  2.40it/s]\n",
            "                 Class     Images  Instances      Box(P          R      mAP50  mAP50-95): 100%|██████████| 4/4 [00:01<00:00,  2.25it/s]"
          ]
        },
        {
          "metadata": {
            "tags": null
          },
          "name": "stdout",
          "output_type": "stream",
          "text": [
            "                   all        111        114      0.682      0.648       0.66      0.427\n"
          ]
        },
        {
          "metadata": {
            "tags": null
          },
          "name": "stderr",
          "output_type": "stream",
          "text": [
            "\n"
          ]
        },
        {
          "metadata": {
            "tags": null
          },
          "name": "stdout",
          "output_type": "stream",
          "text": [
            "\n",
            "      Epoch    GPU_mem   box_loss   cls_loss   dfl_loss  Instances       Size\n"
          ]
        },
        {
          "metadata": {
            "tags": null
          },
          "name": "stderr",
          "output_type": "stream",
          "text": [
            "     35/250      2.26G      1.031     0.9694      1.285         10        640: 100%|██████████| 24/24 [00:09<00:00,  2.58it/s]\n",
            "                 Class     Images  Instances      Box(P          R      mAP50  mAP50-95): 100%|██████████| 4/4 [00:02<00:00,  1.82it/s]\n"
          ]
        },
        {
          "metadata": {
            "tags": null
          },
          "name": "stdout",
          "output_type": "stream",
          "text": [
            "                   all        111        114      0.716      0.739      0.738      0.487\n",
            "\n",
            "      Epoch    GPU_mem   box_loss   cls_loss   dfl_loss  Instances       Size\n"
          ]
        },
        {
          "metadata": {
            "tags": null
          },
          "name": "stderr",
          "output_type": "stream",
          "text": [
            "     36/250      2.26G      1.004     0.9584      1.266         15        640: 100%|██████████| 24/24 [00:08<00:00,  2.87it/s]\n",
            "                 Class     Images  Instances      Box(P          R      mAP50  mAP50-95): 100%|██████████| 4/4 [00:02<00:00,  1.67it/s]"
          ]
        },
        {
          "metadata": {
            "tags": null
          },
          "name": "stdout",
          "output_type": "stream",
          "text": [
            "                   all        111        114      0.649       0.52      0.549      0.336\n"
          ]
        },
        {
          "metadata": {
            "tags": null
          },
          "name": "stderr",
          "output_type": "stream",
          "text": [
            "\n"
          ]
        },
        {
          "metadata": {
            "tags": null
          },
          "name": "stdout",
          "output_type": "stream",
          "text": [
            "\n",
            "      Epoch    GPU_mem   box_loss   cls_loss   dfl_loss  Instances       Size\n"
          ]
        },
        {
          "metadata": {
            "tags": null
          },
          "name": "stderr",
          "output_type": "stream",
          "text": [
            "     37/250      2.26G      1.035      1.009      1.292         19        640: 100%|██████████| 24/24 [00:08<00:00,  2.83it/s]\n",
            "                 Class     Images  Instances      Box(P          R      mAP50  mAP50-95): 100%|██████████| 4/4 [00:01<00:00,  2.44it/s]"
          ]
        },
        {
          "metadata": {
            "tags": null
          },
          "name": "stdout",
          "output_type": "stream",
          "text": [
            "                   all        111        114      0.687      0.565       0.61      0.327\n"
          ]
        },
        {
          "metadata": {
            "tags": null
          },
          "name": "stderr",
          "output_type": "stream",
          "text": [
            "\n"
          ]
        },
        {
          "metadata": {
            "tags": null
          },
          "name": "stdout",
          "output_type": "stream",
          "text": [
            "\n",
            "      Epoch    GPU_mem   box_loss   cls_loss   dfl_loss  Instances       Size\n"
          ]
        },
        {
          "metadata": {
            "tags": null
          },
          "name": "stderr",
          "output_type": "stream",
          "text": [
            "     38/250      2.28G       1.01     0.9517       1.24         22        640: 100%|██████████| 24/24 [00:09<00:00,  2.47it/s]\n",
            "                 Class     Images  Instances      Box(P          R      mAP50  mAP50-95): 100%|██████████| 4/4 [00:01<00:00,  2.24it/s]"
          ]
        },
        {
          "metadata": {
            "tags": null
          },
          "name": "stdout",
          "output_type": "stream",
          "text": [
            "                   all        111        114      0.686       0.53      0.621      0.361\n"
          ]
        },
        {
          "metadata": {
            "tags": null
          },
          "name": "stderr",
          "output_type": "stream",
          "text": [
            "\n"
          ]
        },
        {
          "metadata": {
            "tags": null
          },
          "name": "stdout",
          "output_type": "stream",
          "text": [
            "\n",
            "      Epoch    GPU_mem   box_loss   cls_loss   dfl_loss  Instances       Size\n"
          ]
        },
        {
          "metadata": {
            "tags": null
          },
          "name": "stderr",
          "output_type": "stream",
          "text": [
            "     39/250      2.26G     0.9576     0.9107      1.227         16        640: 100%|██████████| 24/24 [00:10<00:00,  2.37it/s]\n",
            "                 Class     Images  Instances      Box(P          R      mAP50  mAP50-95): 100%|██████████| 4/4 [00:01<00:00,  2.48it/s]"
          ]
        },
        {
          "metadata": {
            "tags": null
          },
          "name": "stdout",
          "output_type": "stream",
          "text": [
            "                   all        111        114      0.765      0.535      0.642      0.374\n"
          ]
        },
        {
          "metadata": {
            "tags": null
          },
          "name": "stderr",
          "output_type": "stream",
          "text": [
            "\n"
          ]
        },
        {
          "metadata": {
            "tags": null
          },
          "name": "stdout",
          "output_type": "stream",
          "text": [
            "\n",
            "      Epoch    GPU_mem   box_loss   cls_loss   dfl_loss  Instances       Size\n"
          ]
        },
        {
          "metadata": {
            "tags": null
          },
          "name": "stderr",
          "output_type": "stream",
          "text": [
            "     40/250      2.26G     0.9878     0.9579      1.274         18        640: 100%|██████████| 24/24 [00:10<00:00,  2.35it/s]\n",
            "                 Class     Images  Instances      Box(P          R      mAP50  mAP50-95): 100%|██████████| 4/4 [00:01<00:00,  2.42it/s]"
          ]
        },
        {
          "metadata": {
            "tags": null
          },
          "name": "stdout",
          "output_type": "stream",
          "text": [
            "                   all        111        114      0.754      0.671      0.763      0.485\n"
          ]
        },
        {
          "metadata": {
            "tags": null
          },
          "name": "stderr",
          "output_type": "stream",
          "text": [
            "\n"
          ]
        },
        {
          "metadata": {
            "tags": null
          },
          "name": "stdout",
          "output_type": "stream",
          "text": [
            "\n",
            "      Epoch    GPU_mem   box_loss   cls_loss   dfl_loss  Instances       Size\n"
          ]
        },
        {
          "metadata": {
            "tags": null
          },
          "name": "stderr",
          "output_type": "stream",
          "text": [
            "     41/250      2.26G     0.9706     0.9533      1.249         16        640: 100%|██████████| 24/24 [00:09<00:00,  2.47it/s]\n",
            "                 Class     Images  Instances      Box(P          R      mAP50  mAP50-95): 100%|██████████| 4/4 [00:01<00:00,  2.38it/s]\n"
          ]
        },
        {
          "metadata": {
            "tags": null
          },
          "name": "stdout",
          "output_type": "stream",
          "text": [
            "                   all        111        114      0.843      0.579      0.669      0.425\n",
            "\n",
            "      Epoch    GPU_mem   box_loss   cls_loss   dfl_loss  Instances       Size\n"
          ]
        },
        {
          "metadata": {
            "tags": null
          },
          "name": "stderr",
          "output_type": "stream",
          "text": [
            "     42/250      2.26G     0.9466     0.8919      1.211         18        640: 100%|██████████| 24/24 [00:09<00:00,  2.48it/s]\n",
            "                 Class     Images  Instances      Box(P          R      mAP50  mAP50-95): 100%|██████████| 4/4 [00:01<00:00,  2.06it/s]"
          ]
        },
        {
          "metadata": {
            "tags": null
          },
          "name": "stdout",
          "output_type": "stream",
          "text": [
            "                   all        111        114      0.831      0.587      0.656       0.41\n"
          ]
        },
        {
          "metadata": {
            "tags": null
          },
          "name": "stderr",
          "output_type": "stream",
          "text": [
            "\n"
          ]
        },
        {
          "metadata": {
            "tags": null
          },
          "name": "stdout",
          "output_type": "stream",
          "text": [
            "\n",
            "      Epoch    GPU_mem   box_loss   cls_loss   dfl_loss  Instances       Size\n"
          ]
        },
        {
          "metadata": {
            "tags": null
          },
          "name": "stderr",
          "output_type": "stream",
          "text": [
            "     43/250      2.26G     0.9967     0.9043       1.25         28        640: 100%|██████████| 24/24 [00:08<00:00,  2.88it/s]\n",
            "                 Class     Images  Instances      Box(P          R      mAP50  mAP50-95): 100%|██████████| 4/4 [00:02<00:00,  1.54it/s]"
          ]
        },
        {
          "metadata": {
            "tags": null
          },
          "name": "stdout",
          "output_type": "stream",
          "text": [
            "                   all        111        114      0.782      0.546      0.609       0.38\n"
          ]
        },
        {
          "metadata": {
            "tags": null
          },
          "name": "stderr",
          "output_type": "stream",
          "text": [
            "\n"
          ]
        },
        {
          "metadata": {
            "tags": null
          },
          "name": "stdout",
          "output_type": "stream",
          "text": [
            "\n",
            "      Epoch    GPU_mem   box_loss   cls_loss   dfl_loss  Instances       Size\n"
          ]
        },
        {
          "metadata": {
            "tags": null
          },
          "name": "stderr",
          "output_type": "stream",
          "text": [
            "     44/250      2.26G     0.9945     0.8927      1.245         14        640: 100%|██████████| 24/24 [00:08<00:00,  2.93it/s]\n",
            "                 Class     Images  Instances      Box(P          R      mAP50  mAP50-95): 100%|██████████| 4/4 [00:01<00:00,  2.11it/s]"
          ]
        },
        {
          "metadata": {
            "tags": null
          },
          "name": "stdout",
          "output_type": "stream",
          "text": [
            "                   all        111        114      0.767      0.554      0.667      0.431\n"
          ]
        },
        {
          "metadata": {
            "tags": null
          },
          "name": "stderr",
          "output_type": "stream",
          "text": [
            "\n"
          ]
        },
        {
          "metadata": {
            "tags": null
          },
          "name": "stdout",
          "output_type": "stream",
          "text": [
            "\n",
            "      Epoch    GPU_mem   box_loss   cls_loss   dfl_loss  Instances       Size\n"
          ]
        },
        {
          "metadata": {
            "tags": null
          },
          "name": "stderr",
          "output_type": "stream",
          "text": [
            "     45/250      2.31G     0.9859     0.9103      1.242         23        640: 100%|██████████| 24/24 [00:09<00:00,  2.55it/s]\n",
            "                 Class     Images  Instances      Box(P          R      mAP50  mAP50-95): 100%|██████████| 4/4 [00:01<00:00,  2.56it/s]"
          ]
        },
        {
          "metadata": {
            "tags": null
          },
          "name": "stdout",
          "output_type": "stream",
          "text": [
            "                   all        111        114      0.768      0.546      0.677      0.421\n"
          ]
        },
        {
          "metadata": {
            "tags": null
          },
          "name": "stderr",
          "output_type": "stream",
          "text": [
            "\n"
          ]
        },
        {
          "metadata": {
            "tags": null
          },
          "name": "stdout",
          "output_type": "stream",
          "text": [
            "\n",
            "      Epoch    GPU_mem   box_loss   cls_loss   dfl_loss  Instances       Size\n"
          ]
        },
        {
          "metadata": {
            "tags": null
          },
          "name": "stderr",
          "output_type": "stream",
          "text": [
            "     46/250      2.28G      0.998     0.9031      1.246         16        640: 100%|██████████| 24/24 [00:10<00:00,  2.39it/s]\n",
            "                 Class     Images  Instances      Box(P          R      mAP50  mAP50-95): 100%|██████████| 4/4 [00:01<00:00,  2.51it/s]"
          ]
        },
        {
          "metadata": {
            "tags": null
          },
          "name": "stdout",
          "output_type": "stream",
          "text": [
            "                   all        111        114      0.718      0.702      0.727      0.465\n"
          ]
        },
        {
          "metadata": {
            "tags": null
          },
          "name": "stderr",
          "output_type": "stream",
          "text": [
            "\n"
          ]
        },
        {
          "metadata": {
            "tags": null
          },
          "name": "stdout",
          "output_type": "stream",
          "text": [
            "\n",
            "      Epoch    GPU_mem   box_loss   cls_loss   dfl_loss  Instances       Size\n"
          ]
        },
        {
          "metadata": {
            "tags": null
          },
          "name": "stderr",
          "output_type": "stream",
          "text": [
            "     47/250      2.26G     0.9993     0.8813      1.243         17        640: 100%|██████████| 24/24 [00:09<00:00,  2.41it/s]\n",
            "                 Class     Images  Instances      Box(P          R      mAP50  mAP50-95): 100%|██████████| 4/4 [00:01<00:00,  2.41it/s]"
          ]
        },
        {
          "metadata": {
            "tags": null
          },
          "name": "stdout",
          "output_type": "stream",
          "text": [
            "                   all        111        114      0.698      0.579       0.62      0.425\n"
          ]
        },
        {
          "metadata": {
            "tags": null
          },
          "name": "stderr",
          "output_type": "stream",
          "text": [
            "\n"
          ]
        },
        {
          "metadata": {
            "tags": null
          },
          "name": "stdout",
          "output_type": "stream",
          "text": [
            "\n",
            "      Epoch    GPU_mem   box_loss   cls_loss   dfl_loss  Instances       Size\n"
          ]
        },
        {
          "metadata": {
            "tags": null
          },
          "name": "stderr",
          "output_type": "stream",
          "text": [
            "     48/250      2.26G     0.9731      0.862       1.24         18        640: 100%|██████████| 24/24 [00:09<00:00,  2.42it/s]\n",
            "                 Class     Images  Instances      Box(P          R      mAP50  mAP50-95): 100%|██████████| 4/4 [00:01<00:00,  2.25it/s]"
          ]
        },
        {
          "metadata": {
            "tags": null
          },
          "name": "stdout",
          "output_type": "stream",
          "text": [
            "                   all        111        114      0.761      0.643      0.731      0.483\n"
          ]
        },
        {
          "metadata": {
            "tags": null
          },
          "name": "stderr",
          "output_type": "stream",
          "text": [
            "\n"
          ]
        },
        {
          "metadata": {
            "tags": null
          },
          "name": "stdout",
          "output_type": "stream",
          "text": [
            "\n",
            "      Epoch    GPU_mem   box_loss   cls_loss   dfl_loss  Instances       Size\n"
          ]
        },
        {
          "metadata": {
            "tags": null
          },
          "name": "stderr",
          "output_type": "stream",
          "text": [
            "     49/250      2.26G     0.9247     0.8165      1.204         16        640: 100%|██████████| 24/24 [00:10<00:00,  2.40it/s]\n",
            "                 Class     Images  Instances      Box(P          R      mAP50  mAP50-95): 100%|██████████| 4/4 [00:01<00:00,  2.69it/s]"
          ]
        },
        {
          "metadata": {
            "tags": null
          },
          "name": "stdout",
          "output_type": "stream",
          "text": [
            "                   all        111        114      0.707      0.591        0.7      0.488\n"
          ]
        },
        {
          "metadata": {
            "tags": null
          },
          "name": "stderr",
          "output_type": "stream",
          "text": [
            "\n"
          ]
        },
        {
          "metadata": {
            "tags": null
          },
          "name": "stdout",
          "output_type": "stream",
          "text": [
            "\n",
            "      Epoch    GPU_mem   box_loss   cls_loss   dfl_loss  Instances       Size\n"
          ]
        },
        {
          "metadata": {
            "tags": null
          },
          "name": "stderr",
          "output_type": "stream",
          "text": [
            "     50/250      2.28G     0.9057     0.8286      1.191         24        640: 100%|██████████| 24/24 [00:08<00:00,  2.76it/s]\n",
            "                 Class     Images  Instances      Box(P          R      mAP50  mAP50-95): 100%|██████████| 4/4 [00:02<00:00,  1.75it/s]"
          ]
        },
        {
          "metadata": {
            "tags": null
          },
          "name": "stdout",
          "output_type": "stream",
          "text": [
            "                   all        111        114      0.725      0.526       0.61      0.361\n"
          ]
        },
        {
          "metadata": {
            "tags": null
          },
          "name": "stderr",
          "output_type": "stream",
          "text": [
            "\n"
          ]
        },
        {
          "metadata": {
            "tags": null
          },
          "name": "stdout",
          "output_type": "stream",
          "text": [
            "\n",
            "      Epoch    GPU_mem   box_loss   cls_loss   dfl_loss  Instances       Size\n"
          ]
        },
        {
          "metadata": {
            "tags": null
          },
          "name": "stderr",
          "output_type": "stream",
          "text": [
            "     51/250      2.28G      0.965     0.8909      1.237         18        640: 100%|██████████| 24/24 [00:08<00:00,  2.85it/s]\n",
            "                 Class     Images  Instances      Box(P          R      mAP50  mAP50-95): 100%|██████████| 4/4 [00:02<00:00,  1.50it/s]"
          ]
        },
        {
          "metadata": {
            "tags": null
          },
          "name": "stdout",
          "output_type": "stream",
          "text": [
            "                   all        111        114      0.693      0.627       0.66      0.416\n"
          ]
        },
        {
          "metadata": {
            "tags": null
          },
          "name": "stderr",
          "output_type": "stream",
          "text": [
            "\n"
          ]
        },
        {
          "metadata": {
            "tags": null
          },
          "name": "stdout",
          "output_type": "stream",
          "text": [
            "\n",
            "      Epoch    GPU_mem   box_loss   cls_loss   dfl_loss  Instances       Size\n"
          ]
        },
        {
          "metadata": {
            "tags": null
          },
          "name": "stderr",
          "output_type": "stream",
          "text": [
            "     52/250      2.26G     0.9325     0.8401      1.216         20        640: 100%|██████████| 24/24 [00:08<00:00,  2.76it/s]\n",
            "                 Class     Images  Instances      Box(P          R      mAP50  mAP50-95): 100%|██████████| 4/4 [00:01<00:00,  2.17it/s]"
          ]
        },
        {
          "metadata": {
            "tags": null
          },
          "name": "stdout",
          "output_type": "stream",
          "text": [
            "                   all        111        114      0.739      0.612      0.674      0.425\n"
          ]
        },
        {
          "metadata": {
            "tags": null
          },
          "name": "stderr",
          "output_type": "stream",
          "text": [
            "\n"
          ]
        },
        {
          "metadata": {
            "tags": null
          },
          "name": "stdout",
          "output_type": "stream",
          "text": [
            "\n",
            "      Epoch    GPU_mem   box_loss   cls_loss   dfl_loss  Instances       Size\n"
          ]
        },
        {
          "metadata": {
            "tags": null
          },
          "name": "stderr",
          "output_type": "stream",
          "text": [
            "     53/250      2.26G     0.9585      0.845      1.233         14        640: 100%|██████████| 24/24 [00:09<00:00,  2.45it/s]\n",
            "                 Class     Images  Instances      Box(P          R      mAP50  mAP50-95): 100%|██████████| 4/4 [00:01<00:00,  2.65it/s]"
          ]
        },
        {
          "metadata": {
            "tags": null
          },
          "name": "stdout",
          "output_type": "stream",
          "text": [
            "                   all        111        114      0.851      0.571      0.723       0.47\n"
          ]
        },
        {
          "metadata": {
            "tags": null
          },
          "name": "stderr",
          "output_type": "stream",
          "text": [
            "\n"
          ]
        },
        {
          "metadata": {
            "tags": null
          },
          "name": "stdout",
          "output_type": "stream",
          "text": [
            "\n",
            "      Epoch    GPU_mem   box_loss   cls_loss   dfl_loss  Instances       Size\n"
          ]
        },
        {
          "metadata": {
            "tags": null
          },
          "name": "stderr",
          "output_type": "stream",
          "text": [
            "     54/250      2.26G     0.9098     0.8062      1.205         12        640: 100%|██████████| 24/24 [00:10<00:00,  2.36it/s]\n",
            "                 Class     Images  Instances      Box(P          R      mAP50  mAP50-95): 100%|██████████| 4/4 [00:01<00:00,  2.81it/s]\n"
          ]
        },
        {
          "metadata": {
            "tags": null
          },
          "name": "stdout",
          "output_type": "stream",
          "text": [
            "                   all        111        114      0.819      0.679      0.742      0.483\n",
            "\n",
            "      Epoch    GPU_mem   box_loss   cls_loss   dfl_loss  Instances       Size\n"
          ]
        },
        {
          "metadata": {
            "tags": null
          },
          "name": "stderr",
          "output_type": "stream",
          "text": [
            "     55/250      2.29G     0.9214     0.8012      1.204         10        640: 100%|██████████| 24/24 [00:09<00:00,  2.51it/s]\n",
            "                 Class     Images  Instances      Box(P          R      mAP50  mAP50-95): 100%|██████████| 4/4 [00:02<00:00,  2.00it/s]"
          ]
        },
        {
          "metadata": {
            "tags": null
          },
          "name": "stdout",
          "output_type": "stream",
          "text": [
            "                   all        111        114      0.762       0.69      0.725      0.478\n"
          ]
        },
        {
          "metadata": {
            "tags": null
          },
          "name": "stderr",
          "output_type": "stream",
          "text": [
            "\n"
          ]
        },
        {
          "metadata": {
            "tags": null
          },
          "name": "stdout",
          "output_type": "stream",
          "text": [
            "\n",
            "      Epoch    GPU_mem   box_loss   cls_loss   dfl_loss  Instances       Size\n"
          ]
        },
        {
          "metadata": {
            "tags": null
          },
          "name": "stderr",
          "output_type": "stream",
          "text": [
            "     56/250      2.26G     0.9086     0.7931      1.211         14        640: 100%|██████████| 24/24 [00:10<00:00,  2.34it/s]\n",
            "                 Class     Images  Instances      Box(P          R      mAP50  mAP50-95): 100%|██████████| 4/4 [00:01<00:00,  2.34it/s]"
          ]
        },
        {
          "metadata": {
            "tags": null
          },
          "name": "stdout",
          "output_type": "stream",
          "text": [
            "                   all        111        114      0.743      0.655      0.685      0.455\n"
          ]
        },
        {
          "metadata": {
            "tags": null
          },
          "name": "stderr",
          "output_type": "stream",
          "text": [
            "\n"
          ]
        },
        {
          "metadata": {
            "tags": null
          },
          "name": "stdout",
          "output_type": "stream",
          "text": [
            "\n",
            "      Epoch    GPU_mem   box_loss   cls_loss   dfl_loss  Instances       Size\n"
          ]
        },
        {
          "metadata": {
            "tags": null
          },
          "name": "stderr",
          "output_type": "stream",
          "text": [
            "     57/250      2.26G     0.8951     0.7808      1.196         17        640: 100%|██████████| 24/24 [00:08<00:00,  2.76it/s]\n",
            "                 Class     Images  Instances      Box(P          R      mAP50  mAP50-95): 100%|██████████| 4/4 [00:02<00:00,  1.48it/s]"
          ]
        },
        {
          "metadata": {
            "tags": null
          },
          "name": "stdout",
          "output_type": "stream",
          "text": [
            "                   all        111        114      0.705       0.63      0.692      0.487\n"
          ]
        },
        {
          "metadata": {
            "tags": null
          },
          "name": "stderr",
          "output_type": "stream",
          "text": [
            "\n"
          ]
        },
        {
          "metadata": {
            "tags": null
          },
          "name": "stdout",
          "output_type": "stream",
          "text": [
            "\n",
            "      Epoch    GPU_mem   box_loss   cls_loss   dfl_loss  Instances       Size\n"
          ]
        },
        {
          "metadata": {
            "tags": null
          },
          "name": "stderr",
          "output_type": "stream",
          "text": [
            "     58/250      2.31G     0.8954     0.7648      1.183         16        640: 100%|██████████| 24/24 [00:07<00:00,  3.05it/s]\n",
            "                 Class     Images  Instances      Box(P          R      mAP50  mAP50-95): 100%|██████████| 4/4 [00:02<00:00,  1.55it/s]"
          ]
        },
        {
          "metadata": {
            "tags": null
          },
          "name": "stdout",
          "output_type": "stream",
          "text": [
            "                   all        111        114      0.709      0.517      0.601      0.382\n"
          ]
        },
        {
          "metadata": {
            "tags": null
          },
          "name": "stderr",
          "output_type": "stream",
          "text": [
            "\n"
          ]
        },
        {
          "metadata": {
            "tags": null
          },
          "name": "stdout",
          "output_type": "stream",
          "text": [
            "\n",
            "      Epoch    GPU_mem   box_loss   cls_loss   dfl_loss  Instances       Size\n"
          ]
        },
        {
          "metadata": {
            "tags": null
          },
          "name": "stderr",
          "output_type": "stream",
          "text": [
            "     59/250      2.28G     0.9455     0.8387      1.222         13        640: 100%|██████████| 24/24 [00:08<00:00,  2.81it/s]\n",
            "                 Class     Images  Instances      Box(P          R      mAP50  mAP50-95): 100%|██████████| 4/4 [00:01<00:00,  2.02it/s]"
          ]
        },
        {
          "metadata": {
            "tags": null
          },
          "name": "stdout",
          "output_type": "stream",
          "text": [
            "                   all        111        114        0.7      0.591      0.663      0.405\n"
          ]
        },
        {
          "metadata": {
            "tags": null
          },
          "name": "stderr",
          "output_type": "stream",
          "text": [
            "\n"
          ]
        },
        {
          "metadata": {
            "tags": null
          },
          "name": "stdout",
          "output_type": "stream",
          "text": [
            "\n",
            "      Epoch    GPU_mem   box_loss   cls_loss   dfl_loss  Instances       Size\n"
          ]
        },
        {
          "metadata": {
            "tags": null
          },
          "name": "stderr",
          "output_type": "stream",
          "text": [
            "     60/250      2.26G     0.9306     0.8054      1.182         18        640: 100%|██████████| 24/24 [00:09<00:00,  2.47it/s]\n",
            "                 Class     Images  Instances      Box(P          R      mAP50  mAP50-95): 100%|██████████| 4/4 [00:01<00:00,  2.34it/s]"
          ]
        },
        {
          "metadata": {
            "tags": null
          },
          "name": "stdout",
          "output_type": "stream",
          "text": [
            "                   all        111        114       0.69      0.702      0.713      0.473\n"
          ]
        },
        {
          "metadata": {
            "tags": null
          },
          "name": "stderr",
          "output_type": "stream",
          "text": [
            "\n"
          ]
        },
        {
          "metadata": {
            "tags": null
          },
          "name": "stdout",
          "output_type": "stream",
          "text": [
            "\n",
            "      Epoch    GPU_mem   box_loss   cls_loss   dfl_loss  Instances       Size\n"
          ]
        },
        {
          "metadata": {
            "tags": null
          },
          "name": "stderr",
          "output_type": "stream",
          "text": [
            "     61/250      2.26G     0.9193     0.7657        1.2         22        640: 100%|██████████| 24/24 [00:10<00:00,  2.36it/s]\n",
            "                 Class     Images  Instances      Box(P          R      mAP50  mAP50-95): 100%|██████████| 4/4 [00:01<00:00,  2.70it/s]"
          ]
        },
        {
          "metadata": {
            "tags": null
          },
          "name": "stdout",
          "output_type": "stream",
          "text": [
            "                   all        111        114      0.782      0.614      0.662       0.43\n"
          ]
        },
        {
          "metadata": {
            "tags": null
          },
          "name": "stderr",
          "output_type": "stream",
          "text": [
            "\n"
          ]
        },
        {
          "metadata": {
            "tags": null
          },
          "name": "stdout",
          "output_type": "stream",
          "text": [
            "\n",
            "      Epoch    GPU_mem   box_loss   cls_loss   dfl_loss  Instances       Size\n"
          ]
        },
        {
          "metadata": {
            "tags": null
          },
          "name": "stderr",
          "output_type": "stream",
          "text": [
            "     62/250      2.26G     0.8906       0.84      1.214         20        640: 100%|██████████| 24/24 [00:10<00:00,  2.37it/s]\n",
            "                 Class     Images  Instances      Box(P          R      mAP50  mAP50-95): 100%|██████████| 4/4 [00:01<00:00,  2.41it/s]"
          ]
        },
        {
          "metadata": {
            "tags": null
          },
          "name": "stdout",
          "output_type": "stream",
          "text": [
            "                   all        111        114      0.765      0.699      0.783      0.539\n"
          ]
        },
        {
          "metadata": {
            "tags": null
          },
          "name": "stderr",
          "output_type": "stream",
          "text": [
            "\n"
          ]
        },
        {
          "metadata": {
            "tags": null
          },
          "name": "stdout",
          "output_type": "stream",
          "text": [
            "\n",
            "      Epoch    GPU_mem   box_loss   cls_loss   dfl_loss  Instances       Size\n"
          ]
        },
        {
          "metadata": {
            "tags": null
          },
          "name": "stderr",
          "output_type": "stream",
          "text": [
            "     63/250      2.26G     0.8534     0.7595      1.163         17        640: 100%|██████████| 24/24 [00:09<00:00,  2.42it/s]\n",
            "                 Class     Images  Instances      Box(P          R      mAP50  mAP50-95): 100%|██████████| 4/4 [00:01<00:00,  2.09it/s]"
          ]
        },
        {
          "metadata": {
            "tags": null
          },
          "name": "stdout",
          "output_type": "stream",
          "text": [
            "                   all        111        114       0.79      0.753      0.787      0.542\n"
          ]
        },
        {
          "metadata": {
            "tags": null
          },
          "name": "stderr",
          "output_type": "stream",
          "text": [
            "\n"
          ]
        },
        {
          "metadata": {
            "tags": null
          },
          "name": "stdout",
          "output_type": "stream",
          "text": [
            "\n",
            "      Epoch    GPU_mem   box_loss   cls_loss   dfl_loss  Instances       Size\n"
          ]
        },
        {
          "metadata": {
            "tags": null
          },
          "name": "stderr",
          "output_type": "stream",
          "text": [
            "     64/250      2.28G     0.8849     0.7714      1.167         16        640: 100%|██████████| 24/24 [00:09<00:00,  2.43it/s]\n",
            "                 Class     Images  Instances      Box(P          R      mAP50  mAP50-95): 100%|██████████| 4/4 [00:01<00:00,  2.04it/s]\n"
          ]
        },
        {
          "metadata": {
            "tags": null
          },
          "name": "stdout",
          "output_type": "stream",
          "text": [
            "                   all        111        114      0.728      0.613      0.633      0.413\n",
            "\n",
            "      Epoch    GPU_mem   box_loss   cls_loss   dfl_loss  Instances       Size\n"
          ]
        },
        {
          "metadata": {
            "tags": null
          },
          "name": "stderr",
          "output_type": "stream",
          "text": [
            "     65/250      2.29G      0.879      0.751      1.156         16        640: 100%|██████████| 24/24 [00:08<00:00,  2.82it/s]\n",
            "                 Class     Images  Instances      Box(P          R      mAP50  mAP50-95): 100%|██████████| 4/4 [00:03<00:00,  1.33it/s]"
          ]
        },
        {
          "metadata": {
            "tags": null
          },
          "name": "stdout",
          "output_type": "stream",
          "text": [
            "                   all        111        114      0.802      0.694      0.737      0.463\n"
          ]
        },
        {
          "metadata": {
            "tags": null
          },
          "name": "stderr",
          "output_type": "stream",
          "text": [
            "\n"
          ]
        },
        {
          "metadata": {
            "tags": null
          },
          "name": "stdout",
          "output_type": "stream",
          "text": [
            "\n",
            "      Epoch    GPU_mem   box_loss   cls_loss   dfl_loss  Instances       Size\n"
          ]
        },
        {
          "metadata": {
            "tags": null
          },
          "name": "stderr",
          "output_type": "stream",
          "text": [
            "     66/250      2.26G     0.9071     0.7604      1.179         15        640: 100%|██████████| 24/24 [00:08<00:00,  2.91it/s]\n",
            "                 Class     Images  Instances      Box(P          R      mAP50  mAP50-95): 100%|██████████| 4/4 [00:01<00:00,  2.19it/s]\n"
          ]
        },
        {
          "metadata": {
            "tags": null
          },
          "name": "stdout",
          "output_type": "stream",
          "text": [
            "                   all        111        114      0.848      0.724      0.774      0.527\n",
            "\n",
            "      Epoch    GPU_mem   box_loss   cls_loss   dfl_loss  Instances       Size\n"
          ]
        },
        {
          "metadata": {
            "tags": null
          },
          "name": "stderr",
          "output_type": "stream",
          "text": [
            "     67/250      2.28G     0.9401     0.7694      1.186         20        640: 100%|██████████| 24/24 [00:08<00:00,  2.71it/s]\n",
            "                 Class     Images  Instances      Box(P          R      mAP50  mAP50-95): 100%|██████████| 4/4 [00:01<00:00,  2.39it/s]"
          ]
        },
        {
          "metadata": {
            "tags": null
          },
          "name": "stdout",
          "output_type": "stream",
          "text": [
            "                   all        111        114      0.763      0.653      0.772      0.505\n"
          ]
        },
        {
          "metadata": {
            "tags": null
          },
          "name": "stderr",
          "output_type": "stream",
          "text": [
            "\n"
          ]
        },
        {
          "metadata": {
            "tags": null
          },
          "name": "stdout",
          "output_type": "stream",
          "text": [
            "\n",
            "      Epoch    GPU_mem   box_loss   cls_loss   dfl_loss  Instances       Size\n"
          ]
        },
        {
          "metadata": {
            "tags": null
          },
          "name": "stderr",
          "output_type": "stream",
          "text": [
            "     68/250      2.26G     0.8776     0.7621      1.177         15        640: 100%|██████████| 24/24 [00:09<00:00,  2.48it/s]\n",
            "                 Class     Images  Instances      Box(P          R      mAP50  mAP50-95): 100%|██████████| 4/4 [00:01<00:00,  2.55it/s]"
          ]
        },
        {
          "metadata": {
            "tags": null
          },
          "name": "stdout",
          "output_type": "stream",
          "text": [
            "                   all        111        114      0.709      0.764      0.746      0.534\n"
          ]
        },
        {
          "metadata": {
            "tags": null
          },
          "name": "stderr",
          "output_type": "stream",
          "text": [
            "\n"
          ]
        },
        {
          "metadata": {
            "tags": null
          },
          "name": "stdout",
          "output_type": "stream",
          "text": [
            "\n",
            "      Epoch    GPU_mem   box_loss   cls_loss   dfl_loss  Instances       Size\n"
          ]
        },
        {
          "metadata": {
            "tags": null
          },
          "name": "stderr",
          "output_type": "stream",
          "text": [
            "     69/250      2.26G     0.8876     0.7374      1.177         16        640: 100%|██████████| 24/24 [00:10<00:00,  2.36it/s]\n",
            "                 Class     Images  Instances      Box(P          R      mAP50  mAP50-95): 100%|██████████| 4/4 [00:01<00:00,  2.53it/s]"
          ]
        },
        {
          "metadata": {
            "tags": null
          },
          "name": "stdout",
          "output_type": "stream",
          "text": [
            "                   all        111        114        0.6      0.719      0.717      0.486\n"
          ]
        },
        {
          "metadata": {
            "tags": null
          },
          "name": "stderr",
          "output_type": "stream",
          "text": [
            "\n"
          ]
        },
        {
          "metadata": {
            "tags": null
          },
          "name": "stdout",
          "output_type": "stream",
          "text": [
            "\n",
            "      Epoch    GPU_mem   box_loss   cls_loss   dfl_loss  Instances       Size\n"
          ]
        },
        {
          "metadata": {
            "tags": null
          },
          "name": "stderr",
          "output_type": "stream",
          "text": [
            "     70/250      2.26G     0.8417     0.6994      1.146         11        640: 100%|██████████| 24/24 [00:09<00:00,  2.45it/s]\n",
            "                 Class     Images  Instances      Box(P          R      mAP50  mAP50-95): 100%|██████████| 4/4 [00:01<00:00,  2.44it/s]"
          ]
        },
        {
          "metadata": {
            "tags": null
          },
          "name": "stdout",
          "output_type": "stream",
          "text": [
            "                   all        111        114      0.632      0.731       0.75      0.479\n"
          ]
        },
        {
          "metadata": {
            "tags": null
          },
          "name": "stderr",
          "output_type": "stream",
          "text": [
            "\n"
          ]
        },
        {
          "metadata": {
            "tags": null
          },
          "name": "stdout",
          "output_type": "stream",
          "text": [
            "\n",
            "      Epoch    GPU_mem   box_loss   cls_loss   dfl_loss  Instances       Size\n"
          ]
        },
        {
          "metadata": {
            "tags": null
          },
          "name": "stderr",
          "output_type": "stream",
          "text": [
            "     71/250      2.28G     0.8453      0.689      1.162         22        640: 100%|██████████| 24/24 [00:10<00:00,  2.38it/s]\n",
            "                 Class     Images  Instances      Box(P          R      mAP50  mAP50-95): 100%|██████████| 4/4 [00:01<00:00,  2.41it/s]"
          ]
        },
        {
          "metadata": {
            "tags": null
          },
          "name": "stdout",
          "output_type": "stream",
          "text": [
            "                   all        111        114      0.761      0.601      0.759       0.48\n"
          ]
        },
        {
          "metadata": {
            "tags": null
          },
          "name": "stderr",
          "output_type": "stream",
          "text": [
            "\n"
          ]
        },
        {
          "metadata": {
            "tags": null
          },
          "name": "stdout",
          "output_type": "stream",
          "text": [
            "\n",
            "      Epoch    GPU_mem   box_loss   cls_loss   dfl_loss  Instances       Size\n"
          ]
        },
        {
          "metadata": {
            "tags": null
          },
          "name": "stderr",
          "output_type": "stream",
          "text": [
            "     72/250      2.26G     0.8611     0.7112      1.162         18        640: 100%|██████████| 24/24 [00:09<00:00,  2.44it/s]\n",
            "                 Class     Images  Instances      Box(P          R      mAP50  mAP50-95): 100%|██████████| 4/4 [00:01<00:00,  2.22it/s]"
          ]
        },
        {
          "metadata": {
            "tags": null
          },
          "name": "stdout",
          "output_type": "stream",
          "text": [
            "                   all        111        114      0.632      0.631      0.649      0.421\n"
          ]
        },
        {
          "metadata": {
            "tags": null
          },
          "name": "stderr",
          "output_type": "stream",
          "text": [
            "\n"
          ]
        },
        {
          "metadata": {
            "tags": null
          },
          "name": "stdout",
          "output_type": "stream",
          "text": [
            "\n",
            "      Epoch    GPU_mem   box_loss   cls_loss   dfl_loss  Instances       Size\n"
          ]
        },
        {
          "metadata": {
            "tags": null
          },
          "name": "stderr",
          "output_type": "stream",
          "text": [
            "     73/250      2.31G     0.8413     0.7343      1.157         14        640: 100%|██████████| 24/24 [00:08<00:00,  2.95it/s]\n",
            "                 Class     Images  Instances      Box(P          R      mAP50  mAP50-95): 100%|██████████| 4/4 [00:02<00:00,  1.92it/s]"
          ]
        },
        {
          "metadata": {
            "tags": null
          },
          "name": "stdout",
          "output_type": "stream",
          "text": [
            "                   all        111        114      0.747      0.711      0.764      0.517\n"
          ]
        },
        {
          "metadata": {
            "tags": null
          },
          "name": "stderr",
          "output_type": "stream",
          "text": [
            "\n"
          ]
        },
        {
          "metadata": {
            "tags": null
          },
          "name": "stdout",
          "output_type": "stream",
          "text": [
            "\n",
            "      Epoch    GPU_mem   box_loss   cls_loss   dfl_loss  Instances       Size\n"
          ]
        },
        {
          "metadata": {
            "tags": null
          },
          "name": "stderr",
          "output_type": "stream",
          "text": [
            "     74/250      2.26G     0.8555      0.738      1.169         13        640: 100%|██████████| 24/24 [00:08<00:00,  2.89it/s]\n",
            "                 Class     Images  Instances      Box(P          R      mAP50  mAP50-95): 100%|██████████| 4/4 [00:01<00:00,  2.21it/s]"
          ]
        },
        {
          "metadata": {
            "tags": null
          },
          "name": "stdout",
          "output_type": "stream",
          "text": [
            "                   all        111        114      0.787      0.569       0.72      0.481\n"
          ]
        },
        {
          "metadata": {
            "tags": null
          },
          "name": "stderr",
          "output_type": "stream",
          "text": [
            "\n"
          ]
        },
        {
          "metadata": {
            "tags": null
          },
          "name": "stdout",
          "output_type": "stream",
          "text": [
            "\n",
            "      Epoch    GPU_mem   box_loss   cls_loss   dfl_loss  Instances       Size\n"
          ]
        },
        {
          "metadata": {
            "tags": null
          },
          "name": "stderr",
          "output_type": "stream",
          "text": [
            "     75/250      2.26G     0.8603      0.768      1.164         11        640: 100%|██████████| 24/24 [00:08<00:00,  2.76it/s]\n",
            "                 Class     Images  Instances      Box(P          R      mAP50  mAP50-95): 100%|██████████| 4/4 [00:01<00:00,  2.64it/s]\n"
          ]
        },
        {
          "metadata": {
            "tags": null
          },
          "name": "stdout",
          "output_type": "stream",
          "text": [
            "                   all        111        114      0.761      0.657      0.712      0.461\n",
            "\n",
            "      Epoch    GPU_mem   box_loss   cls_loss   dfl_loss  Instances       Size\n"
          ]
        },
        {
          "metadata": {
            "tags": null
          },
          "name": "stderr",
          "output_type": "stream",
          "text": [
            "     76/250      2.28G     0.8038     0.6879      1.123         19        640: 100%|██████████| 24/24 [00:09<00:00,  2.54it/s]\n",
            "                 Class     Images  Instances      Box(P          R      mAP50  mAP50-95): 100%|██████████| 4/4 [00:01<00:00,  2.36it/s]"
          ]
        },
        {
          "metadata": {
            "tags": null
          },
          "name": "stdout",
          "output_type": "stream",
          "text": [
            "                   all        111        114      0.767      0.793      0.827      0.585\n"
          ]
        },
        {
          "metadata": {
            "tags": null
          },
          "name": "stderr",
          "output_type": "stream",
          "text": [
            "\n"
          ]
        },
        {
          "metadata": {
            "tags": null
          },
          "name": "stdout",
          "output_type": "stream",
          "text": [
            "\n",
            "      Epoch    GPU_mem   box_loss   cls_loss   dfl_loss  Instances       Size\n"
          ]
        },
        {
          "metadata": {
            "tags": null
          },
          "name": "stderr",
          "output_type": "stream",
          "text": [
            "     77/250      2.26G     0.8467     0.7223      1.162         18        640: 100%|██████████| 24/24 [00:09<00:00,  2.41it/s]\n",
            "                 Class     Images  Instances      Box(P          R      mAP50  mAP50-95): 100%|██████████| 4/4 [00:01<00:00,  2.28it/s]"
          ]
        },
        {
          "metadata": {
            "tags": null
          },
          "name": "stdout",
          "output_type": "stream",
          "text": [
            "                   all        111        114      0.736      0.734      0.792       0.54\n"
          ]
        },
        {
          "metadata": {
            "tags": null
          },
          "name": "stderr",
          "output_type": "stream",
          "text": [
            "\n"
          ]
        },
        {
          "metadata": {
            "tags": null
          },
          "name": "stdout",
          "output_type": "stream",
          "text": [
            "\n",
            "      Epoch    GPU_mem   box_loss   cls_loss   dfl_loss  Instances       Size\n"
          ]
        },
        {
          "metadata": {
            "tags": null
          },
          "name": "stderr",
          "output_type": "stream",
          "text": [
            "     78/250      2.28G     0.8473     0.7029      1.157         17        640: 100%|██████████| 24/24 [00:09<00:00,  2.41it/s]\n",
            "                 Class     Images  Instances      Box(P          R      mAP50  mAP50-95): 100%|██████████| 4/4 [00:01<00:00,  2.56it/s]"
          ]
        },
        {
          "metadata": {
            "tags": null
          },
          "name": "stdout",
          "output_type": "stream",
          "text": [
            "                   all        111        114      0.767      0.694      0.769      0.511\n"
          ]
        },
        {
          "metadata": {
            "tags": null
          },
          "name": "stderr",
          "output_type": "stream",
          "text": [
            "\n"
          ]
        },
        {
          "metadata": {
            "tags": null
          },
          "name": "stdout",
          "output_type": "stream",
          "text": [
            "\n",
            "      Epoch    GPU_mem   box_loss   cls_loss   dfl_loss  Instances       Size\n"
          ]
        },
        {
          "metadata": {
            "tags": null
          },
          "name": "stderr",
          "output_type": "stream",
          "text": [
            "     79/250      2.26G     0.8184     0.6801      1.146         16        640: 100%|██████████| 24/24 [00:09<00:00,  2.43it/s]\n",
            "                 Class     Images  Instances      Box(P          R      mAP50  mAP50-95): 100%|██████████| 4/4 [00:01<00:00,  2.50it/s]"
          ]
        },
        {
          "metadata": {
            "tags": null
          },
          "name": "stdout",
          "output_type": "stream",
          "text": [
            "                   all        111        114      0.782      0.742      0.773      0.495\n"
          ]
        },
        {
          "metadata": {
            "tags": null
          },
          "name": "stderr",
          "output_type": "stream",
          "text": [
            "\n"
          ]
        },
        {
          "metadata": {
            "tags": null
          },
          "name": "stdout",
          "output_type": "stream",
          "text": [
            "\n",
            "      Epoch    GPU_mem   box_loss   cls_loss   dfl_loss  Instances       Size\n"
          ]
        },
        {
          "metadata": {
            "tags": null
          },
          "name": "stderr",
          "output_type": "stream",
          "text": [
            "     80/250      2.26G     0.8568      0.739      1.172         12        640: 100%|██████████| 24/24 [00:09<00:00,  2.46it/s]\n",
            "                 Class     Images  Instances      Box(P          R      mAP50  mAP50-95): 100%|██████████| 4/4 [00:01<00:00,  2.42it/s]"
          ]
        },
        {
          "metadata": {
            "tags": null
          },
          "name": "stdout",
          "output_type": "stream",
          "text": [
            "                   all        111        114      0.761      0.784      0.801      0.542\n"
          ]
        },
        {
          "metadata": {
            "tags": null
          },
          "name": "stderr",
          "output_type": "stream",
          "text": [
            "\n"
          ]
        },
        {
          "metadata": {
            "tags": null
          },
          "name": "stdout",
          "output_type": "stream",
          "text": [
            "\n",
            "      Epoch    GPU_mem   box_loss   cls_loss   dfl_loss  Instances       Size\n"
          ]
        },
        {
          "metadata": {
            "tags": null
          },
          "name": "stderr",
          "output_type": "stream",
          "text": [
            "     81/250      2.28G      0.835     0.6914      1.154         34        640: 100%|██████████| 24/24 [00:08<00:00,  2.87it/s]\n",
            "                 Class     Images  Instances      Box(P          R      mAP50  mAP50-95): 100%|██████████| 4/4 [00:02<00:00,  1.34it/s]"
          ]
        },
        {
          "metadata": {
            "tags": null
          },
          "name": "stdout",
          "output_type": "stream",
          "text": [
            "                   all        111        114      0.753      0.683      0.758      0.505\n"
          ]
        },
        {
          "metadata": {
            "tags": null
          },
          "name": "stderr",
          "output_type": "stream",
          "text": [
            "\n"
          ]
        },
        {
          "metadata": {
            "tags": null
          },
          "name": "stdout",
          "output_type": "stream",
          "text": [
            "\n",
            "      Epoch    GPU_mem   box_loss   cls_loss   dfl_loss  Instances       Size\n"
          ]
        },
        {
          "metadata": {
            "tags": null
          },
          "name": "stderr",
          "output_type": "stream",
          "text": [
            "     82/250      2.26G     0.8325     0.6831       1.16         13        640: 100%|██████████| 24/24 [00:08<00:00,  2.91it/s]\n",
            "                 Class     Images  Instances      Box(P          R      mAP50  mAP50-95): 100%|██████████| 4/4 [00:01<00:00,  2.25it/s]"
          ]
        },
        {
          "metadata": {
            "tags": null
          },
          "name": "stdout",
          "output_type": "stream",
          "text": [
            "                   all        111        114      0.778      0.627      0.735      0.486\n"
          ]
        },
        {
          "metadata": {
            "tags": null
          },
          "name": "stderr",
          "output_type": "stream",
          "text": [
            "\n"
          ]
        },
        {
          "metadata": {
            "tags": null
          },
          "name": "stdout",
          "output_type": "stream",
          "text": [
            "\n",
            "      Epoch    GPU_mem   box_loss   cls_loss   dfl_loss  Instances       Size\n"
          ]
        },
        {
          "metadata": {
            "tags": null
          },
          "name": "stderr",
          "output_type": "stream",
          "text": [
            "     83/250      2.26G     0.8345     0.6951      1.145         13        640: 100%|██████████| 24/24 [00:08<00:00,  2.70it/s]\n",
            "                 Class     Images  Instances      Box(P          R      mAP50  mAP50-95): 100%|██████████| 4/4 [00:01<00:00,  2.49it/s]"
          ]
        },
        {
          "metadata": {
            "tags": null
          },
          "name": "stdout",
          "output_type": "stream",
          "text": [
            "                   all        111        114      0.756      0.729      0.779       0.52\n"
          ]
        },
        {
          "metadata": {
            "tags": null
          },
          "name": "stderr",
          "output_type": "stream",
          "text": [
            "\n"
          ]
        },
        {
          "metadata": {
            "tags": null
          },
          "name": "stdout",
          "output_type": "stream",
          "text": [
            "\n",
            "      Epoch    GPU_mem   box_loss   cls_loss   dfl_loss  Instances       Size\n"
          ]
        },
        {
          "metadata": {
            "tags": null
          },
          "name": "stderr",
          "output_type": "stream",
          "text": [
            "     84/250      2.26G     0.8151     0.6823      1.139         18        640: 100%|██████████| 24/24 [00:09<00:00,  2.52it/s]\n",
            "                 Class     Images  Instances      Box(P          R      mAP50  mAP50-95): 100%|██████████| 4/4 [00:01<00:00,  2.30it/s]"
          ]
        },
        {
          "metadata": {
            "tags": null
          },
          "name": "stdout",
          "output_type": "stream",
          "text": [
            "                   all        111        114      0.809      0.725      0.813      0.516\n"
          ]
        },
        {
          "metadata": {
            "tags": null
          },
          "name": "stderr",
          "output_type": "stream",
          "text": [
            "\n"
          ]
        },
        {
          "metadata": {
            "tags": null
          },
          "name": "stdout",
          "output_type": "stream",
          "text": [
            "\n",
            "      Epoch    GPU_mem   box_loss   cls_loss   dfl_loss  Instances       Size\n"
          ]
        },
        {
          "metadata": {
            "tags": null
          },
          "name": "stderr",
          "output_type": "stream",
          "text": [
            "     85/250      2.26G     0.7973     0.6626      1.129         18        640: 100%|██████████| 24/24 [00:09<00:00,  2.45it/s]\n",
            "                 Class     Images  Instances      Box(P          R      mAP50  mAP50-95): 100%|██████████| 4/4 [00:01<00:00,  3.10it/s]"
          ]
        },
        {
          "metadata": {
            "tags": null
          },
          "name": "stdout",
          "output_type": "stream",
          "text": [
            "                   all        111        114      0.757      0.649      0.747      0.503\n"
          ]
        },
        {
          "metadata": {
            "tags": null
          },
          "name": "stderr",
          "output_type": "stream",
          "text": [
            "\n"
          ]
        },
        {
          "metadata": {
            "tags": null
          },
          "name": "stdout",
          "output_type": "stream",
          "text": [
            "\n",
            "      Epoch    GPU_mem   box_loss   cls_loss   dfl_loss  Instances       Size\n"
          ]
        },
        {
          "metadata": {
            "tags": null
          },
          "name": "stderr",
          "output_type": "stream",
          "text": [
            "     86/250      2.26G     0.8044     0.6667      1.127         19        640: 100%|██████████| 24/24 [00:09<00:00,  2.52it/s]\n",
            "                 Class     Images  Instances      Box(P          R      mAP50  mAP50-95): 100%|██████████| 4/4 [00:01<00:00,  2.46it/s]"
          ]
        },
        {
          "metadata": {
            "tags": null
          },
          "name": "stdout",
          "output_type": "stream",
          "text": [
            "                   all        111        114      0.665      0.733      0.693      0.457\n"
          ]
        },
        {
          "metadata": {
            "tags": null
          },
          "name": "stderr",
          "output_type": "stream",
          "text": [
            "\n"
          ]
        },
        {
          "metadata": {
            "tags": null
          },
          "name": "stdout",
          "output_type": "stream",
          "text": [
            "\n",
            "      Epoch    GPU_mem   box_loss   cls_loss   dfl_loss  Instances       Size\n"
          ]
        },
        {
          "metadata": {
            "tags": null
          },
          "name": "stderr",
          "output_type": "stream",
          "text": [
            "     87/250      2.26G     0.7804     0.6404      1.111         18        640: 100%|██████████| 24/24 [00:09<00:00,  2.42it/s]\n",
            "                 Class     Images  Instances      Box(P          R      mAP50  mAP50-95): 100%|██████████| 4/4 [00:01<00:00,  2.28it/s]"
          ]
        },
        {
          "metadata": {
            "tags": null
          },
          "name": "stdout",
          "output_type": "stream",
          "text": [
            "                   all        111        114      0.693      0.583      0.677      0.423\n"
          ]
        },
        {
          "metadata": {
            "tags": null
          },
          "name": "stderr",
          "output_type": "stream",
          "text": [
            "\n"
          ]
        },
        {
          "metadata": {
            "tags": null
          },
          "name": "stdout",
          "output_type": "stream",
          "text": [
            "\n",
            "      Epoch    GPU_mem   box_loss   cls_loss   dfl_loss  Instances       Size\n"
          ]
        },
        {
          "metadata": {
            "tags": null
          },
          "name": "stderr",
          "output_type": "stream",
          "text": [
            "     88/250      2.29G     0.8139     0.6643       1.12         18        640: 100%|██████████| 24/24 [00:09<00:00,  2.62it/s]\n",
            "                 Class     Images  Instances      Box(P          R      mAP50  mAP50-95): 100%|██████████| 4/4 [00:02<00:00,  1.59it/s]"
          ]
        },
        {
          "metadata": {
            "tags": null
          },
          "name": "stdout",
          "output_type": "stream",
          "text": [
            "                   all        111        114      0.745      0.723      0.789       0.53\n"
          ]
        },
        {
          "metadata": {
            "tags": null
          },
          "name": "stderr",
          "output_type": "stream",
          "text": [
            "\n"
          ]
        },
        {
          "metadata": {
            "tags": null
          },
          "name": "stdout",
          "output_type": "stream",
          "text": [
            "\n",
            "      Epoch    GPU_mem   box_loss   cls_loss   dfl_loss  Instances       Size\n"
          ]
        },
        {
          "metadata": {
            "tags": null
          },
          "name": "stderr",
          "output_type": "stream",
          "text": [
            "     89/250      2.26G      0.787     0.6534      1.118         15        640: 100%|██████████| 24/24 [00:08<00:00,  2.97it/s]\n",
            "                 Class     Images  Instances      Box(P          R      mAP50  mAP50-95): 100%|██████████| 4/4 [00:02<00:00,  1.43it/s]"
          ]
        },
        {
          "metadata": {
            "tags": null
          },
          "name": "stdout",
          "output_type": "stream",
          "text": [
            "                   all        111        114      0.787      0.753       0.78      0.534\n"
          ]
        },
        {
          "metadata": {
            "tags": null
          },
          "name": "stderr",
          "output_type": "stream",
          "text": [
            "\n"
          ]
        },
        {
          "metadata": {
            "tags": null
          },
          "name": "stdout",
          "output_type": "stream",
          "text": [
            "\n",
            "      Epoch    GPU_mem   box_loss   cls_loss   dfl_loss  Instances       Size\n"
          ]
        },
        {
          "metadata": {
            "tags": null
          },
          "name": "stderr",
          "output_type": "stream",
          "text": [
            "     90/250      2.26G     0.7703     0.6161      1.099         24        640: 100%|██████████| 24/24 [00:08<00:00,  2.99it/s]\n",
            "                 Class     Images  Instances      Box(P          R      mAP50  mAP50-95): 100%|██████████| 4/4 [00:01<00:00,  2.10it/s]"
          ]
        },
        {
          "metadata": {
            "tags": null
          },
          "name": "stdout",
          "output_type": "stream",
          "text": [
            "                   all        111        114      0.618       0.74      0.735       0.49\n"
          ]
        },
        {
          "metadata": {
            "tags": null
          },
          "name": "stderr",
          "output_type": "stream",
          "text": [
            "\n"
          ]
        },
        {
          "metadata": {
            "tags": null
          },
          "name": "stdout",
          "output_type": "stream",
          "text": [
            "\n",
            "      Epoch    GPU_mem   box_loss   cls_loss   dfl_loss  Instances       Size\n"
          ]
        },
        {
          "metadata": {
            "tags": null
          },
          "name": "stderr",
          "output_type": "stream",
          "text": [
            "     91/250      2.26G     0.7545     0.6368      1.111         14        640: 100%|██████████| 24/24 [00:09<00:00,  2.66it/s]\n",
            "                 Class     Images  Instances      Box(P          R      mAP50  mAP50-95): 100%|██████████| 4/4 [00:01<00:00,  2.83it/s]"
          ]
        },
        {
          "metadata": {
            "tags": null
          },
          "name": "stdout",
          "output_type": "stream",
          "text": [
            "                   all        111        114      0.767      0.618      0.718      0.459\n"
          ]
        },
        {
          "metadata": {
            "tags": null
          },
          "name": "stderr",
          "output_type": "stream",
          "text": [
            "\n"
          ]
        },
        {
          "metadata": {
            "tags": null
          },
          "name": "stdout",
          "output_type": "stream",
          "text": [
            "\n",
            "      Epoch    GPU_mem   box_loss   cls_loss   dfl_loss  Instances       Size\n"
          ]
        },
        {
          "metadata": {
            "tags": null
          },
          "name": "stderr",
          "output_type": "stream",
          "text": [
            "     92/250      2.26G     0.7502     0.6264      1.111         12        640: 100%|██████████| 24/24 [00:09<00:00,  2.42it/s]\n",
            "                 Class     Images  Instances      Box(P          R      mAP50  mAP50-95): 100%|██████████| 4/4 [00:01<00:00,  2.20it/s]"
          ]
        },
        {
          "metadata": {
            "tags": null
          },
          "name": "stdout",
          "output_type": "stream",
          "text": [
            "                   all        111        114       0.78      0.754      0.779      0.506\n"
          ]
        },
        {
          "metadata": {
            "tags": null
          },
          "name": "stderr",
          "output_type": "stream",
          "text": [
            "\n"
          ]
        },
        {
          "metadata": {
            "tags": null
          },
          "name": "stdout",
          "output_type": "stream",
          "text": [
            "\n",
            "      Epoch    GPU_mem   box_loss   cls_loss   dfl_loss  Instances       Size\n"
          ]
        },
        {
          "metadata": {
            "tags": null
          },
          "name": "stderr",
          "output_type": "stream",
          "text": [
            "     93/250      2.28G     0.7447     0.6464      1.089         16        640: 100%|██████████| 24/24 [00:10<00:00,  2.38it/s]\n",
            "                 Class     Images  Instances      Box(P          R      mAP50  mAP50-95): 100%|██████████| 4/4 [00:01<00:00,  2.57it/s]"
          ]
        },
        {
          "metadata": {
            "tags": null
          },
          "name": "stdout",
          "output_type": "stream",
          "text": [
            "                   all        111        114      0.714      0.679      0.763      0.527\n"
          ]
        },
        {
          "metadata": {
            "tags": null
          },
          "name": "stderr",
          "output_type": "stream",
          "text": [
            "\n"
          ]
        },
        {
          "metadata": {
            "tags": null
          },
          "name": "stdout",
          "output_type": "stream",
          "text": [
            "\n",
            "      Epoch    GPU_mem   box_loss   cls_loss   dfl_loss  Instances       Size\n"
          ]
        },
        {
          "metadata": {
            "tags": null
          },
          "name": "stderr",
          "output_type": "stream",
          "text": [
            "     94/250      2.26G     0.7578     0.6652       1.11         27        640: 100%|██████████| 24/24 [00:09<00:00,  2.49it/s]\n",
            "                 Class     Images  Instances      Box(P          R      mAP50  mAP50-95): 100%|██████████| 4/4 [00:01<00:00,  2.13it/s]"
          ]
        },
        {
          "metadata": {
            "tags": null
          },
          "name": "stdout",
          "output_type": "stream",
          "text": [
            "                   all        111        114      0.716      0.681      0.736      0.496\n"
          ]
        },
        {
          "metadata": {
            "tags": null
          },
          "name": "stderr",
          "output_type": "stream",
          "text": [
            "\n"
          ]
        },
        {
          "metadata": {
            "tags": null
          },
          "name": "stdout",
          "output_type": "stream",
          "text": [
            "\n",
            "      Epoch    GPU_mem   box_loss   cls_loss   dfl_loss  Instances       Size\n"
          ]
        },
        {
          "metadata": {
            "tags": null
          },
          "name": "stderr",
          "output_type": "stream",
          "text": [
            "     95/250      2.26G     0.7662      0.659      1.127         13        640: 100%|██████████| 24/24 [00:09<00:00,  2.44it/s]\n",
            "                 Class     Images  Instances      Box(P          R      mAP50  mAP50-95): 100%|██████████| 4/4 [00:01<00:00,  2.16it/s]"
          ]
        },
        {
          "metadata": {
            "tags": null
          },
          "name": "stdout",
          "output_type": "stream",
          "text": [
            "                   all        111        114      0.792      0.659      0.716      0.466\n"
          ]
        },
        {
          "metadata": {
            "tags": null
          },
          "name": "stderr",
          "output_type": "stream",
          "text": [
            "\n"
          ]
        },
        {
          "metadata": {
            "tags": null
          },
          "name": "stdout",
          "output_type": "stream",
          "text": [
            "\n",
            "      Epoch    GPU_mem   box_loss   cls_loss   dfl_loss  Instances       Size\n"
          ]
        },
        {
          "metadata": {
            "tags": null
          },
          "name": "stderr",
          "output_type": "stream",
          "text": [
            "     96/250      2.28G     0.7708     0.6502      1.112         16        640: 100%|██████████| 24/24 [00:09<00:00,  2.47it/s]\n",
            "                 Class     Images  Instances      Box(P          R      mAP50  mAP50-95): 100%|██████████| 4/4 [00:01<00:00,  2.36it/s]"
          ]
        },
        {
          "metadata": {
            "tags": null
          },
          "name": "stdout",
          "output_type": "stream",
          "text": [
            "                   all        111        114       0.66      0.622      0.666      0.457\n"
          ]
        },
        {
          "metadata": {
            "tags": null
          },
          "name": "stderr",
          "output_type": "stream",
          "text": [
            "\n"
          ]
        },
        {
          "metadata": {
            "tags": null
          },
          "name": "stdout",
          "output_type": "stream",
          "text": [
            "\n",
            "      Epoch    GPU_mem   box_loss   cls_loss   dfl_loss  Instances       Size\n"
          ]
        },
        {
          "metadata": {
            "tags": null
          },
          "name": "stderr",
          "output_type": "stream",
          "text": [
            "     97/250      2.26G     0.7507      0.598      1.093         23        640: 100%|██████████| 24/24 [00:08<00:00,  2.81it/s]\n",
            "                 Class     Images  Instances      Box(P          R      mAP50  mAP50-95): 100%|██████████| 4/4 [00:02<00:00,  1.62it/s]"
          ]
        },
        {
          "metadata": {
            "tags": null
          },
          "name": "stdout",
          "output_type": "stream",
          "text": [
            "                   all        111        114      0.641      0.703       0.69      0.434\n"
          ]
        },
        {
          "metadata": {
            "tags": null
          },
          "name": "stderr",
          "output_type": "stream",
          "text": [
            "\n"
          ]
        },
        {
          "metadata": {
            "tags": null
          },
          "name": "stdout",
          "output_type": "stream",
          "text": [
            "\n",
            "      Epoch    GPU_mem   box_loss   cls_loss   dfl_loss  Instances       Size\n"
          ]
        },
        {
          "metadata": {
            "tags": null
          },
          "name": "stderr",
          "output_type": "stream",
          "text": [
            "     98/250      2.26G     0.7772     0.6033      1.119         23        640: 100%|██████████| 24/24 [00:08<00:00,  2.94it/s]\n",
            "                 Class     Images  Instances      Box(P          R      mAP50  mAP50-95): 100%|██████████| 4/4 [00:02<00:00,  1.84it/s]"
          ]
        },
        {
          "metadata": {
            "tags": null
          },
          "name": "stdout",
          "output_type": "stream",
          "text": [
            "                   all        111        114      0.739      0.667      0.737      0.499\n"
          ]
        },
        {
          "metadata": {
            "tags": null
          },
          "name": "stderr",
          "output_type": "stream",
          "text": [
            "\n"
          ]
        },
        {
          "metadata": {
            "tags": null
          },
          "name": "stdout",
          "output_type": "stream",
          "text": [
            "\n",
            "      Epoch    GPU_mem   box_loss   cls_loss   dfl_loss  Instances       Size\n"
          ]
        },
        {
          "metadata": {
            "tags": null
          },
          "name": "stderr",
          "output_type": "stream",
          "text": [
            "     99/250      2.26G     0.7671      0.623      1.131         19        640: 100%|██████████| 24/24 [00:08<00:00,  2.79it/s]\n",
            "                 Class     Images  Instances      Box(P          R      mAP50  mAP50-95): 100%|██████████| 4/4 [00:01<00:00,  2.33it/s]"
          ]
        },
        {
          "metadata": {
            "tags": null
          },
          "name": "stdout",
          "output_type": "stream",
          "text": [
            "                   all        111        114      0.825      0.715      0.752      0.507\n"
          ]
        },
        {
          "metadata": {
            "tags": null
          },
          "name": "stderr",
          "output_type": "stream",
          "text": [
            "\n"
          ]
        },
        {
          "metadata": {
            "tags": null
          },
          "name": "stdout",
          "output_type": "stream",
          "text": [
            "\n",
            "      Epoch    GPU_mem   box_loss   cls_loss   dfl_loss  Instances       Size\n"
          ]
        },
        {
          "metadata": {
            "tags": null
          },
          "name": "stderr",
          "output_type": "stream",
          "text": [
            "    100/250      2.28G     0.7887     0.6089      1.114         27        640: 100%|██████████| 24/24 [00:09<00:00,  2.49it/s]\n",
            "                 Class     Images  Instances      Box(P          R      mAP50  mAP50-95): 100%|██████████| 4/4 [00:01<00:00,  2.50it/s]"
          ]
        },
        {
          "metadata": {
            "tags": null
          },
          "name": "stdout",
          "output_type": "stream",
          "text": [
            "                   all        111        114      0.706      0.762      0.786      0.536\n"
          ]
        },
        {
          "metadata": {
            "tags": null
          },
          "name": "stderr",
          "output_type": "stream",
          "text": [
            "\n"
          ]
        },
        {
          "metadata": {
            "tags": null
          },
          "name": "stdout",
          "output_type": "stream",
          "text": [
            "\n",
            "      Epoch    GPU_mem   box_loss   cls_loss   dfl_loss  Instances       Size\n"
          ]
        },
        {
          "metadata": {
            "tags": null
          },
          "name": "stderr",
          "output_type": "stream",
          "text": [
            "    101/250      2.26G     0.7751       0.64      1.105         20        640: 100%|██████████| 24/24 [00:09<00:00,  2.45it/s]\n",
            "                 Class     Images  Instances      Box(P          R      mAP50  mAP50-95): 100%|██████████| 4/4 [00:01<00:00,  2.66it/s]"
          ]
        },
        {
          "metadata": {
            "tags": null
          },
          "name": "stdout",
          "output_type": "stream",
          "text": [
            "                   all        111        114      0.803      0.715      0.789      0.557\n"
          ]
        },
        {
          "metadata": {
            "tags": null
          },
          "name": "stderr",
          "output_type": "stream",
          "text": [
            "\n"
          ]
        },
        {
          "metadata": {
            "tags": null
          },
          "name": "stdout",
          "output_type": "stream",
          "text": [
            "\n",
            "      Epoch    GPU_mem   box_loss   cls_loss   dfl_loss  Instances       Size\n"
          ]
        },
        {
          "metadata": {
            "tags": null
          },
          "name": "stderr",
          "output_type": "stream",
          "text": [
            "    102/250      2.28G     0.7582     0.6319      1.099         21        640: 100%|██████████| 24/24 [00:09<00:00,  2.47it/s]\n",
            "                 Class     Images  Instances      Box(P          R      mAP50  mAP50-95): 100%|██████████| 4/4 [00:01<00:00,  2.51it/s]"
          ]
        },
        {
          "metadata": {
            "tags": null
          },
          "name": "stdout",
          "output_type": "stream",
          "text": [
            "                   all        111        114      0.748      0.739      0.744      0.499\n"
          ]
        },
        {
          "metadata": {
            "tags": null
          },
          "name": "stderr",
          "output_type": "stream",
          "text": [
            "\n"
          ]
        },
        {
          "metadata": {
            "tags": null
          },
          "name": "stdout",
          "output_type": "stream",
          "text": [
            "\n",
            "      Epoch    GPU_mem   box_loss   cls_loss   dfl_loss  Instances       Size\n"
          ]
        },
        {
          "metadata": {
            "tags": null
          },
          "name": "stderr",
          "output_type": "stream",
          "text": [
            "    103/250      2.26G     0.7146     0.6101      1.082         20        640: 100%|██████████| 24/24 [00:09<00:00,  2.42it/s]\n",
            "                 Class     Images  Instances      Box(P          R      mAP50  mAP50-95): 100%|██████████| 4/4 [00:01<00:00,  2.45it/s]"
          ]
        },
        {
          "metadata": {
            "tags": null
          },
          "name": "stdout",
          "output_type": "stream",
          "text": [
            "                   all        111        114      0.822      0.569      0.747      0.503\n"
          ]
        },
        {
          "metadata": {
            "tags": null
          },
          "name": "stderr",
          "output_type": "stream",
          "text": [
            "\n"
          ]
        },
        {
          "metadata": {
            "tags": null
          },
          "name": "stdout",
          "output_type": "stream",
          "text": [
            "\n",
            "      Epoch    GPU_mem   box_loss   cls_loss   dfl_loss  Instances       Size\n"
          ]
        },
        {
          "metadata": {
            "tags": null
          },
          "name": "stderr",
          "output_type": "stream",
          "text": [
            "    104/250      2.26G     0.7479     0.6078       1.09         13        640: 100%|██████████| 24/24 [00:09<00:00,  2.51it/s]\n",
            "                 Class     Images  Instances      Box(P          R      mAP50  mAP50-95): 100%|██████████| 4/4 [00:01<00:00,  2.13it/s]"
          ]
        },
        {
          "metadata": {
            "tags": null
          },
          "name": "stdout",
          "output_type": "stream",
          "text": [
            "                   all        111        114      0.809      0.612      0.684      0.456\n"
          ]
        },
        {
          "metadata": {
            "tags": null
          },
          "name": "stderr",
          "output_type": "stream",
          "text": [
            "\n"
          ]
        },
        {
          "metadata": {
            "tags": null
          },
          "name": "stdout",
          "output_type": "stream",
          "text": [
            "\n",
            "      Epoch    GPU_mem   box_loss   cls_loss   dfl_loss  Instances       Size\n"
          ]
        },
        {
          "metadata": {
            "tags": null
          },
          "name": "stderr",
          "output_type": "stream",
          "text": [
            "    105/250      2.26G     0.7254     0.6166      1.088         16        640: 100%|██████████| 24/24 [00:08<00:00,  2.93it/s]\n",
            "                 Class     Images  Instances      Box(P          R      mAP50  mAP50-95): 100%|██████████| 4/4 [00:02<00:00,  1.53it/s]"
          ]
        },
        {
          "metadata": {
            "tags": null
          },
          "name": "stdout",
          "output_type": "stream",
          "text": [
            "                   all        111        114      0.715      0.689      0.758      0.497\n"
          ]
        },
        {
          "metadata": {
            "tags": null
          },
          "name": "stderr",
          "output_type": "stream",
          "text": [
            "\n"
          ]
        },
        {
          "metadata": {
            "tags": null
          },
          "name": "stdout",
          "output_type": "stream",
          "text": [
            "\n",
            "      Epoch    GPU_mem   box_loss   cls_loss   dfl_loss  Instances       Size\n"
          ]
        },
        {
          "metadata": {
            "tags": null
          },
          "name": "stderr",
          "output_type": "stream",
          "text": [
            "    106/250      2.26G     0.7299     0.6109      1.094         16        640: 100%|██████████| 24/24 [00:08<00:00,  2.96it/s]\n",
            "                 Class     Images  Instances      Box(P          R      mAP50  mAP50-95): 100%|██████████| 4/4 [00:02<00:00,  1.88it/s]"
          ]
        },
        {
          "metadata": {
            "tags": null
          },
          "name": "stdout",
          "output_type": "stream",
          "text": [
            "                   all        111        114      0.775      0.717      0.773      0.532\n"
          ]
        },
        {
          "metadata": {
            "tags": null
          },
          "name": "stderr",
          "output_type": "stream",
          "text": [
            "\n"
          ]
        },
        {
          "metadata": {
            "tags": null
          },
          "name": "stdout",
          "output_type": "stream",
          "text": [
            "\n",
            "      Epoch    GPU_mem   box_loss   cls_loss   dfl_loss  Instances       Size\n"
          ]
        },
        {
          "metadata": {
            "tags": null
          },
          "name": "stderr",
          "output_type": "stream",
          "text": [
            "    107/250      2.26G      0.715     0.5811      1.075         17        640: 100%|██████████| 24/24 [00:08<00:00,  2.67it/s]\n",
            "                 Class     Images  Instances      Box(P          R      mAP50  mAP50-95): 100%|██████████| 4/4 [00:01<00:00,  2.73it/s]"
          ]
        },
        {
          "metadata": {
            "tags": null
          },
          "name": "stdout",
          "output_type": "stream",
          "text": [
            "                   all        111        114      0.753      0.649      0.738      0.516\n"
          ]
        },
        {
          "metadata": {
            "tags": null
          },
          "name": "stderr",
          "output_type": "stream",
          "text": [
            "\n"
          ]
        },
        {
          "metadata": {
            "tags": null
          },
          "name": "stdout",
          "output_type": "stream",
          "text": [
            "\n",
            "      Epoch    GPU_mem   box_loss   cls_loss   dfl_loss  Instances       Size\n"
          ]
        },
        {
          "metadata": {
            "tags": null
          },
          "name": "stderr",
          "output_type": "stream",
          "text": [
            "    108/250      2.28G     0.7229     0.5671      1.082         14        640: 100%|██████████| 24/24 [00:10<00:00,  2.35it/s]\n",
            "                 Class     Images  Instances      Box(P          R      mAP50  mAP50-95): 100%|██████████| 4/4 [00:01<00:00,  2.29it/s]"
          ]
        },
        {
          "metadata": {
            "tags": null
          },
          "name": "stdout",
          "output_type": "stream",
          "text": [
            "                   all        111        114      0.756      0.681      0.712      0.498\n"
          ]
        },
        {
          "metadata": {
            "tags": null
          },
          "name": "stderr",
          "output_type": "stream",
          "text": [
            "\n"
          ]
        },
        {
          "metadata": {
            "tags": null
          },
          "name": "stdout",
          "output_type": "stream",
          "text": [
            "\n",
            "      Epoch    GPU_mem   box_loss   cls_loss   dfl_loss  Instances       Size\n"
          ]
        },
        {
          "metadata": {
            "tags": null
          },
          "name": "stderr",
          "output_type": "stream",
          "text": [
            "    109/250      2.17G     0.7442       0.58      1.086         22        640: 100%|██████████| 24/24 [00:10<00:00,  2.38it/s]\n",
            "                 Class     Images  Instances      Box(P          R      mAP50  mAP50-95): 100%|██████████| 4/4 [00:01<00:00,  2.70it/s]"
          ]
        },
        {
          "metadata": {
            "tags": null
          },
          "name": "stdout",
          "output_type": "stream",
          "text": [
            "                   all        111        114      0.763      0.647      0.708      0.481\n"
          ]
        },
        {
          "metadata": {
            "tags": null
          },
          "name": "stderr",
          "output_type": "stream",
          "text": [
            "\n"
          ]
        },
        {
          "metadata": {
            "tags": null
          },
          "name": "stdout",
          "output_type": "stream",
          "text": [
            "\n",
            "      Epoch    GPU_mem   box_loss   cls_loss   dfl_loss  Instances       Size\n"
          ]
        },
        {
          "metadata": {
            "tags": null
          },
          "name": "stderr",
          "output_type": "stream",
          "text": [
            "    110/250      2.28G     0.7189     0.5545      1.059         26        640: 100%|██████████| 24/24 [00:09<00:00,  2.50it/s]\n",
            "                 Class     Images  Instances      Box(P          R      mAP50  mAP50-95): 100%|██████████| 4/4 [00:01<00:00,  2.01it/s]"
          ]
        },
        {
          "metadata": {
            "tags": null
          },
          "name": "stdout",
          "output_type": "stream",
          "text": [
            "                   all        111        114      0.768      0.654        0.7      0.462\n"
          ]
        },
        {
          "metadata": {
            "tags": null
          },
          "name": "stderr",
          "output_type": "stream",
          "text": [
            "\n"
          ]
        },
        {
          "metadata": {
            "tags": null
          },
          "name": "stdout",
          "output_type": "stream",
          "text": [
            "\n",
            "      Epoch    GPU_mem   box_loss   cls_loss   dfl_loss  Instances       Size\n"
          ]
        },
        {
          "metadata": {
            "tags": null
          },
          "name": "stderr",
          "output_type": "stream",
          "text": [
            "    111/250      2.26G     0.7101     0.5545       1.07         21        640: 100%|██████████| 24/24 [00:10<00:00,  2.35it/s]\n",
            "                 Class     Images  Instances      Box(P          R      mAP50  mAP50-95): 100%|██████████| 4/4 [00:01<00:00,  2.95it/s]\n"
          ]
        },
        {
          "metadata": {
            "tags": null
          },
          "name": "stdout",
          "output_type": "stream",
          "text": [
            "                   all        111        114      0.791      0.732      0.789      0.529\n",
            "\n",
            "      Epoch    GPU_mem   box_loss   cls_loss   dfl_loss  Instances       Size\n"
          ]
        },
        {
          "metadata": {
            "tags": null
          },
          "name": "stderr",
          "output_type": "stream",
          "text": [
            "    112/250      2.26G     0.6953     0.5526      1.089         17        640: 100%|██████████| 24/24 [00:09<00:00,  2.40it/s]\n",
            "                 Class     Images  Instances      Box(P          R      mAP50  mAP50-95): 100%|██████████| 4/4 [00:01<00:00,  2.56it/s]"
          ]
        },
        {
          "metadata": {
            "tags": null
          },
          "name": "stdout",
          "output_type": "stream",
          "text": [
            "                   all        111        114      0.762      0.711      0.767      0.514\n"
          ]
        },
        {
          "metadata": {
            "tags": null
          },
          "name": "stderr",
          "output_type": "stream",
          "text": [
            "\n"
          ]
        },
        {
          "metadata": {
            "tags": null
          },
          "name": "stdout",
          "output_type": "stream",
          "text": [
            "\n",
            "      Epoch    GPU_mem   box_loss   cls_loss   dfl_loss  Instances       Size\n"
          ]
        },
        {
          "metadata": {
            "tags": null
          },
          "name": "stderr",
          "output_type": "stream",
          "text": [
            "    113/250      2.26G     0.7348     0.5796      1.084         20        640: 100%|██████████| 24/24 [00:09<00:00,  2.60it/s]\n",
            "                 Class     Images  Instances      Box(P          R      mAP50  mAP50-95): 100%|██████████| 4/4 [00:02<00:00,  1.81it/s]"
          ]
        },
        {
          "metadata": {
            "tags": null
          },
          "name": "stdout",
          "output_type": "stream",
          "text": [
            "                   all        111        114      0.718      0.641      0.692      0.435\n"
          ]
        },
        {
          "metadata": {
            "tags": null
          },
          "name": "stderr",
          "output_type": "stream",
          "text": [
            "\n"
          ]
        },
        {
          "metadata": {
            "tags": null
          },
          "name": "stdout",
          "output_type": "stream",
          "text": [
            "\n",
            "      Epoch    GPU_mem   box_loss   cls_loss   dfl_loss  Instances       Size\n"
          ]
        },
        {
          "metadata": {
            "tags": null
          },
          "name": "stderr",
          "output_type": "stream",
          "text": [
            "    114/250      2.26G     0.7205     0.5755      1.076         12        640: 100%|██████████| 24/24 [00:08<00:00,  2.82it/s]\n",
            "                 Class     Images  Instances      Box(P          R      mAP50  mAP50-95): 100%|██████████| 4/4 [00:02<00:00,  1.78it/s]"
          ]
        },
        {
          "metadata": {
            "tags": null
          },
          "name": "stdout",
          "output_type": "stream",
          "text": [
            "                   all        111        114      0.723      0.683      0.679      0.436\n"
          ]
        },
        {
          "metadata": {
            "tags": null
          },
          "name": "stderr",
          "output_type": "stream",
          "text": [
            "\n"
          ]
        },
        {
          "metadata": {
            "tags": null
          },
          "name": "stdout",
          "output_type": "stream",
          "text": [
            "\n",
            "      Epoch    GPU_mem   box_loss   cls_loss   dfl_loss  Instances       Size\n"
          ]
        },
        {
          "metadata": {
            "tags": null
          },
          "name": "stderr",
          "output_type": "stream",
          "text": [
            "    115/250      2.31G     0.7154     0.5657      1.072         26        640: 100%|██████████| 24/24 [00:08<00:00,  2.90it/s]\n",
            "                 Class     Images  Instances      Box(P          R      mAP50  mAP50-95): 100%|██████████| 4/4 [00:01<00:00,  2.05it/s]"
          ]
        },
        {
          "metadata": {
            "tags": null
          },
          "name": "stdout",
          "output_type": "stream",
          "text": [
            "                   all        111        114      0.762      0.718        0.7      0.474\n"
          ]
        },
        {
          "metadata": {
            "tags": null
          },
          "name": "stderr",
          "output_type": "stream",
          "text": [
            "\n"
          ]
        },
        {
          "metadata": {
            "tags": null
          },
          "name": "stdout",
          "output_type": "stream",
          "text": [
            "\n",
            "      Epoch    GPU_mem   box_loss   cls_loss   dfl_loss  Instances       Size\n"
          ]
        },
        {
          "metadata": {
            "tags": null
          },
          "name": "stderr",
          "output_type": "stream",
          "text": [
            "    116/250      2.26G     0.6895     0.5606      1.064         16        640: 100%|██████████| 24/24 [00:09<00:00,  2.42it/s]\n",
            "                 Class     Images  Instances      Box(P          R      mAP50  mAP50-95): 100%|██████████| 4/4 [00:01<00:00,  2.88it/s]"
          ]
        },
        {
          "metadata": {
            "tags": null
          },
          "name": "stdout",
          "output_type": "stream",
          "text": [
            "                   all        111        114      0.797      0.776      0.818      0.568\n"
          ]
        },
        {
          "metadata": {
            "tags": null
          },
          "name": "stderr",
          "output_type": "stream",
          "text": [
            "\n"
          ]
        },
        {
          "metadata": {
            "tags": null
          },
          "name": "stdout",
          "output_type": "stream",
          "text": [
            "\n",
            "      Epoch    GPU_mem   box_loss   cls_loss   dfl_loss  Instances       Size\n"
          ]
        },
        {
          "metadata": {
            "tags": null
          },
          "name": "stderr",
          "output_type": "stream",
          "text": [
            "    117/250      2.26G     0.6603     0.5261      1.053         15        640: 100%|██████████| 24/24 [00:09<00:00,  2.41it/s]\n",
            "                 Class     Images  Instances      Box(P          R      mAP50  mAP50-95): 100%|██████████| 4/4 [00:01<00:00,  2.55it/s]"
          ]
        },
        {
          "metadata": {
            "tags": null
          },
          "name": "stdout",
          "output_type": "stream",
          "text": [
            "                   all        111        114      0.776      0.766      0.761      0.509\n"
          ]
        },
        {
          "metadata": {
            "tags": null
          },
          "name": "stderr",
          "output_type": "stream",
          "text": [
            "\n"
          ]
        },
        {
          "metadata": {
            "tags": null
          },
          "name": "stdout",
          "output_type": "stream",
          "text": [
            "\n",
            "      Epoch    GPU_mem   box_loss   cls_loss   dfl_loss  Instances       Size\n"
          ]
        },
        {
          "metadata": {
            "tags": null
          },
          "name": "stderr",
          "output_type": "stream",
          "text": [
            "    118/250      2.28G     0.6848     0.5405      1.055         15        640: 100%|██████████| 24/24 [00:10<00:00,  2.37it/s]\n",
            "                 Class     Images  Instances      Box(P          R      mAP50  mAP50-95): 100%|██████████| 4/4 [00:01<00:00,  2.69it/s]\n"
          ]
        },
        {
          "metadata": {
            "tags": null
          },
          "name": "stdout",
          "output_type": "stream",
          "text": [
            "                   all        111        114      0.819      0.671      0.755      0.515\n",
            "\n",
            "      Epoch    GPU_mem   box_loss   cls_loss   dfl_loss  Instances       Size\n"
          ]
        },
        {
          "metadata": {
            "tags": null
          },
          "name": "stderr",
          "output_type": "stream",
          "text": [
            "    119/250      2.28G     0.7009     0.5513      1.065         15        640: 100%|██████████| 24/24 [00:10<00:00,  2.38it/s]\n",
            "                 Class     Images  Instances      Box(P          R      mAP50  mAP50-95): 100%|██████████| 4/4 [00:01<00:00,  2.68it/s]\n"
          ]
        },
        {
          "metadata": {
            "tags": null
          },
          "name": "stdout",
          "output_type": "stream",
          "text": [
            "                   all        111        114      0.834      0.751      0.813      0.557\n",
            "\n",
            "      Epoch    GPU_mem   box_loss   cls_loss   dfl_loss  Instances       Size\n"
          ]
        },
        {
          "metadata": {
            "tags": null
          },
          "name": "stderr",
          "output_type": "stream",
          "text": [
            "    120/250      2.28G     0.6924     0.5711      1.061          8        640: 100%|██████████| 24/24 [00:10<00:00,  2.39it/s]\n",
            "                 Class     Images  Instances      Box(P          R      mAP50  mAP50-95): 100%|██████████| 4/4 [00:01<00:00,  2.23it/s]"
          ]
        },
        {
          "metadata": {
            "tags": null
          },
          "name": "stdout",
          "output_type": "stream",
          "text": [
            "                   all        111        114      0.723      0.716      0.757      0.524\n"
          ]
        },
        {
          "metadata": {
            "tags": null
          },
          "name": "stderr",
          "output_type": "stream",
          "text": [
            "\n"
          ]
        },
        {
          "metadata": {
            "tags": null
          },
          "name": "stdout",
          "output_type": "stream",
          "text": [
            "\n",
            "      Epoch    GPU_mem   box_loss   cls_loss   dfl_loss  Instances       Size\n"
          ]
        },
        {
          "metadata": {
            "tags": null
          },
          "name": "stderr",
          "output_type": "stream",
          "text": [
            "    121/250      2.28G     0.6833     0.5481      1.065         25        640: 100%|██████████| 24/24 [00:10<00:00,  2.36it/s]\n",
            "                 Class     Images  Instances      Box(P          R      mAP50  mAP50-95): 100%|██████████| 4/4 [00:01<00:00,  2.49it/s]"
          ]
        },
        {
          "metadata": {
            "tags": null
          },
          "name": "stdout",
          "output_type": "stream",
          "text": [
            "                   all        111        114      0.861       0.55      0.707       0.45\n"
          ]
        },
        {
          "metadata": {
            "tags": null
          },
          "name": "stderr",
          "output_type": "stream",
          "text": [
            "\n"
          ]
        },
        {
          "metadata": {
            "tags": null
          },
          "name": "stdout",
          "output_type": "stream",
          "text": [
            "\n",
            "      Epoch    GPU_mem   box_loss   cls_loss   dfl_loss  Instances       Size\n"
          ]
        },
        {
          "metadata": {
            "tags": null
          },
          "name": "stderr",
          "output_type": "stream",
          "text": [
            "    122/250      2.26G     0.6781     0.5509      1.054         19        640: 100%|██████████| 24/24 [00:08<00:00,  2.94it/s]\n",
            "                 Class     Images  Instances      Box(P          R      mAP50  mAP50-95): 100%|██████████| 4/4 [00:03<00:00,  1.28it/s]"
          ]
        },
        {
          "metadata": {
            "tags": null
          },
          "name": "stdout",
          "output_type": "stream",
          "text": [
            "                   all        111        114      0.763      0.625      0.702      0.479\n"
          ]
        },
        {
          "metadata": {
            "tags": null
          },
          "name": "stderr",
          "output_type": "stream",
          "text": [
            "\n"
          ]
        },
        {
          "metadata": {
            "tags": null
          },
          "name": "stdout",
          "output_type": "stream",
          "text": [
            "\n",
            "      Epoch    GPU_mem   box_loss   cls_loss   dfl_loss  Instances       Size\n"
          ]
        },
        {
          "metadata": {
            "tags": null
          },
          "name": "stderr",
          "output_type": "stream",
          "text": [
            "    123/250      2.26G     0.6712      0.539      1.054         14        640: 100%|██████████| 24/24 [00:08<00:00,  2.82it/s]\n",
            "                 Class     Images  Instances      Box(P          R      mAP50  mAP50-95): 100%|██████████| 4/4 [00:02<00:00,  1.89it/s]"
          ]
        },
        {
          "metadata": {
            "tags": null
          },
          "name": "stdout",
          "output_type": "stream",
          "text": [
            "                   all        111        114      0.746      0.642      0.735      0.503\n"
          ]
        },
        {
          "metadata": {
            "tags": null
          },
          "name": "stderr",
          "output_type": "stream",
          "text": [
            "\n"
          ]
        },
        {
          "metadata": {
            "tags": null
          },
          "name": "stdout",
          "output_type": "stream",
          "text": [
            "\n",
            "      Epoch    GPU_mem   box_loss   cls_loss   dfl_loss  Instances       Size\n"
          ]
        },
        {
          "metadata": {
            "tags": null
          },
          "name": "stderr",
          "output_type": "stream",
          "text": [
            "    124/250      2.28G     0.6896     0.5537      1.083         17        640: 100%|██████████| 24/24 [00:08<00:00,  2.83it/s]\n",
            "                 Class     Images  Instances      Box(P          R      mAP50  mAP50-95): 100%|██████████| 4/4 [00:01<00:00,  2.53it/s]"
          ]
        },
        {
          "metadata": {
            "tags": null
          },
          "name": "stdout",
          "output_type": "stream",
          "text": [
            "                   all        111        114      0.741      0.651      0.747      0.511\n"
          ]
        },
        {
          "metadata": {
            "tags": null
          },
          "name": "stderr",
          "output_type": "stream",
          "text": [
            "\n"
          ]
        },
        {
          "metadata": {
            "tags": null
          },
          "name": "stdout",
          "output_type": "stream",
          "text": [
            "\n",
            "      Epoch    GPU_mem   box_loss   cls_loss   dfl_loss  Instances       Size\n"
          ]
        },
        {
          "metadata": {
            "tags": null
          },
          "name": "stderr",
          "output_type": "stream",
          "text": [
            "    125/250      2.26G     0.7118      0.556       1.07         16        640: 100%|██████████| 24/24 [00:09<00:00,  2.61it/s]\n",
            "                 Class     Images  Instances      Box(P          R      mAP50  mAP50-95): 100%|██████████| 4/4 [00:01<00:00,  2.05it/s]"
          ]
        },
        {
          "metadata": {
            "tags": null
          },
          "name": "stdout",
          "output_type": "stream",
          "text": [
            "                   all        111        114      0.675      0.664      0.703      0.475\n"
          ]
        },
        {
          "metadata": {
            "tags": null
          },
          "name": "stderr",
          "output_type": "stream",
          "text": [
            "\n"
          ]
        },
        {
          "metadata": {
            "tags": null
          },
          "name": "stdout",
          "output_type": "stream",
          "text": [
            "\n",
            "      Epoch    GPU_mem   box_loss   cls_loss   dfl_loss  Instances       Size\n"
          ]
        },
        {
          "metadata": {
            "tags": null
          },
          "name": "stderr",
          "output_type": "stream",
          "text": [
            "    126/250      2.28G     0.6692      0.539       1.07         15        640: 100%|██████████| 24/24 [00:10<00:00,  2.38it/s]\n",
            "                 Class     Images  Instances      Box(P          R      mAP50  mAP50-95): 100%|██████████| 4/4 [00:01<00:00,  2.50it/s]"
          ]
        },
        {
          "metadata": {
            "tags": null
          },
          "name": "stdout",
          "output_type": "stream",
          "text": [
            "                   all        111        114      0.804      0.562      0.642      0.453\n"
          ]
        },
        {
          "metadata": {
            "tags": null
          },
          "name": "stderr",
          "output_type": "stream",
          "text": [
            "\n"
          ]
        },
        {
          "metadata": {
            "tags": null
          },
          "name": "stdout",
          "output_type": "stream",
          "text": [
            "\n",
            "      Epoch    GPU_mem   box_loss   cls_loss   dfl_loss  Instances       Size\n"
          ]
        },
        {
          "metadata": {
            "tags": null
          },
          "name": "stderr",
          "output_type": "stream",
          "text": [
            "    127/250      2.29G      0.645     0.5284      1.055         17        640: 100%|██████████| 24/24 [00:10<00:00,  2.35it/s]\n",
            "                 Class     Images  Instances      Box(P          R      mAP50  mAP50-95): 100%|██████████| 4/4 [00:01<00:00,  2.47it/s]"
          ]
        },
        {
          "metadata": {
            "tags": null
          },
          "name": "stdout",
          "output_type": "stream",
          "text": [
            "                   all        111        114      0.677      0.681      0.683      0.487\n"
          ]
        },
        {
          "metadata": {
            "tags": null
          },
          "name": "stderr",
          "output_type": "stream",
          "text": [
            "\n"
          ]
        },
        {
          "metadata": {
            "tags": null
          },
          "name": "stdout",
          "output_type": "stream",
          "text": [
            "\n",
            "      Epoch    GPU_mem   box_loss   cls_loss   dfl_loss  Instances       Size\n"
          ]
        },
        {
          "metadata": {
            "tags": null
          },
          "name": "stderr",
          "output_type": "stream",
          "text": [
            "    128/250      2.28G     0.6717     0.5433       1.05         18        640: 100%|██████████| 24/24 [00:09<00:00,  2.42it/s]\n",
            "                 Class     Images  Instances      Box(P          R      mAP50  mAP50-95): 100%|██████████| 4/4 [00:01<00:00,  2.48it/s]"
          ]
        },
        {
          "metadata": {
            "tags": null
          },
          "name": "stdout",
          "output_type": "stream",
          "text": [
            "                   all        111        114      0.801      0.741      0.738      0.522\n"
          ]
        },
        {
          "metadata": {
            "tags": null
          },
          "name": "stderr",
          "output_type": "stream",
          "text": [
            "\n"
          ]
        },
        {
          "metadata": {
            "tags": null
          },
          "name": "stdout",
          "output_type": "stream",
          "text": [
            "\n",
            "      Epoch    GPU_mem   box_loss   cls_loss   dfl_loss  Instances       Size\n"
          ]
        },
        {
          "metadata": {
            "tags": null
          },
          "name": "stderr",
          "output_type": "stream",
          "text": [
            "    129/250      2.26G     0.6745     0.5214       1.06         19        640: 100%|██████████| 24/24 [00:09<00:00,  2.45it/s]\n",
            "                 Class     Images  Instances      Box(P          R      mAP50  mAP50-95): 100%|██████████| 4/4 [00:01<00:00,  2.44it/s]"
          ]
        },
        {
          "metadata": {
            "tags": null
          },
          "name": "stdout",
          "output_type": "stream",
          "text": [
            "                   all        111        114      0.644      0.643      0.721      0.491\n"
          ]
        },
        {
          "metadata": {
            "tags": null
          },
          "name": "stderr",
          "output_type": "stream",
          "text": [
            "\n"
          ]
        },
        {
          "metadata": {
            "tags": null
          },
          "name": "stdout",
          "output_type": "stream",
          "text": [
            "\n",
            "      Epoch    GPU_mem   box_loss   cls_loss   dfl_loss  Instances       Size\n"
          ]
        },
        {
          "metadata": {
            "tags": null
          },
          "name": "stderr",
          "output_type": "stream",
          "text": [
            "    130/250      2.28G     0.6587     0.5294      1.043         19        640: 100%|██████████| 24/24 [00:09<00:00,  2.53it/s]\n",
            "                 Class     Images  Instances      Box(P          R      mAP50  mAP50-95): 100%|██████████| 4/4 [00:02<00:00,  1.74it/s]"
          ]
        },
        {
          "metadata": {
            "tags": null
          },
          "name": "stdout",
          "output_type": "stream",
          "text": [
            "                   all        111        114      0.798      0.606      0.714      0.515\n"
          ]
        },
        {
          "metadata": {
            "tags": null
          },
          "name": "stderr",
          "output_type": "stream",
          "text": [
            "\n"
          ]
        },
        {
          "metadata": {
            "tags": null
          },
          "name": "stdout",
          "output_type": "stream",
          "text": [
            "\n",
            "      Epoch    GPU_mem   box_loss   cls_loss   dfl_loss  Instances       Size\n"
          ]
        },
        {
          "metadata": {
            "tags": null
          },
          "name": "stderr",
          "output_type": "stream",
          "text": [
            "    131/250      2.26G     0.6879     0.5437      1.061         18        640: 100%|██████████| 24/24 [00:08<00:00,  2.81it/s]\n",
            "                 Class     Images  Instances      Box(P          R      mAP50  mAP50-95): 100%|██████████| 4/4 [00:02<00:00,  1.48it/s]"
          ]
        },
        {
          "metadata": {
            "tags": null
          },
          "name": "stdout",
          "output_type": "stream",
          "text": [
            "                   all        111        114      0.743       0.59      0.721      0.514\n"
          ]
        },
        {
          "metadata": {
            "tags": null
          },
          "name": "stderr",
          "output_type": "stream",
          "text": [
            "\n"
          ]
        },
        {
          "metadata": {
            "tags": null
          },
          "name": "stdout",
          "output_type": "stream",
          "text": [
            "\n",
            "      Epoch    GPU_mem   box_loss   cls_loss   dfl_loss  Instances       Size\n"
          ]
        },
        {
          "metadata": {
            "tags": null
          },
          "name": "stderr",
          "output_type": "stream",
          "text": [
            "    132/250      2.28G     0.6509     0.5156      1.041         19        640: 100%|██████████| 24/24 [00:08<00:00,  2.89it/s]\n",
            "                 Class     Images  Instances      Box(P          R      mAP50  mAP50-95): 100%|██████████| 4/4 [00:02<00:00,  1.84it/s]"
          ]
        },
        {
          "metadata": {
            "tags": null
          },
          "name": "stdout",
          "output_type": "stream",
          "text": [
            "                   all        111        114      0.727      0.615      0.756      0.532\n"
          ]
        },
        {
          "metadata": {
            "tags": null
          },
          "name": "stderr",
          "output_type": "stream",
          "text": [
            "\n"
          ]
        },
        {
          "metadata": {
            "tags": null
          },
          "name": "stdout",
          "output_type": "stream",
          "text": [
            "\n",
            "      Epoch    GPU_mem   box_loss   cls_loss   dfl_loss  Instances       Size\n"
          ]
        },
        {
          "metadata": {
            "tags": null
          },
          "name": "stderr",
          "output_type": "stream",
          "text": [
            "    133/250      2.26G     0.6441     0.5021      1.038         21        640: 100%|██████████| 24/24 [00:08<00:00,  2.79it/s]\n",
            "                 Class     Images  Instances      Box(P          R      mAP50  mAP50-95): 100%|██████████| 4/4 [00:01<00:00,  2.46it/s]"
          ]
        },
        {
          "metadata": {
            "tags": null
          },
          "name": "stdout",
          "output_type": "stream",
          "text": [
            "                   all        111        114      0.719      0.724      0.758      0.513\n"
          ]
        },
        {
          "metadata": {
            "tags": null
          },
          "name": "stderr",
          "output_type": "stream",
          "text": [
            "\n"
          ]
        },
        {
          "metadata": {
            "tags": null
          },
          "name": "stdout",
          "output_type": "stream",
          "text": [
            "\n",
            "      Epoch    GPU_mem   box_loss   cls_loss   dfl_loss  Instances       Size\n"
          ]
        },
        {
          "metadata": {
            "tags": null
          },
          "name": "stderr",
          "output_type": "stream",
          "text": [
            "    134/250      2.28G     0.6589     0.5231       1.04         15        640: 100%|██████████| 24/24 [00:09<00:00,  2.45it/s]\n",
            "                 Class     Images  Instances      Box(P          R      mAP50  mAP50-95): 100%|██████████| 4/4 [00:01<00:00,  2.40it/s]"
          ]
        },
        {
          "metadata": {
            "tags": null
          },
          "name": "stdout",
          "output_type": "stream",
          "text": [
            "                   all        111        114      0.806      0.621      0.723      0.486\n"
          ]
        },
        {
          "metadata": {
            "tags": null
          },
          "name": "stderr",
          "output_type": "stream",
          "text": [
            "\n"
          ]
        },
        {
          "metadata": {
            "tags": null
          },
          "name": "stdout",
          "output_type": "stream",
          "text": [
            "\n",
            "      Epoch    GPU_mem   box_loss   cls_loss   dfl_loss  Instances       Size\n"
          ]
        },
        {
          "metadata": {
            "tags": null
          },
          "name": "stderr",
          "output_type": "stream",
          "text": [
            "    135/250      2.26G     0.6427     0.5138      1.068         12        640: 100%|██████████| 24/24 [00:10<00:00,  2.36it/s]\n",
            "                 Class     Images  Instances      Box(P          R      mAP50  mAP50-95): 100%|██████████| 4/4 [00:01<00:00,  2.60it/s]"
          ]
        },
        {
          "metadata": {
            "tags": null
          },
          "name": "stdout",
          "output_type": "stream",
          "text": [
            "                   all        111        114      0.791      0.641       0.75      0.521\n"
          ]
        },
        {
          "metadata": {
            "tags": null
          },
          "name": "stderr",
          "output_type": "stream",
          "text": [
            "\n"
          ]
        },
        {
          "metadata": {
            "tags": null
          },
          "name": "stdout",
          "output_type": "stream",
          "text": [
            "\n",
            "      Epoch    GPU_mem   box_loss   cls_loss   dfl_loss  Instances       Size\n"
          ]
        },
        {
          "metadata": {
            "tags": null
          },
          "name": "stderr",
          "output_type": "stream",
          "text": [
            "    136/250      2.29G     0.6427     0.5102      1.046         19        640: 100%|██████████| 24/24 [00:10<00:00,  2.40it/s]\n",
            "                 Class     Images  Instances      Box(P          R      mAP50  mAP50-95): 100%|██████████| 4/4 [00:01<00:00,  2.60it/s]"
          ]
        },
        {
          "metadata": {
            "tags": null
          },
          "name": "stdout",
          "output_type": "stream",
          "text": [
            "                   all        111        114      0.835      0.627      0.772      0.513\n"
          ]
        },
        {
          "metadata": {
            "tags": null
          },
          "name": "stderr",
          "output_type": "stream",
          "text": [
            "\n"
          ]
        },
        {
          "metadata": {
            "tags": null
          },
          "name": "stdout",
          "output_type": "stream",
          "text": [
            "\n",
            "      Epoch    GPU_mem   box_loss   cls_loss   dfl_loss  Instances       Size\n"
          ]
        },
        {
          "metadata": {
            "tags": null
          },
          "name": "stderr",
          "output_type": "stream",
          "text": [
            "    137/250      2.26G      0.658     0.5316      1.052         26        640: 100%|██████████| 24/24 [00:09<00:00,  2.50it/s]\n",
            "                 Class     Images  Instances      Box(P          R      mAP50  mAP50-95): 100%|██████████| 4/4 [00:01<00:00,  2.23it/s]"
          ]
        },
        {
          "metadata": {
            "tags": null
          },
          "name": "stdout",
          "output_type": "stream",
          "text": [
            "                   all        111        114      0.796       0.72      0.786      0.552\n"
          ]
        },
        {
          "metadata": {
            "tags": null
          },
          "name": "stderr",
          "output_type": "stream",
          "text": [
            "\n"
          ]
        },
        {
          "metadata": {
            "tags": null
          },
          "name": "stdout",
          "output_type": "stream",
          "text": [
            "\n",
            "      Epoch    GPU_mem   box_loss   cls_loss   dfl_loss  Instances       Size\n"
          ]
        },
        {
          "metadata": {
            "tags": null
          },
          "name": "stderr",
          "output_type": "stream",
          "text": [
            "    138/250      2.26G     0.6708     0.5042      1.057         21        640: 100%|██████████| 24/24 [00:10<00:00,  2.35it/s]\n",
            "                 Class     Images  Instances      Box(P          R      mAP50  mAP50-95): 100%|██████████| 4/4 [00:01<00:00,  2.61it/s]"
          ]
        },
        {
          "metadata": {
            "tags": null
          },
          "name": "stdout",
          "output_type": "stream",
          "text": [
            "                   all        111        114      0.697      0.739      0.789      0.544\n"
          ]
        },
        {
          "metadata": {
            "tags": null
          },
          "name": "stderr",
          "output_type": "stream",
          "text": [
            "\n"
          ]
        },
        {
          "metadata": {
            "tags": null
          },
          "name": "stdout",
          "output_type": "stream",
          "text": [
            "\n",
            "      Epoch    GPU_mem   box_loss   cls_loss   dfl_loss  Instances       Size\n"
          ]
        },
        {
          "metadata": {
            "tags": null
          },
          "name": "stderr",
          "output_type": "stream",
          "text": [
            "    139/250      2.26G     0.6493     0.5221      1.041         30        640: 100%|██████████| 24/24 [00:09<00:00,  2.57it/s]\n",
            "                 Class     Images  Instances      Box(P          R      mAP50  mAP50-95): 100%|██████████| 4/4 [00:02<00:00,  1.69it/s]"
          ]
        },
        {
          "metadata": {
            "tags": null
          },
          "name": "stdout",
          "output_type": "stream",
          "text": [
            "                   all        111        114       0.81      0.763      0.798      0.549\n"
          ]
        },
        {
          "metadata": {
            "tags": null
          },
          "name": "stderr",
          "output_type": "stream",
          "text": [
            "\n"
          ]
        },
        {
          "metadata": {
            "tags": null
          },
          "name": "stdout",
          "output_type": "stream",
          "text": [
            "\n",
            "      Epoch    GPU_mem   box_loss   cls_loss   dfl_loss  Instances       Size\n"
          ]
        },
        {
          "metadata": {
            "tags": null
          },
          "name": "stderr",
          "output_type": "stream",
          "text": [
            "    140/250      2.26G     0.6484     0.5147      1.061         15        640: 100%|██████████| 24/24 [00:08<00:00,  2.87it/s]\n",
            "                 Class     Images  Instances      Box(P          R      mAP50  mAP50-95): 100%|██████████| 4/4 [00:02<00:00,  1.69it/s]"
          ]
        },
        {
          "metadata": {
            "tags": null
          },
          "name": "stdout",
          "output_type": "stream",
          "text": [
            "                   all        111        114      0.832      0.781      0.796      0.559\n"
          ]
        },
        {
          "metadata": {
            "tags": null
          },
          "name": "stderr",
          "output_type": "stream",
          "text": [
            "\n"
          ]
        },
        {
          "metadata": {
            "tags": null
          },
          "name": "stdout",
          "output_type": "stream",
          "text": [
            "\n",
            "      Epoch    GPU_mem   box_loss   cls_loss   dfl_loss  Instances       Size\n"
          ]
        },
        {
          "metadata": {
            "tags": null
          },
          "name": "stderr",
          "output_type": "stream",
          "text": [
            "    141/250      2.28G       0.64     0.5059      1.045         19        640: 100%|██████████| 24/24 [00:08<00:00,  2.83it/s]\n",
            "                 Class     Images  Instances      Box(P          R      mAP50  mAP50-95): 100%|██████████| 4/4 [00:01<00:00,  2.32it/s]"
          ]
        },
        {
          "metadata": {
            "tags": null
          },
          "name": "stdout",
          "output_type": "stream",
          "text": [
            "                   all        111        114      0.834      0.731      0.794      0.543\n"
          ]
        },
        {
          "metadata": {
            "tags": null
          },
          "name": "stderr",
          "output_type": "stream",
          "text": [
            "\n"
          ]
        },
        {
          "metadata": {
            "tags": null
          },
          "name": "stdout",
          "output_type": "stream",
          "text": [
            "\n",
            "      Epoch    GPU_mem   box_loss   cls_loss   dfl_loss  Instances       Size\n"
          ]
        },
        {
          "metadata": {
            "tags": null
          },
          "name": "stderr",
          "output_type": "stream",
          "text": [
            "    142/250      2.26G     0.6523      0.507      1.064         13        640: 100%|██████████| 24/24 [00:09<00:00,  2.65it/s]\n",
            "                 Class     Images  Instances      Box(P          R      mAP50  mAP50-95): 100%|██████████| 4/4 [00:01<00:00,  2.27it/s]"
          ]
        },
        {
          "metadata": {
            "tags": null
          },
          "name": "stdout",
          "output_type": "stream",
          "text": [
            "                   all        111        114      0.681      0.796      0.799      0.524\n"
          ]
        },
        {
          "metadata": {
            "tags": null
          },
          "name": "stderr",
          "output_type": "stream",
          "text": [
            "\n"
          ]
        },
        {
          "metadata": {
            "tags": null
          },
          "name": "stdout",
          "output_type": "stream",
          "text": [
            "\n",
            "      Epoch    GPU_mem   box_loss   cls_loss   dfl_loss  Instances       Size\n"
          ]
        },
        {
          "metadata": {
            "tags": null
          },
          "name": "stderr",
          "output_type": "stream",
          "text": [
            "    143/250      2.31G     0.6462     0.4847       1.04         26        640: 100%|██████████| 24/24 [00:09<00:00,  2.47it/s]\n",
            "                 Class     Images  Instances      Box(P          R      mAP50  mAP50-95): 100%|██████████| 4/4 [00:01<00:00,  2.41it/s]"
          ]
        },
        {
          "metadata": {
            "tags": null
          },
          "name": "stdout",
          "output_type": "stream",
          "text": [
            "                   all        111        114      0.791      0.775      0.813      0.553\n"
          ]
        },
        {
          "metadata": {
            "tags": null
          },
          "name": "stderr",
          "output_type": "stream",
          "text": [
            "\n"
          ]
        },
        {
          "metadata": {
            "tags": null
          },
          "name": "stdout",
          "output_type": "stream",
          "text": [
            "\n",
            "      Epoch    GPU_mem   box_loss   cls_loss   dfl_loss  Instances       Size\n"
          ]
        },
        {
          "metadata": {
            "tags": null
          },
          "name": "stderr",
          "output_type": "stream",
          "text": [
            "    144/250      2.26G     0.6068     0.4738      1.027         19        640: 100%|██████████| 24/24 [00:10<00:00,  2.38it/s]\n",
            "                 Class     Images  Instances      Box(P          R      mAP50  mAP50-95): 100%|██████████| 4/4 [00:01<00:00,  2.30it/s]"
          ]
        },
        {
          "metadata": {
            "tags": null
          },
          "name": "stdout",
          "output_type": "stream",
          "text": [
            "                   all        111        114      0.833      0.709      0.804      0.535\n"
          ]
        },
        {
          "metadata": {
            "tags": null
          },
          "name": "stderr",
          "output_type": "stream",
          "text": [
            "\n"
          ]
        },
        {
          "metadata": {
            "tags": null
          },
          "name": "stdout",
          "output_type": "stream",
          "text": [
            "\n",
            "      Epoch    GPU_mem   box_loss   cls_loss   dfl_loss  Instances       Size\n"
          ]
        },
        {
          "metadata": {
            "tags": null
          },
          "name": "stderr",
          "output_type": "stream",
          "text": [
            "    145/250      2.28G     0.6164     0.4723      1.034         15        640: 100%|██████████| 24/24 [00:09<00:00,  2.42it/s]\n",
            "                 Class     Images  Instances      Box(P          R      mAP50  mAP50-95): 100%|██████████| 4/4 [00:01<00:00,  2.48it/s]"
          ]
        },
        {
          "metadata": {
            "tags": null
          },
          "name": "stdout",
          "output_type": "stream",
          "text": [
            "                   all        111        114       0.75      0.764      0.808       0.55\n"
          ]
        },
        {
          "metadata": {
            "tags": null
          },
          "name": "stderr",
          "output_type": "stream",
          "text": [
            "\n"
          ]
        },
        {
          "metadata": {
            "tags": null
          },
          "name": "stdout",
          "output_type": "stream",
          "text": [
            "\n",
            "      Epoch    GPU_mem   box_loss   cls_loss   dfl_loss  Instances       Size\n"
          ]
        },
        {
          "metadata": {
            "tags": null
          },
          "name": "stderr",
          "output_type": "stream",
          "text": [
            "    146/250      2.26G     0.6394     0.4848      1.047         20        640: 100%|██████████| 24/24 [00:09<00:00,  2.40it/s]\n",
            "                 Class     Images  Instances      Box(P          R      mAP50  mAP50-95): 100%|██████████| 4/4 [00:02<00:00,  1.90it/s]"
          ]
        },
        {
          "metadata": {
            "tags": null
          },
          "name": "stdout",
          "output_type": "stream",
          "text": [
            "                   all        111        114      0.664      0.781      0.779      0.533\n"
          ]
        },
        {
          "metadata": {
            "tags": null
          },
          "name": "stderr",
          "output_type": "stream",
          "text": [
            "\n"
          ]
        },
        {
          "metadata": {
            "tags": null
          },
          "name": "stdout",
          "output_type": "stream",
          "text": [
            "\n",
            "      Epoch    GPU_mem   box_loss   cls_loss   dfl_loss  Instances       Size\n"
          ]
        },
        {
          "metadata": {
            "tags": null
          },
          "name": "stderr",
          "output_type": "stream",
          "text": [
            "    147/250      2.28G     0.6456     0.5121      1.035         15        640: 100%|██████████| 24/24 [00:09<00:00,  2.47it/s]\n",
            "                 Class     Images  Instances      Box(P          R      mAP50  mAP50-95): 100%|██████████| 4/4 [00:01<00:00,  2.29it/s]"
          ]
        },
        {
          "metadata": {
            "tags": null
          },
          "name": "stdout",
          "output_type": "stream",
          "text": [
            "                   all        111        114       0.82      0.662      0.765      0.541\n"
          ]
        },
        {
          "metadata": {
            "tags": null
          },
          "name": "stderr",
          "output_type": "stream",
          "text": [
            "\n"
          ]
        },
        {
          "metadata": {
            "tags": null
          },
          "name": "stdout",
          "output_type": "stream",
          "text": [
            "\n",
            "      Epoch    GPU_mem   box_loss   cls_loss   dfl_loss  Instances       Size\n"
          ]
        },
        {
          "metadata": {
            "tags": null
          },
          "name": "stderr",
          "output_type": "stream",
          "text": [
            "    148/250      2.26G     0.6108     0.4926      1.022         13        640: 100%|██████████| 24/24 [00:08<00:00,  2.71it/s]\n",
            "                 Class     Images  Instances      Box(P          R      mAP50  mAP50-95): 100%|██████████| 4/4 [00:02<00:00,  1.44it/s]"
          ]
        },
        {
          "metadata": {
            "tags": null
          },
          "name": "stdout",
          "output_type": "stream",
          "text": [
            "                   all        111        114      0.742      0.656      0.728      0.508\n"
          ]
        },
        {
          "metadata": {
            "tags": null
          },
          "name": "stderr",
          "output_type": "stream",
          "text": [
            "\n"
          ]
        },
        {
          "metadata": {
            "tags": null
          },
          "name": "stdout",
          "output_type": "stream",
          "text": [
            "\n",
            "      Epoch    GPU_mem   box_loss   cls_loss   dfl_loss  Instances       Size\n"
          ]
        },
        {
          "metadata": {
            "tags": null
          },
          "name": "stderr",
          "output_type": "stream",
          "text": [
            "    149/250      2.26G     0.6104     0.4788      1.023         17        640: 100%|██████████| 24/24 [00:08<00:00,  2.87it/s]\n",
            "                 Class     Images  Instances      Box(P          R      mAP50  mAP50-95): 100%|██████████| 4/4 [00:02<00:00,  1.58it/s]"
          ]
        },
        {
          "metadata": {
            "tags": null
          },
          "name": "stdout",
          "output_type": "stream",
          "text": [
            "                   all        111        114      0.704      0.637      0.697      0.474\n"
          ]
        },
        {
          "metadata": {
            "tags": null
          },
          "name": "stderr",
          "output_type": "stream",
          "text": [
            "\n"
          ]
        },
        {
          "metadata": {
            "tags": null
          },
          "name": "stdout",
          "output_type": "stream",
          "text": [
            "\n",
            "      Epoch    GPU_mem   box_loss   cls_loss   dfl_loss  Instances       Size\n"
          ]
        },
        {
          "metadata": {
            "tags": null
          },
          "name": "stderr",
          "output_type": "stream",
          "text": [
            "    150/250      2.26G     0.6191     0.4702      1.038         16        640: 100%|██████████| 24/24 [00:08<00:00,  2.87it/s]\n",
            "                 Class     Images  Instances      Box(P          R      mAP50  mAP50-95): 100%|██████████| 4/4 [00:02<00:00,  1.90it/s]"
          ]
        },
        {
          "metadata": {
            "tags": null
          },
          "name": "stdout",
          "output_type": "stream",
          "text": [
            "                   all        111        114      0.796      0.721      0.785      0.543\n"
          ]
        },
        {
          "metadata": {
            "tags": null
          },
          "name": "stderr",
          "output_type": "stream",
          "text": [
            "\n"
          ]
        },
        {
          "metadata": {
            "tags": null
          },
          "name": "stdout",
          "output_type": "stream",
          "text": [
            "\n",
            "      Epoch    GPU_mem   box_loss   cls_loss   dfl_loss  Instances       Size\n"
          ]
        },
        {
          "metadata": {
            "tags": null
          },
          "name": "stderr",
          "output_type": "stream",
          "text": [
            "    151/250      2.26G     0.6104      0.479      1.027         13        640: 100%|██████████| 24/24 [00:09<00:00,  2.61it/s]\n",
            "                 Class     Images  Instances      Box(P          R      mAP50  mAP50-95): 100%|██████████| 4/4 [00:01<00:00,  2.30it/s]"
          ]
        },
        {
          "metadata": {
            "tags": null
          },
          "name": "stdout",
          "output_type": "stream",
          "text": [
            "                   all        111        114      0.795      0.717      0.821      0.576\n"
          ]
        },
        {
          "metadata": {
            "tags": null
          },
          "name": "stderr",
          "output_type": "stream",
          "text": [
            "\n"
          ]
        },
        {
          "metadata": {
            "tags": null
          },
          "name": "stdout",
          "output_type": "stream",
          "text": [
            "\n",
            "      Epoch    GPU_mem   box_loss   cls_loss   dfl_loss  Instances       Size\n"
          ]
        },
        {
          "metadata": {
            "tags": null
          },
          "name": "stderr",
          "output_type": "stream",
          "text": [
            "    152/250      2.28G     0.6028     0.4819      1.028         13        640: 100%|██████████| 24/24 [00:09<00:00,  2.44it/s]\n",
            "                 Class     Images  Instances      Box(P          R      mAP50  mAP50-95): 100%|██████████| 4/4 [00:01<00:00,  2.19it/s]"
          ]
        },
        {
          "metadata": {
            "tags": null
          },
          "name": "stdout",
          "output_type": "stream",
          "text": [
            "                   all        111        114      0.871      0.683      0.804      0.567\n"
          ]
        },
        {
          "metadata": {
            "tags": null
          },
          "name": "stderr",
          "output_type": "stream",
          "text": [
            "\n"
          ]
        },
        {
          "metadata": {
            "tags": null
          },
          "name": "stdout",
          "output_type": "stream",
          "text": [
            "\n",
            "      Epoch    GPU_mem   box_loss   cls_loss   dfl_loss  Instances       Size\n"
          ]
        },
        {
          "metadata": {
            "tags": null
          },
          "name": "stderr",
          "output_type": "stream",
          "text": [
            "    153/250      2.26G     0.6093     0.4822       1.03         27        640: 100%|██████████| 24/24 [00:09<00:00,  2.42it/s]\n",
            "                 Class     Images  Instances      Box(P          R      mAP50  mAP50-95): 100%|██████████| 4/4 [00:01<00:00,  2.35it/s]"
          ]
        },
        {
          "metadata": {
            "tags": null
          },
          "name": "stdout",
          "output_type": "stream",
          "text": [
            "                   all        111        114      0.811      0.714      0.804      0.565\n"
          ]
        },
        {
          "metadata": {
            "tags": null
          },
          "name": "stderr",
          "output_type": "stream",
          "text": [
            "\n"
          ]
        },
        {
          "metadata": {
            "tags": null
          },
          "name": "stdout",
          "output_type": "stream",
          "text": [
            "\n",
            "      Epoch    GPU_mem   box_loss   cls_loss   dfl_loss  Instances       Size\n"
          ]
        },
        {
          "metadata": {
            "tags": null
          },
          "name": "stderr",
          "output_type": "stream",
          "text": [
            "    154/250      2.26G     0.5954     0.4753      1.006         21        640: 100%|██████████| 24/24 [00:09<00:00,  2.42it/s]\n",
            "                 Class     Images  Instances      Box(P          R      mAP50  mAP50-95): 100%|██████████| 4/4 [00:01<00:00,  2.09it/s]"
          ]
        },
        {
          "metadata": {
            "tags": null
          },
          "name": "stdout",
          "output_type": "stream",
          "text": [
            "                   all        111        114      0.677       0.73       0.77      0.517\n"
          ]
        },
        {
          "metadata": {
            "tags": null
          },
          "name": "stderr",
          "output_type": "stream",
          "text": [
            "\n"
          ]
        },
        {
          "metadata": {
            "tags": null
          },
          "name": "stdout",
          "output_type": "stream",
          "text": [
            "\n",
            "      Epoch    GPU_mem   box_loss   cls_loss   dfl_loss  Instances       Size\n"
          ]
        },
        {
          "metadata": {
            "tags": null
          },
          "name": "stderr",
          "output_type": "stream",
          "text": [
            "    155/250      2.28G     0.6091     0.4726      1.019         16        640: 100%|██████████| 24/24 [00:09<00:00,  2.44it/s]\n",
            "                 Class     Images  Instances      Box(P          R      mAP50  mAP50-95): 100%|██████████| 4/4 [00:01<00:00,  2.50it/s]"
          ]
        },
        {
          "metadata": {
            "tags": null
          },
          "name": "stdout",
          "output_type": "stream",
          "text": [
            "                   all        111        114      0.774      0.659      0.751      0.487\n"
          ]
        },
        {
          "metadata": {
            "tags": null
          },
          "name": "stderr",
          "output_type": "stream",
          "text": [
            "\n"
          ]
        },
        {
          "metadata": {
            "tags": null
          },
          "name": "stdout",
          "output_type": "stream",
          "text": [
            "\n",
            "      Epoch    GPU_mem   box_loss   cls_loss   dfl_loss  Instances       Size\n"
          ]
        },
        {
          "metadata": {
            "tags": null
          },
          "name": "stderr",
          "output_type": "stream",
          "text": [
            "    156/250      2.26G      0.605     0.4513      1.017         20        640: 100%|██████████| 24/24 [00:09<00:00,  2.57it/s]\n",
            "                 Class     Images  Instances      Box(P          R      mAP50  mAP50-95): 100%|██████████| 4/4 [00:02<00:00,  1.63it/s]"
          ]
        },
        {
          "metadata": {
            "tags": null
          },
          "name": "stdout",
          "output_type": "stream",
          "text": [
            "                   all        111        114      0.757      0.598      0.712      0.459\n"
          ]
        },
        {
          "metadata": {
            "tags": null
          },
          "name": "stderr",
          "output_type": "stream",
          "text": [
            "\n"
          ]
        },
        {
          "metadata": {
            "tags": null
          },
          "name": "stdout",
          "output_type": "stream",
          "text": [
            "\n",
            "      Epoch    GPU_mem   box_loss   cls_loss   dfl_loss  Instances       Size\n"
          ]
        },
        {
          "metadata": {
            "tags": null
          },
          "name": "stderr",
          "output_type": "stream",
          "text": [
            "    157/250      2.26G     0.5888     0.4498      1.005         21        640: 100%|██████████| 24/24 [00:08<00:00,  2.86it/s]\n",
            "                 Class     Images  Instances      Box(P          R      mAP50  mAP50-95): 100%|██████████| 4/4 [00:02<00:00,  1.37it/s]"
          ]
        },
        {
          "metadata": {
            "tags": null
          },
          "name": "stdout",
          "output_type": "stream",
          "text": [
            "                   all        111        114       0.82      0.637      0.734      0.487\n"
          ]
        },
        {
          "metadata": {
            "tags": null
          },
          "name": "stderr",
          "output_type": "stream",
          "text": [
            "\n"
          ]
        },
        {
          "metadata": {
            "tags": null
          },
          "name": "stdout",
          "output_type": "stream",
          "text": [
            "\n",
            "      Epoch    GPU_mem   box_loss   cls_loss   dfl_loss  Instances       Size\n"
          ]
        },
        {
          "metadata": {
            "tags": null
          },
          "name": "stderr",
          "output_type": "stream",
          "text": [
            "    158/250      2.26G     0.5995     0.4552      1.014         22        640: 100%|██████████| 24/24 [00:08<00:00,  2.87it/s]\n",
            "                 Class     Images  Instances      Box(P          R      mAP50  mAP50-95): 100%|██████████| 4/4 [00:01<00:00,  2.33it/s]"
          ]
        },
        {
          "metadata": {
            "tags": null
          },
          "name": "stdout",
          "output_type": "stream",
          "text": [
            "                   all        111        114       0.74      0.739      0.765      0.516\n"
          ]
        },
        {
          "metadata": {
            "tags": null
          },
          "name": "stderr",
          "output_type": "stream",
          "text": [
            "\n"
          ]
        },
        {
          "metadata": {
            "tags": null
          },
          "name": "stdout",
          "output_type": "stream",
          "text": [
            "\n",
            "      Epoch    GPU_mem   box_loss   cls_loss   dfl_loss  Instances       Size\n"
          ]
        },
        {
          "metadata": {
            "tags": null
          },
          "name": "stderr",
          "output_type": "stream",
          "text": [
            "    159/250      2.26G     0.5885     0.4517      1.019         24        640: 100%|██████████| 24/24 [00:09<00:00,  2.65it/s]\n",
            "                 Class     Images  Instances      Box(P          R      mAP50  mAP50-95): 100%|██████████| 4/4 [00:01<00:00,  2.61it/s]"
          ]
        },
        {
          "metadata": {
            "tags": null
          },
          "name": "stdout",
          "output_type": "stream",
          "text": [
            "                   all        111        114      0.755      0.724      0.774      0.537\n"
          ]
        },
        {
          "metadata": {
            "tags": null
          },
          "name": "stderr",
          "output_type": "stream",
          "text": [
            "\n"
          ]
        },
        {
          "metadata": {
            "tags": null
          },
          "name": "stdout",
          "output_type": "stream",
          "text": [
            "\n",
            "      Epoch    GPU_mem   box_loss   cls_loss   dfl_loss  Instances       Size\n"
          ]
        },
        {
          "metadata": {
            "tags": null
          },
          "name": "stderr",
          "output_type": "stream",
          "text": [
            "    160/250      2.29G     0.5955     0.4567      1.035         14        640: 100%|██████████| 24/24 [00:09<00:00,  2.45it/s]\n",
            "                 Class     Images  Instances      Box(P          R      mAP50  mAP50-95): 100%|██████████| 4/4 [00:01<00:00,  2.61it/s]"
          ]
        },
        {
          "metadata": {
            "tags": null
          },
          "name": "stdout",
          "output_type": "stream",
          "text": [
            "                   all        111        114      0.722      0.763      0.778      0.519\n"
          ]
        },
        {
          "metadata": {
            "tags": null
          },
          "name": "stderr",
          "output_type": "stream",
          "text": [
            "\n"
          ]
        },
        {
          "metadata": {
            "tags": null
          },
          "name": "stdout",
          "output_type": "stream",
          "text": [
            "\n",
            "      Epoch    GPU_mem   box_loss   cls_loss   dfl_loss  Instances       Size\n"
          ]
        },
        {
          "metadata": {
            "tags": null
          },
          "name": "stderr",
          "output_type": "stream",
          "text": [
            "    161/250      2.26G     0.5897      0.441      1.029         15        640: 100%|██████████| 24/24 [00:09<00:00,  2.41it/s]\n",
            "                 Class     Images  Instances      Box(P          R      mAP50  mAP50-95): 100%|██████████| 4/4 [00:02<00:00,  1.88it/s]"
          ]
        },
        {
          "metadata": {
            "tags": null
          },
          "name": "stdout",
          "output_type": "stream",
          "text": [
            "                   all        111        114      0.645      0.811      0.801      0.535\n"
          ]
        },
        {
          "metadata": {
            "tags": null
          },
          "name": "stderr",
          "output_type": "stream",
          "text": [
            "\n"
          ]
        },
        {
          "metadata": {
            "tags": null
          },
          "name": "stdout",
          "output_type": "stream",
          "text": [
            "\n",
            "      Epoch    GPU_mem   box_loss   cls_loss   dfl_loss  Instances       Size\n"
          ]
        },
        {
          "metadata": {
            "tags": null
          },
          "name": "stderr",
          "output_type": "stream",
          "text": [
            "    162/250      2.26G     0.5883     0.4552       1.01         12        640: 100%|██████████| 24/24 [00:10<00:00,  2.38it/s]\n",
            "                 Class     Images  Instances      Box(P          R      mAP50  mAP50-95): 100%|██████████| 4/4 [00:01<00:00,  2.13it/s]"
          ]
        },
        {
          "metadata": {
            "tags": null
          },
          "name": "stdout",
          "output_type": "stream",
          "text": [
            "                   all        111        114      0.904      0.637      0.806      0.539\n"
          ]
        },
        {
          "metadata": {
            "tags": null
          },
          "name": "stderr",
          "output_type": "stream",
          "text": [
            "\n"
          ]
        },
        {
          "metadata": {
            "tags": null
          },
          "name": "stdout",
          "output_type": "stream",
          "text": [
            "\n",
            "      Epoch    GPU_mem   box_loss   cls_loss   dfl_loss  Instances       Size\n"
          ]
        },
        {
          "metadata": {
            "tags": null
          },
          "name": "stderr",
          "output_type": "stream",
          "text": [
            "    163/250      2.26G     0.5772     0.4509       1.02         14        640: 100%|██████████| 24/24 [00:09<00:00,  2.43it/s]\n",
            "                 Class     Images  Instances      Box(P          R      mAP50  mAP50-95): 100%|██████████| 4/4 [00:01<00:00,  2.09it/s]"
          ]
        },
        {
          "metadata": {
            "tags": null
          },
          "name": "stdout",
          "output_type": "stream",
          "text": [
            "                   all        111        114      0.829      0.729      0.807      0.534\n"
          ]
        },
        {
          "metadata": {
            "tags": null
          },
          "name": "stderr",
          "output_type": "stream",
          "text": [
            "\n"
          ]
        },
        {
          "metadata": {
            "tags": null
          },
          "name": "stdout",
          "output_type": "stream",
          "text": [
            "\n",
            "      Epoch    GPU_mem   box_loss   cls_loss   dfl_loss  Instances       Size\n"
          ]
        },
        {
          "metadata": {
            "tags": null
          },
          "name": "stderr",
          "output_type": "stream",
          "text": [
            "    164/250      2.26G     0.5829     0.4553      1.018         21        640: 100%|██████████| 24/24 [00:10<00:00,  2.40it/s]\n",
            "                 Class     Images  Instances      Box(P          R      mAP50  mAP50-95): 100%|██████████| 4/4 [00:01<00:00,  2.34it/s]"
          ]
        },
        {
          "metadata": {
            "tags": null
          },
          "name": "stdout",
          "output_type": "stream",
          "text": [
            "                   all        111        114      0.741      0.728      0.799      0.536\n"
          ]
        },
        {
          "metadata": {
            "tags": null
          },
          "name": "stderr",
          "output_type": "stream",
          "text": [
            "\n"
          ]
        },
        {
          "metadata": {
            "tags": null
          },
          "name": "stdout",
          "output_type": "stream",
          "text": [
            "\n",
            "      Epoch    GPU_mem   box_loss   cls_loss   dfl_loss  Instances       Size\n"
          ]
        },
        {
          "metadata": {
            "tags": null
          },
          "name": "stderr",
          "output_type": "stream",
          "text": [
            "    165/250      2.26G     0.5915     0.4415      1.023         18        640: 100%|██████████| 24/24 [00:09<00:00,  2.52it/s]\n",
            "                 Class     Images  Instances      Box(P          R      mAP50  mAP50-95): 100%|██████████| 4/4 [00:02<00:00,  1.95it/s]"
          ]
        },
        {
          "metadata": {
            "tags": null
          },
          "name": "stdout",
          "output_type": "stream",
          "text": [
            "                   all        111        114       0.69      0.674      0.775      0.522\n"
          ]
        },
        {
          "metadata": {
            "tags": null
          },
          "name": "stderr",
          "output_type": "stream",
          "text": [
            "\n"
          ]
        },
        {
          "metadata": {
            "tags": null
          },
          "name": "stdout",
          "output_type": "stream",
          "text": [
            "\n",
            "      Epoch    GPU_mem   box_loss   cls_loss   dfl_loss  Instances       Size\n"
          ]
        },
        {
          "metadata": {
            "tags": null
          },
          "name": "stderr",
          "output_type": "stream",
          "text": [
            "    166/250      2.28G      0.594     0.4547      1.019         16        640: 100%|██████████| 24/24 [00:09<00:00,  2.55it/s]\n",
            "                 Class     Images  Instances      Box(P          R      mAP50  mAP50-95): 100%|██████████| 4/4 [00:02<00:00,  1.51it/s]"
          ]
        },
        {
          "metadata": {
            "tags": null
          },
          "name": "stdout",
          "output_type": "stream",
          "text": [
            "                   all        111        114      0.704       0.74      0.787      0.556\n"
          ]
        },
        {
          "metadata": {
            "tags": null
          },
          "name": "stderr",
          "output_type": "stream",
          "text": [
            "\n"
          ]
        },
        {
          "metadata": {
            "tags": null
          },
          "name": "stdout",
          "output_type": "stream",
          "text": [
            "\n",
            "      Epoch    GPU_mem   box_loss   cls_loss   dfl_loss  Instances       Size\n"
          ]
        },
        {
          "metadata": {
            "tags": null
          },
          "name": "stderr",
          "output_type": "stream",
          "text": [
            "    167/250      2.26G     0.5596     0.4439      1.004          8        640: 100%|██████████| 24/24 [00:08<00:00,  2.81it/s]\n",
            "                 Class     Images  Instances      Box(P          R      mAP50  mAP50-95): 100%|██████████| 4/4 [00:02<00:00,  1.57it/s]"
          ]
        },
        {
          "metadata": {
            "tags": null
          },
          "name": "stdout",
          "output_type": "stream",
          "text": [
            "                   all        111        114       0.76       0.74      0.798      0.526\n"
          ]
        },
        {
          "metadata": {
            "tags": null
          },
          "name": "stderr",
          "output_type": "stream",
          "text": [
            "\n"
          ]
        },
        {
          "metadata": {
            "tags": null
          },
          "name": "stdout",
          "output_type": "stream",
          "text": [
            "\n",
            "      Epoch    GPU_mem   box_loss   cls_loss   dfl_loss  Instances       Size\n"
          ]
        },
        {
          "metadata": {
            "tags": null
          },
          "name": "stderr",
          "output_type": "stream",
          "text": [
            "    168/250      2.26G     0.5683     0.4385      1.004         16        640: 100%|██████████| 24/24 [00:08<00:00,  2.76it/s]\n",
            "                 Class     Images  Instances      Box(P          R      mAP50  mAP50-95): 100%|██████████| 4/4 [00:01<00:00,  2.81it/s]"
          ]
        },
        {
          "metadata": {
            "tags": null
          },
          "name": "stdout",
          "output_type": "stream",
          "text": [
            "                   all        111        114      0.727      0.718      0.799      0.546\n"
          ]
        },
        {
          "metadata": {
            "tags": null
          },
          "name": "stderr",
          "output_type": "stream",
          "text": [
            "\n"
          ]
        },
        {
          "metadata": {
            "tags": null
          },
          "name": "stdout",
          "output_type": "stream",
          "text": [
            "\n",
            "      Epoch    GPU_mem   box_loss   cls_loss   dfl_loss  Instances       Size\n"
          ]
        },
        {
          "metadata": {
            "tags": null
          },
          "name": "stderr",
          "output_type": "stream",
          "text": [
            "    169/250      2.29G     0.5668     0.4137      1.007         18        640: 100%|██████████| 24/24 [00:09<00:00,  2.47it/s]\n",
            "                 Class     Images  Instances      Box(P          R      mAP50  mAP50-95): 100%|██████████| 4/4 [00:01<00:00,  2.42it/s]"
          ]
        },
        {
          "metadata": {
            "tags": null
          },
          "name": "stdout",
          "output_type": "stream",
          "text": [
            "                   all        111        114      0.781      0.678      0.738      0.479\n"
          ]
        },
        {
          "metadata": {
            "tags": null
          },
          "name": "stderr",
          "output_type": "stream",
          "text": [
            "\n"
          ]
        },
        {
          "metadata": {
            "tags": null
          },
          "name": "stdout",
          "output_type": "stream",
          "text": [
            "\n",
            "      Epoch    GPU_mem   box_loss   cls_loss   dfl_loss  Instances       Size\n"
          ]
        },
        {
          "metadata": {
            "tags": null
          },
          "name": "stderr",
          "output_type": "stream",
          "text": [
            "    170/250      2.26G     0.5931     0.4579       1.03         19        640: 100%|██████████| 24/24 [00:09<00:00,  2.48it/s]\n",
            "                 Class     Images  Instances      Box(P          R      mAP50  mAP50-95): 100%|██████████| 4/4 [00:01<00:00,  2.30it/s]"
          ]
        },
        {
          "metadata": {
            "tags": null
          },
          "name": "stdout",
          "output_type": "stream",
          "text": [
            "                   all        111        114      0.745       0.72      0.723      0.494\n"
          ]
        },
        {
          "metadata": {
            "tags": null
          },
          "name": "stderr",
          "output_type": "stream",
          "text": [
            "\n"
          ]
        },
        {
          "metadata": {
            "tags": null
          },
          "name": "stdout",
          "output_type": "stream",
          "text": [
            "\n",
            "      Epoch    GPU_mem   box_loss   cls_loss   dfl_loss  Instances       Size\n"
          ]
        },
        {
          "metadata": {
            "tags": null
          },
          "name": "stderr",
          "output_type": "stream",
          "text": [
            "    171/250      2.26G     0.5676     0.4389      1.014         12        640: 100%|██████████| 24/24 [00:10<00:00,  2.38it/s]\n",
            "                 Class     Images  Instances      Box(P          R      mAP50  mAP50-95): 100%|██████████| 4/4 [00:01<00:00,  2.37it/s]"
          ]
        },
        {
          "metadata": {
            "tags": null
          },
          "name": "stdout",
          "output_type": "stream",
          "text": [
            "                   all        111        114      0.813      0.698      0.757      0.515\n"
          ]
        },
        {
          "metadata": {
            "tags": null
          },
          "name": "stderr",
          "output_type": "stream",
          "text": [
            "\n"
          ]
        },
        {
          "metadata": {
            "tags": null
          },
          "name": "stdout",
          "output_type": "stream",
          "text": [
            "\n",
            "      Epoch    GPU_mem   box_loss   cls_loss   dfl_loss  Instances       Size\n"
          ]
        },
        {
          "metadata": {
            "tags": null
          },
          "name": "stderr",
          "output_type": "stream",
          "text": [
            "    172/250      2.31G     0.5738     0.4623      1.009         28        640: 100%|██████████| 24/24 [00:10<00:00,  2.38it/s]\n",
            "                 Class     Images  Instances      Box(P          R      mAP50  mAP50-95): 100%|██████████| 4/4 [00:01<00:00,  2.38it/s]\n"
          ]
        },
        {
          "metadata": {
            "tags": null
          },
          "name": "stdout",
          "output_type": "stream",
          "text": [
            "                   all        111        114      0.769      0.721      0.784      0.536\n",
            "\n",
            "      Epoch    GPU_mem   box_loss   cls_loss   dfl_loss  Instances       Size\n"
          ]
        },
        {
          "metadata": {
            "tags": null
          },
          "name": "stderr",
          "output_type": "stream",
          "text": [
            "    173/250      2.26G     0.5679     0.4436      1.008         15        640: 100%|██████████| 24/24 [00:09<00:00,  2.41it/s]\n",
            "                 Class     Images  Instances      Box(P          R      mAP50  mAP50-95): 100%|██████████| 4/4 [00:01<00:00,  2.84it/s]\n"
          ]
        },
        {
          "metadata": {
            "tags": null
          },
          "name": "stdout",
          "output_type": "stream",
          "text": [
            "                   all        111        114      0.672      0.754      0.753      0.503\n",
            "\n",
            "      Epoch    GPU_mem   box_loss   cls_loss   dfl_loss  Instances       Size\n"
          ]
        },
        {
          "output_type": "stream",
          "name": "stderr",
          "text": [
            "    174/250      2.28G     0.5832     0.4372      1.013         15        640: 100%|██████████| 24/24 [00:09<00:00,  2.46it/s]\n",
            "                 Class     Images  Instances      Box(P          R      mAP50  mAP50-95): 100%|██████████| 4/4 [00:01<00:00,  2.18it/s]"
          ]
        },
        {
          "output_type": "stream",
          "name": "stdout",
          "text": [
            "                   all        111        114      0.747      0.726      0.761      0.509\n"
          ]
        },
        {
          "output_type": "stream",
          "name": "stderr",
          "text": [
            "\n"
          ]
        },
        {
          "output_type": "stream",
          "name": "stdout",
          "text": [
            "\n",
            "      Epoch    GPU_mem   box_loss   cls_loss   dfl_loss  Instances       Size\n"
          ]
        },
        {
          "output_type": "stream",
          "name": "stderr",
          "text": [
            "    175/250      2.26G     0.5659     0.4627      1.009         21        640: 100%|██████████| 24/24 [00:08<00:00,  2.85it/s]\n",
            "                 Class     Images  Instances      Box(P          R      mAP50  mAP50-95): 100%|██████████| 4/4 [00:02<00:00,  1.59it/s]"
          ]
        },
        {
          "output_type": "stream",
          "name": "stdout",
          "text": [
            "                   all        111        114       0.72      0.755      0.787      0.545\n"
          ]
        },
        {
          "output_type": "stream",
          "name": "stderr",
          "text": [
            "\n"
          ]
        },
        {
          "output_type": "stream",
          "name": "stdout",
          "text": [
            "\n",
            "      Epoch    GPU_mem   box_loss   cls_loss   dfl_loss  Instances       Size\n"
          ]
        },
        {
          "output_type": "stream",
          "name": "stderr",
          "text": [
            "    176/250      2.17G     0.5681     0.4348     0.9919         16        640: 100%|██████████| 24/24 [00:08<00:00,  2.88it/s]\n",
            "                 Class     Images  Instances      Box(P          R      mAP50  mAP50-95): 100%|██████████| 4/4 [00:02<00:00,  1.99it/s]"
          ]
        },
        {
          "output_type": "stream",
          "name": "stdout",
          "text": [
            "                   all        111        114      0.682      0.728      0.785      0.532\n",
            "\u001b[34m\u001b[1mEarlyStopping: \u001b[0mTraining stopped early as no improvement observed in last 100 epochs. Best results observed at epoch 76, best model saved as best.pt.\n",
            "To update EarlyStopping(patience=100) pass a new patience value, i.e. `patience=300` or use `patience=0` to disable EarlyStopping.\n"
          ]
        },
        {
          "output_type": "stream",
          "name": "stderr",
          "text": [
            "\n"
          ]
        },
        {
          "output_type": "stream",
          "name": "stdout",
          "text": [
            "\n",
            "176 epochs completed in 0.622 hours.\n",
            "Optimizer stripped from runs/detect/train/weights/last.pt, 6.3MB\n",
            "Optimizer stripped from runs/detect/train/weights/best.pt, 6.3MB\n",
            "\n",
            "Validating runs/detect/train/weights/best.pt...\n",
            "Ultralytics YOLOv8.2.2 🚀 Python-3.10.12 torch-2.2.1+cu121 CUDA:0 (Tesla T4, 15102MiB)\n",
            "Model summary (fused): 168 layers, 3006233 parameters, 0 gradients, 8.1 GFLOPs\n"
          ]
        },
        {
          "output_type": "stream",
          "name": "stderr",
          "text": [
            "                 Class     Images  Instances      Box(P          R      mAP50  mAP50-95): 100%|██████████| 4/4 [00:03<00:00,  1.07it/s]\n"
          ]
        },
        {
          "output_type": "stream",
          "name": "stdout",
          "text": [
            "                   all        111        114      0.766      0.793      0.826      0.582\n",
            "         Fall Detected        111         72      0.888      0.792      0.903      0.634\n",
            "               Walking        111         23      0.578      0.957      0.833      0.549\n",
            "               Sitting        111         19      0.831      0.632      0.742      0.564\n",
            "Speed: 0.9ms preprocess, 4.8ms inference, 0.0ms loss, 8.1ms postprocess per image\n",
            "Results saved to \u001b[1mruns/detect/train\u001b[0m\n"
          ]
        }
      ]
    },
    {
      "cell_type": "code",
      "source": [],
      "metadata": {
        "id": "zlZkrDN1pArX"
      },
      "execution_count": null,
      "outputs": []
    },
    {
      "cell_type": "code",
      "source": [],
      "metadata": {
        "id": "PhfYSSR9pAxJ"
      },
      "execution_count": null,
      "outputs": []
    },
    {
      "cell_type": "code",
      "source": [],
      "metadata": {
        "id": "8dOhQwYPpA2u"
      },
      "execution_count": null,
      "outputs": []
    },
    {
      "cell_type": "code",
      "source": [],
      "metadata": {
        "id": "RoBH0COEpA9G"
      },
      "execution_count": null,
      "outputs": []
    },
    {
      "cell_type": "code",
      "source": [],
      "metadata": {
        "id": "Zmj0v09UpBGR"
      },
      "execution_count": null,
      "outputs": []
    },
    {
      "cell_type": "code",
      "source": [],
      "metadata": {
        "id": "UWA2VxdRpBJr"
      },
      "execution_count": null,
      "outputs": []
    },
    {
      "cell_type": "code",
      "source": [],
      "metadata": {
        "id": "wiAFKALrpBNh"
      },
      "execution_count": null,
      "outputs": []
    },
    {
      "cell_type": "code",
      "source": [],
      "metadata": {
        "id": "lPgTrIVepBTB"
      },
      "execution_count": null,
      "outputs": []
    },
    {
      "cell_type": "code",
      "source": [],
      "metadata": {
        "id": "-eBcQGWRpBY9"
      },
      "execution_count": null,
      "outputs": []
    },
    {
      "cell_type": "code",
      "source": [],
      "metadata": {
        "id": "pi_3b1WwpBec"
      },
      "execution_count": null,
      "outputs": []
    },
    {
      "cell_type": "code",
      "source": [],
      "metadata": {
        "id": "ClkLqSxspBkU"
      },
      "execution_count": null,
      "outputs": []
    },
    {
      "cell_type": "code",
      "source": [],
      "metadata": {
        "id": "W9_Qgu2MpBpZ"
      },
      "execution_count": null,
      "outputs": []
    },
    {
      "cell_type": "code",
      "source": [],
      "metadata": {
        "id": "4mKPvwLvpBuU"
      },
      "execution_count": null,
      "outputs": []
    },
    {
      "cell_type": "code",
      "source": [],
      "metadata": {
        "id": "7NtjW2glpBzN"
      },
      "execution_count": null,
      "outputs": []
    },
    {
      "cell_type": "markdown",
      "source": [],
      "metadata": {
        "id": "aBTak6ZNpB4x"
      }
    },
    {
      "cell_type": "code",
      "source": [],
      "metadata": {
        "id": "PSnFPkdqpCH6"
      },
      "execution_count": null,
      "outputs": []
    },
    {
      "cell_type": "code",
      "source": [],
      "metadata": {
        "id": "lHqGXbrapCYF"
      },
      "execution_count": null,
      "outputs": []
    },
    {
      "cell_type": "code",
      "source": [],
      "metadata": {
        "id": "I_BLy8S8pCgv"
      },
      "execution_count": null,
      "outputs": []
    },
    {
      "cell_type": "code",
      "source": [],
      "metadata": {
        "id": "RiNVblvrpC26"
      },
      "execution_count": null,
      "outputs": []
    },
    {
      "cell_type": "code",
      "source": [],
      "metadata": {
        "id": "QfSWlQiqpC_L"
      },
      "execution_count": null,
      "outputs": []
    }
  ]
}